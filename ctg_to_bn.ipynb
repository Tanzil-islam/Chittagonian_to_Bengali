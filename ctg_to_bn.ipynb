{
  "cells": [
    {
      "cell_type": "markdown",
      "metadata": {
        "id": "qjXsmyPcJnZt"
      },
      "source": [
        "## 1. Import Libraries"
      ]
    },
    {
      "cell_type": "code",
      "execution_count": 1,
      "metadata": {
        "id": "ad758c64"
      },
      "outputs": [],
      "source": [
        "\n",
        "\n",
        "import math\n",
        "import torchtext\n",
        "import torch\n",
        "import torch.nn as nn\n",
        "from torch import Tensor\n",
        "from collections import Counter\n",
        "from torchtext.vocab import Vocab\n",
        "from torch.utils.data import DataLoader\n",
        "from torch.nn.utils.rnn import pad_sequence\n",
        "\n",
        "import io\n",
        "import time\n",
        "import pickle\n",
        "import numpy as np\n",
        "import pandas as pd\n",
        "import sentencepiece as spm\n",
        "\n",
        "from torch.nn import TransformerEncoder, TransformerDecoder, TransformerEncoderLayer, TransformerDecoderLayer\n",
        "torch.manual_seed(0)\n",
        "device = torch.device('cuda' if torch.cuda.is_available() else 'cpu')"
      ]
    },
    {
      "cell_type": "code",
      "execution_count": 2,
      "metadata": {
        "colab": {
          "base_uri": "https://localhost:8080/"
        },
        "id": "o735S2fNZpbS",
        "outputId": "286b42ec-e28b-4601-ceb1-332570369bda"
      },
      "outputs": [
        {
          "output_type": "stream",
          "name": "stdout",
          "text": [
            "device:  cuda\n"
          ]
        }
      ],
      "source": [
        "print('device: ',device)"
      ]
    },
    {
      "cell_type": "markdown",
      "metadata": {
        "id": "Wf_u1r2CH9Nc"
      },
      "source": [
        "# 2. Drive Mount"
      ]
    },
    {
      "cell_type": "code",
      "execution_count": 3,
      "metadata": {
        "colab": {
          "base_uri": "https://localhost:8080/"
        },
        "id": "QwYe2-6IuCmO",
        "outputId": "f746c640-33f5-427f-e90c-f8eefb781e2c"
      },
      "outputs": [
        {
          "output_type": "stream",
          "name": "stdout",
          "text": [
            "Mounted at /content/drive\n"
          ]
        }
      ],
      "source": [
        "from google.colab import drive\n",
        "drive.mount('/content/drive')"
      ]
    },
    {
      "cell_type": "markdown",
      "metadata": {
        "id": "dNyjyE-fCLYU"
      },
      "source": [
        "## 3. Analysis the Dataset"
      ]
    },
    {
      "cell_type": "code",
      "execution_count": 5,
      "metadata": {
        "colab": {
          "base_uri": "https://localhost:8080/",
          "height": 226
        },
        "id": "FqsVMH-dvy0z",
        "outputId": "c2aeaac7-8fdb-496b-ea54-1189d468907f"
      },
      "outputs": [
        {
          "output_type": "execute_result",
          "data": {
            "text/plain": [
              "                    Chittagonian                     Bengali\n",
              "0                            আঁর                        আমার\n",
              "1                          বাড়ি                        বারি\n",
              "2                          আঁরার                      আমাদের\n",
              "3  আঁরো বারিত কনো কিয়া নো আইয়ি  আমাদের বাড়িতে কেউ আসে নাই\n",
              "4                         আলমিরা                      আলমারি"
            ],
            "text/html": [
              "\n",
              "  <div id=\"df-ad72fcdf-553e-4ddd-839d-957e1c40771c\" class=\"colab-df-container\">\n",
              "    <div>\n",
              "<style scoped>\n",
              "    .dataframe tbody tr th:only-of-type {\n",
              "        vertical-align: middle;\n",
              "    }\n",
              "\n",
              "    .dataframe tbody tr th {\n",
              "        vertical-align: top;\n",
              "    }\n",
              "\n",
              "    .dataframe thead th {\n",
              "        text-align: right;\n",
              "    }\n",
              "</style>\n",
              "<table border=\"1\" class=\"dataframe\">\n",
              "  <thead>\n",
              "    <tr style=\"text-align: right;\">\n",
              "      <th></th>\n",
              "      <th>Chittagonian</th>\n",
              "      <th>Bengali</th>\n",
              "    </tr>\n",
              "  </thead>\n",
              "  <tbody>\n",
              "    <tr>\n",
              "      <th>0</th>\n",
              "      <td>আঁর</td>\n",
              "      <td>আমার</td>\n",
              "    </tr>\n",
              "    <tr>\n",
              "      <th>1</th>\n",
              "      <td>বাড়ি</td>\n",
              "      <td>বারি</td>\n",
              "    </tr>\n",
              "    <tr>\n",
              "      <th>2</th>\n",
              "      <td>আঁরার</td>\n",
              "      <td>আমাদের</td>\n",
              "    </tr>\n",
              "    <tr>\n",
              "      <th>3</th>\n",
              "      <td>আঁরো বারিত কনো কিয়া নো আইয়ি</td>\n",
              "      <td>আমাদের বাড়িতে কেউ আসে নাই</td>\n",
              "    </tr>\n",
              "    <tr>\n",
              "      <th>4</th>\n",
              "      <td>আলমিরা</td>\n",
              "      <td>আলমারি</td>\n",
              "    </tr>\n",
              "  </tbody>\n",
              "</table>\n",
              "</div>\n",
              "    <div class=\"colab-df-buttons\">\n",
              "\n",
              "  <div class=\"colab-df-container\">\n",
              "    <button class=\"colab-df-convert\" onclick=\"convertToInteractive('df-ad72fcdf-553e-4ddd-839d-957e1c40771c')\"\n",
              "            title=\"Convert this dataframe to an interactive table.\"\n",
              "            style=\"display:none;\">\n",
              "\n",
              "  <svg xmlns=\"http://www.w3.org/2000/svg\" height=\"24px\" viewBox=\"0 -960 960 960\">\n",
              "    <path d=\"M120-120v-720h720v720H120Zm60-500h600v-160H180v160Zm220 220h160v-160H400v160Zm0 220h160v-160H400v160ZM180-400h160v-160H180v160Zm440 0h160v-160H620v160ZM180-180h160v-160H180v160Zm440 0h160v-160H620v160Z\"/>\n",
              "  </svg>\n",
              "    </button>\n",
              "\n",
              "  <style>\n",
              "    .colab-df-container {\n",
              "      display:flex;\n",
              "      gap: 12px;\n",
              "    }\n",
              "\n",
              "    .colab-df-convert {\n",
              "      background-color: #E8F0FE;\n",
              "      border: none;\n",
              "      border-radius: 50%;\n",
              "      cursor: pointer;\n",
              "      display: none;\n",
              "      fill: #1967D2;\n",
              "      height: 32px;\n",
              "      padding: 0 0 0 0;\n",
              "      width: 32px;\n",
              "    }\n",
              "\n",
              "    .colab-df-convert:hover {\n",
              "      background-color: #E2EBFA;\n",
              "      box-shadow: 0px 1px 2px rgba(60, 64, 67, 0.3), 0px 1px 3px 1px rgba(60, 64, 67, 0.15);\n",
              "      fill: #174EA6;\n",
              "    }\n",
              "\n",
              "    .colab-df-buttons div {\n",
              "      margin-bottom: 4px;\n",
              "    }\n",
              "\n",
              "    [theme=dark] .colab-df-convert {\n",
              "      background-color: #3B4455;\n",
              "      fill: #D2E3FC;\n",
              "    }\n",
              "\n",
              "    [theme=dark] .colab-df-convert:hover {\n",
              "      background-color: #434B5C;\n",
              "      box-shadow: 0px 1px 3px 1px rgba(0, 0, 0, 0.15);\n",
              "      filter: drop-shadow(0px 1px 2px rgba(0, 0, 0, 0.3));\n",
              "      fill: #FFFFFF;\n",
              "    }\n",
              "  </style>\n",
              "\n",
              "    <script>\n",
              "      const buttonEl =\n",
              "        document.querySelector('#df-ad72fcdf-553e-4ddd-839d-957e1c40771c button.colab-df-convert');\n",
              "      buttonEl.style.display =\n",
              "        google.colab.kernel.accessAllowed ? 'block' : 'none';\n",
              "\n",
              "      async function convertToInteractive(key) {\n",
              "        const element = document.querySelector('#df-ad72fcdf-553e-4ddd-839d-957e1c40771c');\n",
              "        const dataTable =\n",
              "          await google.colab.kernel.invokeFunction('convertToInteractive',\n",
              "                                                    [key], {});\n",
              "        if (!dataTable) return;\n",
              "\n",
              "        const docLinkHtml = 'Like what you see? Visit the ' +\n",
              "          '<a target=\"_blank\" href=https://colab.research.google.com/notebooks/data_table.ipynb>data table notebook</a>'\n",
              "          + ' to learn more about interactive tables.';\n",
              "        element.innerHTML = '';\n",
              "        dataTable['output_type'] = 'display_data';\n",
              "        await google.colab.output.renderOutput(dataTable, element);\n",
              "        const docLink = document.createElement('div');\n",
              "        docLink.innerHTML = docLinkHtml;\n",
              "        element.appendChild(docLink);\n",
              "      }\n",
              "    </script>\n",
              "  </div>\n",
              "\n",
              "\n",
              "<div id=\"df-df8797ce-515a-42a9-b383-fb9ccb0fd4f3\">\n",
              "  <button class=\"colab-df-quickchart\" onclick=\"quickchart('df-df8797ce-515a-42a9-b383-fb9ccb0fd4f3')\"\n",
              "            title=\"Suggest charts\"\n",
              "            style=\"display:none;\">\n",
              "\n",
              "<svg xmlns=\"http://www.w3.org/2000/svg\" height=\"24px\"viewBox=\"0 0 24 24\"\n",
              "     width=\"24px\">\n",
              "    <g>\n",
              "        <path d=\"M19 3H5c-1.1 0-2 .9-2 2v14c0 1.1.9 2 2 2h14c1.1 0 2-.9 2-2V5c0-1.1-.9-2-2-2zM9 17H7v-7h2v7zm4 0h-2V7h2v10zm4 0h-2v-4h2v4z\"/>\n",
              "    </g>\n",
              "</svg>\n",
              "  </button>\n",
              "\n",
              "<style>\n",
              "  .colab-df-quickchart {\n",
              "      --bg-color: #E8F0FE;\n",
              "      --fill-color: #1967D2;\n",
              "      --hover-bg-color: #E2EBFA;\n",
              "      --hover-fill-color: #174EA6;\n",
              "      --disabled-fill-color: #AAA;\n",
              "      --disabled-bg-color: #DDD;\n",
              "  }\n",
              "\n",
              "  [theme=dark] .colab-df-quickchart {\n",
              "      --bg-color: #3B4455;\n",
              "      --fill-color: #D2E3FC;\n",
              "      --hover-bg-color: #434B5C;\n",
              "      --hover-fill-color: #FFFFFF;\n",
              "      --disabled-bg-color: #3B4455;\n",
              "      --disabled-fill-color: #666;\n",
              "  }\n",
              "\n",
              "  .colab-df-quickchart {\n",
              "    background-color: var(--bg-color);\n",
              "    border: none;\n",
              "    border-radius: 50%;\n",
              "    cursor: pointer;\n",
              "    display: none;\n",
              "    fill: var(--fill-color);\n",
              "    height: 32px;\n",
              "    padding: 0;\n",
              "    width: 32px;\n",
              "  }\n",
              "\n",
              "  .colab-df-quickchart:hover {\n",
              "    background-color: var(--hover-bg-color);\n",
              "    box-shadow: 0 1px 2px rgba(60, 64, 67, 0.3), 0 1px 3px 1px rgba(60, 64, 67, 0.15);\n",
              "    fill: var(--button-hover-fill-color);\n",
              "  }\n",
              "\n",
              "  .colab-df-quickchart-complete:disabled,\n",
              "  .colab-df-quickchart-complete:disabled:hover {\n",
              "    background-color: var(--disabled-bg-color);\n",
              "    fill: var(--disabled-fill-color);\n",
              "    box-shadow: none;\n",
              "  }\n",
              "\n",
              "  .colab-df-spinner {\n",
              "    border: 2px solid var(--fill-color);\n",
              "    border-color: transparent;\n",
              "    border-bottom-color: var(--fill-color);\n",
              "    animation:\n",
              "      spin 1s steps(1) infinite;\n",
              "  }\n",
              "\n",
              "  @keyframes spin {\n",
              "    0% {\n",
              "      border-color: transparent;\n",
              "      border-bottom-color: var(--fill-color);\n",
              "      border-left-color: var(--fill-color);\n",
              "    }\n",
              "    20% {\n",
              "      border-color: transparent;\n",
              "      border-left-color: var(--fill-color);\n",
              "      border-top-color: var(--fill-color);\n",
              "    }\n",
              "    30% {\n",
              "      border-color: transparent;\n",
              "      border-left-color: var(--fill-color);\n",
              "      border-top-color: var(--fill-color);\n",
              "      border-right-color: var(--fill-color);\n",
              "    }\n",
              "    40% {\n",
              "      border-color: transparent;\n",
              "      border-right-color: var(--fill-color);\n",
              "      border-top-color: var(--fill-color);\n",
              "    }\n",
              "    60% {\n",
              "      border-color: transparent;\n",
              "      border-right-color: var(--fill-color);\n",
              "    }\n",
              "    80% {\n",
              "      border-color: transparent;\n",
              "      border-right-color: var(--fill-color);\n",
              "      border-bottom-color: var(--fill-color);\n",
              "    }\n",
              "    90% {\n",
              "      border-color: transparent;\n",
              "      border-bottom-color: var(--fill-color);\n",
              "    }\n",
              "  }\n",
              "</style>\n",
              "\n",
              "  <script>\n",
              "    async function quickchart(key) {\n",
              "      const quickchartButtonEl =\n",
              "        document.querySelector('#' + key + ' button');\n",
              "      quickchartButtonEl.disabled = true;  // To prevent multiple clicks.\n",
              "      quickchartButtonEl.classList.add('colab-df-spinner');\n",
              "      try {\n",
              "        const charts = await google.colab.kernel.invokeFunction(\n",
              "            'suggestCharts', [key], {});\n",
              "      } catch (error) {\n",
              "        console.error('Error during call to suggestCharts:', error);\n",
              "      }\n",
              "      quickchartButtonEl.classList.remove('colab-df-spinner');\n",
              "      quickchartButtonEl.classList.add('colab-df-quickchart-complete');\n",
              "    }\n",
              "    (() => {\n",
              "      let quickchartButtonEl =\n",
              "        document.querySelector('#df-df8797ce-515a-42a9-b383-fb9ccb0fd4f3 button');\n",
              "      quickchartButtonEl.style.display =\n",
              "        google.colab.kernel.accessAllowed ? 'block' : 'none';\n",
              "    })();\n",
              "  </script>\n",
              "</div>\n",
              "    </div>\n",
              "  </div>\n"
            ],
            "application/vnd.google.colaboratory.intrinsic+json": {
              "type": "dataframe",
              "variable_name": "df",
              "summary": "{\n  \"name\": \"df\",\n  \"rows\": 1103,\n  \"fields\": [\n    {\n      \"column\": \"Chittagonian\",\n      \"properties\": {\n        \"dtype\": \"string\",\n        \"num_unique_values\": 941,\n        \"samples\": [\n          \"\\u0995\\u09be\\u09b6\\u09bf\\u09b0 \\u0985\\u09b6\\u09c1\\u09a6\\u09cd\\u200c \\u0996\",\n          \"\\u0986\\u0993\\u09b8\\u09cd\\u200c\\u09a4\\u09be\",\n          \"\\u0986\\u0981\\u099a\\u09c1\\u2019\\u09b0\\u09a8\\u09cd\\u200c\"\n        ],\n        \"semantic_type\": \"\",\n        \"description\": \"\"\n      }\n    },\n    {\n      \"column\": \"Bengali\",\n      \"properties\": {\n        \"dtype\": \"string\",\n        \"num_unique_values\": 939,\n        \"samples\": [\n          \"\\u09a4\\u09cb\\u09b0\\u09c7 \\u09ac\\u09cb\\u0995\\u09be \\u09ac\\u09be\\u09a8\\u09be\\u0987\\u09b2\\u09cb\",\n          \"\\u0995\\u09c1\\u0995\\u09c1\\u09b0\",\n          \"\\u0985\\u09b8\\u09ae\\u09af\\u09bc\\u09c7\\u09b0\"\n        ],\n        \"semantic_type\": \"\",\n        \"description\": \"\"\n      }\n    }\n  ]\n}"
            }
          },
          "metadata": {},
          "execution_count": 5
        }
      ],
      "source": [
        "dataset_path='/content/drive/MyDrive/research and innovation/nlp2.csv'\n",
        "df=pd.read_csv(dataset_path)\n",
        "df.head()"
      ]
    },
    {
      "cell_type": "code",
      "execution_count": 6,
      "metadata": {
        "colab": {
          "base_uri": "https://localhost:8080/"
        },
        "id": "JMVfTCAOmw9k",
        "outputId": "7906488f-8634-4d60-9b55-24e0f3f81a9e"
      },
      "outputs": [
        {
          "output_type": "stream",
          "name": "stdout",
          "text": [
            "<class 'pandas.core.frame.DataFrame'>\n",
            "RangeIndex: 1103 entries, 0 to 1102\n",
            "Data columns (total 2 columns):\n",
            " #   Column        Non-Null Count  Dtype \n",
            "---  ------        --------------  ----- \n",
            " 0   Chittagonian  1103 non-null   object\n",
            " 1   Bengali       1103 non-null   object\n",
            "dtypes: object(2)\n",
            "memory usage: 17.4+ KB\n"
          ]
        }
      ],
      "source": [
        "df.info()"
      ]
    },
    {
      "cell_type": "markdown",
      "metadata": {
        "id": "qK4RdKxqnjwc"
      },
      "source": [
        "### Check unique values in dataframe"
      ]
    },
    {
      "cell_type": "code",
      "execution_count": 7,
      "metadata": {
        "id": "mqRtGJ2tm7z3"
      },
      "outputs": [],
      "source": [
        "def report_data_types_uniques_check(df):\n",
        "    col = []\n",
        "    d_type = []\n",
        "    uniques = []\n",
        "    n_uniques = []\n",
        "\n",
        "    for i in df.columns:\n",
        "        col.append(i)\n",
        "        d_type.append(df[i].dtypes)\n",
        "        uniques.append(df[i].unique()[:5])\n",
        "        n_uniques.append(df[i].nunique())\n",
        "\n",
        "    return pd.DataFrame({'Column': col, 'd_type': d_type, 'unique_sample': uniques, 'n_uniques': n_uniques})"
      ]
    },
    {
      "cell_type": "code",
      "execution_count": 8,
      "metadata": {
        "colab": {
          "base_uri": "https://localhost:8080/",
          "height": 132
        },
        "id": "zf2mchi3m-wY",
        "outputId": "6aa71140-4b0e-41e7-ba0a-9aaf295fe2b2"
      },
      "outputs": [
        {
          "output_type": "execute_result",
          "data": {
            "text/plain": [
              "         Column  d_type                                      unique_sample  \\\n",
              "0  Chittagonian  object  [আঁর, বাড়ি, আঁরার, আঁরো বারিত কনো কিয়া নো আই...   \n",
              "1       Bengali  object  [আমার, বারি, আমাদের, আমাদের বাড়িতে কেউ আসে না...   \n",
              "\n",
              "   n_uniques  \n",
              "0        941  \n",
              "1        939  "
            ],
            "text/html": [
              "\n",
              "  <div id=\"df-8c725864-db62-4bd0-8d8b-7d92e9977820\" class=\"colab-df-container\">\n",
              "    <div>\n",
              "<style scoped>\n",
              "    .dataframe tbody tr th:only-of-type {\n",
              "        vertical-align: middle;\n",
              "    }\n",
              "\n",
              "    .dataframe tbody tr th {\n",
              "        vertical-align: top;\n",
              "    }\n",
              "\n",
              "    .dataframe thead th {\n",
              "        text-align: right;\n",
              "    }\n",
              "</style>\n",
              "<table border=\"1\" class=\"dataframe\">\n",
              "  <thead>\n",
              "    <tr style=\"text-align: right;\">\n",
              "      <th></th>\n",
              "      <th>Column</th>\n",
              "      <th>d_type</th>\n",
              "      <th>unique_sample</th>\n",
              "      <th>n_uniques</th>\n",
              "    </tr>\n",
              "  </thead>\n",
              "  <tbody>\n",
              "    <tr>\n",
              "      <th>0</th>\n",
              "      <td>Chittagonian</td>\n",
              "      <td>object</td>\n",
              "      <td>[আঁর, বাড়ি, আঁরার, আঁরো বারিত কনো কিয়া নো আই...</td>\n",
              "      <td>941</td>\n",
              "    </tr>\n",
              "    <tr>\n",
              "      <th>1</th>\n",
              "      <td>Bengali</td>\n",
              "      <td>object</td>\n",
              "      <td>[আমার, বারি, আমাদের, আমাদের বাড়িতে কেউ আসে না...</td>\n",
              "      <td>939</td>\n",
              "    </tr>\n",
              "  </tbody>\n",
              "</table>\n",
              "</div>\n",
              "    <div class=\"colab-df-buttons\">\n",
              "\n",
              "  <div class=\"colab-df-container\">\n",
              "    <button class=\"colab-df-convert\" onclick=\"convertToInteractive('df-8c725864-db62-4bd0-8d8b-7d92e9977820')\"\n",
              "            title=\"Convert this dataframe to an interactive table.\"\n",
              "            style=\"display:none;\">\n",
              "\n",
              "  <svg xmlns=\"http://www.w3.org/2000/svg\" height=\"24px\" viewBox=\"0 -960 960 960\">\n",
              "    <path d=\"M120-120v-720h720v720H120Zm60-500h600v-160H180v160Zm220 220h160v-160H400v160Zm0 220h160v-160H400v160ZM180-400h160v-160H180v160Zm440 0h160v-160H620v160ZM180-180h160v-160H180v160Zm440 0h160v-160H620v160Z\"/>\n",
              "  </svg>\n",
              "    </button>\n",
              "\n",
              "  <style>\n",
              "    .colab-df-container {\n",
              "      display:flex;\n",
              "      gap: 12px;\n",
              "    }\n",
              "\n",
              "    .colab-df-convert {\n",
              "      background-color: #E8F0FE;\n",
              "      border: none;\n",
              "      border-radius: 50%;\n",
              "      cursor: pointer;\n",
              "      display: none;\n",
              "      fill: #1967D2;\n",
              "      height: 32px;\n",
              "      padding: 0 0 0 0;\n",
              "      width: 32px;\n",
              "    }\n",
              "\n",
              "    .colab-df-convert:hover {\n",
              "      background-color: #E2EBFA;\n",
              "      box-shadow: 0px 1px 2px rgba(60, 64, 67, 0.3), 0px 1px 3px 1px rgba(60, 64, 67, 0.15);\n",
              "      fill: #174EA6;\n",
              "    }\n",
              "\n",
              "    .colab-df-buttons div {\n",
              "      margin-bottom: 4px;\n",
              "    }\n",
              "\n",
              "    [theme=dark] .colab-df-convert {\n",
              "      background-color: #3B4455;\n",
              "      fill: #D2E3FC;\n",
              "    }\n",
              "\n",
              "    [theme=dark] .colab-df-convert:hover {\n",
              "      background-color: #434B5C;\n",
              "      box-shadow: 0px 1px 3px 1px rgba(0, 0, 0, 0.15);\n",
              "      filter: drop-shadow(0px 1px 2px rgba(0, 0, 0, 0.3));\n",
              "      fill: #FFFFFF;\n",
              "    }\n",
              "  </style>\n",
              "\n",
              "    <script>\n",
              "      const buttonEl =\n",
              "        document.querySelector('#df-8c725864-db62-4bd0-8d8b-7d92e9977820 button.colab-df-convert');\n",
              "      buttonEl.style.display =\n",
              "        google.colab.kernel.accessAllowed ? 'block' : 'none';\n",
              "\n",
              "      async function convertToInteractive(key) {\n",
              "        const element = document.querySelector('#df-8c725864-db62-4bd0-8d8b-7d92e9977820');\n",
              "        const dataTable =\n",
              "          await google.colab.kernel.invokeFunction('convertToInteractive',\n",
              "                                                    [key], {});\n",
              "        if (!dataTable) return;\n",
              "\n",
              "        const docLinkHtml = 'Like what you see? Visit the ' +\n",
              "          '<a target=\"_blank\" href=https://colab.research.google.com/notebooks/data_table.ipynb>data table notebook</a>'\n",
              "          + ' to learn more about interactive tables.';\n",
              "        element.innerHTML = '';\n",
              "        dataTable['output_type'] = 'display_data';\n",
              "        await google.colab.output.renderOutput(dataTable, element);\n",
              "        const docLink = document.createElement('div');\n",
              "        docLink.innerHTML = docLinkHtml;\n",
              "        element.appendChild(docLink);\n",
              "      }\n",
              "    </script>\n",
              "  </div>\n",
              "\n",
              "\n",
              "<div id=\"df-2670df91-33c5-4e71-a5ac-3ee5dd9f4419\">\n",
              "  <button class=\"colab-df-quickchart\" onclick=\"quickchart('df-2670df91-33c5-4e71-a5ac-3ee5dd9f4419')\"\n",
              "            title=\"Suggest charts\"\n",
              "            style=\"display:none;\">\n",
              "\n",
              "<svg xmlns=\"http://www.w3.org/2000/svg\" height=\"24px\"viewBox=\"0 0 24 24\"\n",
              "     width=\"24px\">\n",
              "    <g>\n",
              "        <path d=\"M19 3H5c-1.1 0-2 .9-2 2v14c0 1.1.9 2 2 2h14c1.1 0 2-.9 2-2V5c0-1.1-.9-2-2-2zM9 17H7v-7h2v7zm4 0h-2V7h2v10zm4 0h-2v-4h2v4z\"/>\n",
              "    </g>\n",
              "</svg>\n",
              "  </button>\n",
              "\n",
              "<style>\n",
              "  .colab-df-quickchart {\n",
              "      --bg-color: #E8F0FE;\n",
              "      --fill-color: #1967D2;\n",
              "      --hover-bg-color: #E2EBFA;\n",
              "      --hover-fill-color: #174EA6;\n",
              "      --disabled-fill-color: #AAA;\n",
              "      --disabled-bg-color: #DDD;\n",
              "  }\n",
              "\n",
              "  [theme=dark] .colab-df-quickchart {\n",
              "      --bg-color: #3B4455;\n",
              "      --fill-color: #D2E3FC;\n",
              "      --hover-bg-color: #434B5C;\n",
              "      --hover-fill-color: #FFFFFF;\n",
              "      --disabled-bg-color: #3B4455;\n",
              "      --disabled-fill-color: #666;\n",
              "  }\n",
              "\n",
              "  .colab-df-quickchart {\n",
              "    background-color: var(--bg-color);\n",
              "    border: none;\n",
              "    border-radius: 50%;\n",
              "    cursor: pointer;\n",
              "    display: none;\n",
              "    fill: var(--fill-color);\n",
              "    height: 32px;\n",
              "    padding: 0;\n",
              "    width: 32px;\n",
              "  }\n",
              "\n",
              "  .colab-df-quickchart:hover {\n",
              "    background-color: var(--hover-bg-color);\n",
              "    box-shadow: 0 1px 2px rgba(60, 64, 67, 0.3), 0 1px 3px 1px rgba(60, 64, 67, 0.15);\n",
              "    fill: var(--button-hover-fill-color);\n",
              "  }\n",
              "\n",
              "  .colab-df-quickchart-complete:disabled,\n",
              "  .colab-df-quickchart-complete:disabled:hover {\n",
              "    background-color: var(--disabled-bg-color);\n",
              "    fill: var(--disabled-fill-color);\n",
              "    box-shadow: none;\n",
              "  }\n",
              "\n",
              "  .colab-df-spinner {\n",
              "    border: 2px solid var(--fill-color);\n",
              "    border-color: transparent;\n",
              "    border-bottom-color: var(--fill-color);\n",
              "    animation:\n",
              "      spin 1s steps(1) infinite;\n",
              "  }\n",
              "\n",
              "  @keyframes spin {\n",
              "    0% {\n",
              "      border-color: transparent;\n",
              "      border-bottom-color: var(--fill-color);\n",
              "      border-left-color: var(--fill-color);\n",
              "    }\n",
              "    20% {\n",
              "      border-color: transparent;\n",
              "      border-left-color: var(--fill-color);\n",
              "      border-top-color: var(--fill-color);\n",
              "    }\n",
              "    30% {\n",
              "      border-color: transparent;\n",
              "      border-left-color: var(--fill-color);\n",
              "      border-top-color: var(--fill-color);\n",
              "      border-right-color: var(--fill-color);\n",
              "    }\n",
              "    40% {\n",
              "      border-color: transparent;\n",
              "      border-right-color: var(--fill-color);\n",
              "      border-top-color: var(--fill-color);\n",
              "    }\n",
              "    60% {\n",
              "      border-color: transparent;\n",
              "      border-right-color: var(--fill-color);\n",
              "    }\n",
              "    80% {\n",
              "      border-color: transparent;\n",
              "      border-right-color: var(--fill-color);\n",
              "      border-bottom-color: var(--fill-color);\n",
              "    }\n",
              "    90% {\n",
              "      border-color: transparent;\n",
              "      border-bottom-color: var(--fill-color);\n",
              "    }\n",
              "  }\n",
              "</style>\n",
              "\n",
              "  <script>\n",
              "    async function quickchart(key) {\n",
              "      const quickchartButtonEl =\n",
              "        document.querySelector('#' + key + ' button');\n",
              "      quickchartButtonEl.disabled = true;  // To prevent multiple clicks.\n",
              "      quickchartButtonEl.classList.add('colab-df-spinner');\n",
              "      try {\n",
              "        const charts = await google.colab.kernel.invokeFunction(\n",
              "            'suggestCharts', [key], {});\n",
              "      } catch (error) {\n",
              "        console.error('Error during call to suggestCharts:', error);\n",
              "      }\n",
              "      quickchartButtonEl.classList.remove('colab-df-spinner');\n",
              "      quickchartButtonEl.classList.add('colab-df-quickchart-complete');\n",
              "    }\n",
              "    (() => {\n",
              "      let quickchartButtonEl =\n",
              "        document.querySelector('#df-2670df91-33c5-4e71-a5ac-3ee5dd9f4419 button');\n",
              "      quickchartButtonEl.style.display =\n",
              "        google.colab.kernel.accessAllowed ? 'block' : 'none';\n",
              "    })();\n",
              "  </script>\n",
              "</div>\n",
              "    </div>\n",
              "  </div>\n"
            ],
            "application/vnd.google.colaboratory.intrinsic+json": {
              "type": "dataframe",
              "summary": "{\n  \"name\": \"report_data_types_uniques_check(df)\",\n  \"rows\": 2,\n  \"fields\": [\n    {\n      \"column\": \"Column\",\n      \"properties\": {\n        \"dtype\": \"string\",\n        \"num_unique_values\": 2,\n        \"samples\": [\n          \"Bengali\",\n          \"Chittagonian\"\n        ],\n        \"semantic_type\": \"\",\n        \"description\": \"\"\n      }\n    },\n    {\n      \"column\": \"d_type\",\n      \"properties\": {\n        \"dtype\": \"string\",\n        \"num_unique_values\": 1,\n        \"samples\": [\n          \"object\"\n        ],\n        \"semantic_type\": \"\",\n        \"description\": \"\"\n      }\n    },\n    {\n      \"column\": \"unique_sample\",\n      \"properties\": {\n        \"dtype\": \"object\",\n        \"semantic_type\": \"\",\n        \"description\": \"\"\n      }\n    },\n    {\n      \"column\": \"n_uniques\",\n      \"properties\": {\n        \"dtype\": \"number\",\n        \"std\": 1,\n        \"min\": 939,\n        \"max\": 941,\n        \"num_unique_values\": 2,\n        \"samples\": [\n          939\n        ],\n        \"semantic_type\": \"\",\n        \"description\": \"\"\n      }\n    }\n  ]\n}"
            }
          },
          "metadata": {},
          "execution_count": 8
        }
      ],
      "source": [
        "report_data_types_uniques_check(df)"
      ]
    },
    {
      "cell_type": "code",
      "execution_count": 9,
      "metadata": {
        "colab": {
          "base_uri": "https://localhost:8080/"
        },
        "id": "QomYiowGnFGD",
        "outputId": "da37827b-34cb-4a02-f561-72f37e62e9df"
      },
      "outputs": [
        {
          "output_type": "execute_result",
          "data": {
            "text/plain": [
              "Chittagonian    0\n",
              "Bengali         0\n",
              "dtype: int64"
            ]
          },
          "metadata": {},
          "execution_count": 9
        }
      ],
      "source": [
        "# check missing values\n",
        "df.isnull().sum()"
      ]
    },
    {
      "cell_type": "markdown",
      "metadata": {
        "id": "N0Kt7B_tCUy8"
      },
      "source": [
        "### Select top 1000 data for the project"
      ]
    },
    {
      "cell_type": "code",
      "execution_count": 10,
      "metadata": {
        "colab": {
          "base_uri": "https://localhost:8080/",
          "height": 226
        },
        "id": "7TFNL3Pkv7Iz",
        "outputId": "b5554166-3c65-4852-efc8-f8cab866ff99"
      },
      "outputs": [
        {
          "output_type": "execute_result",
          "data": {
            "text/plain": [
              "                    Chittagonian                     Bengali\n",
              "0                            আঁর                        আমার\n",
              "1                          বাড়ি                        বারি\n",
              "2                          আঁরার                      আমাদের\n",
              "3  আঁরো বারিত কনো কিয়া নো আইয়ি  আমাদের বাড়িতে কেউ আসে নাই\n",
              "4                         আলমিরা                      আলমারি"
            ],
            "text/html": [
              "\n",
              "  <div id=\"df-a82977e5-9fa9-4de1-a946-ee3b8f2b84f6\" class=\"colab-df-container\">\n",
              "    <div>\n",
              "<style scoped>\n",
              "    .dataframe tbody tr th:only-of-type {\n",
              "        vertical-align: middle;\n",
              "    }\n",
              "\n",
              "    .dataframe tbody tr th {\n",
              "        vertical-align: top;\n",
              "    }\n",
              "\n",
              "    .dataframe thead th {\n",
              "        text-align: right;\n",
              "    }\n",
              "</style>\n",
              "<table border=\"1\" class=\"dataframe\">\n",
              "  <thead>\n",
              "    <tr style=\"text-align: right;\">\n",
              "      <th></th>\n",
              "      <th>Chittagonian</th>\n",
              "      <th>Bengali</th>\n",
              "    </tr>\n",
              "  </thead>\n",
              "  <tbody>\n",
              "    <tr>\n",
              "      <th>0</th>\n",
              "      <td>আঁর</td>\n",
              "      <td>আমার</td>\n",
              "    </tr>\n",
              "    <tr>\n",
              "      <th>1</th>\n",
              "      <td>বাড়ি</td>\n",
              "      <td>বারি</td>\n",
              "    </tr>\n",
              "    <tr>\n",
              "      <th>2</th>\n",
              "      <td>আঁরার</td>\n",
              "      <td>আমাদের</td>\n",
              "    </tr>\n",
              "    <tr>\n",
              "      <th>3</th>\n",
              "      <td>আঁরো বারিত কনো কিয়া নো আইয়ি</td>\n",
              "      <td>আমাদের বাড়িতে কেউ আসে নাই</td>\n",
              "    </tr>\n",
              "    <tr>\n",
              "      <th>4</th>\n",
              "      <td>আলমিরা</td>\n",
              "      <td>আলমারি</td>\n",
              "    </tr>\n",
              "  </tbody>\n",
              "</table>\n",
              "</div>\n",
              "    <div class=\"colab-df-buttons\">\n",
              "\n",
              "  <div class=\"colab-df-container\">\n",
              "    <button class=\"colab-df-convert\" onclick=\"convertToInteractive('df-a82977e5-9fa9-4de1-a946-ee3b8f2b84f6')\"\n",
              "            title=\"Convert this dataframe to an interactive table.\"\n",
              "            style=\"display:none;\">\n",
              "\n",
              "  <svg xmlns=\"http://www.w3.org/2000/svg\" height=\"24px\" viewBox=\"0 -960 960 960\">\n",
              "    <path d=\"M120-120v-720h720v720H120Zm60-500h600v-160H180v160Zm220 220h160v-160H400v160Zm0 220h160v-160H400v160ZM180-400h160v-160H180v160Zm440 0h160v-160H620v160ZM180-180h160v-160H180v160Zm440 0h160v-160H620v160Z\"/>\n",
              "  </svg>\n",
              "    </button>\n",
              "\n",
              "  <style>\n",
              "    .colab-df-container {\n",
              "      display:flex;\n",
              "      gap: 12px;\n",
              "    }\n",
              "\n",
              "    .colab-df-convert {\n",
              "      background-color: #E8F0FE;\n",
              "      border: none;\n",
              "      border-radius: 50%;\n",
              "      cursor: pointer;\n",
              "      display: none;\n",
              "      fill: #1967D2;\n",
              "      height: 32px;\n",
              "      padding: 0 0 0 0;\n",
              "      width: 32px;\n",
              "    }\n",
              "\n",
              "    .colab-df-convert:hover {\n",
              "      background-color: #E2EBFA;\n",
              "      box-shadow: 0px 1px 2px rgba(60, 64, 67, 0.3), 0px 1px 3px 1px rgba(60, 64, 67, 0.15);\n",
              "      fill: #174EA6;\n",
              "    }\n",
              "\n",
              "    .colab-df-buttons div {\n",
              "      margin-bottom: 4px;\n",
              "    }\n",
              "\n",
              "    [theme=dark] .colab-df-convert {\n",
              "      background-color: #3B4455;\n",
              "      fill: #D2E3FC;\n",
              "    }\n",
              "\n",
              "    [theme=dark] .colab-df-convert:hover {\n",
              "      background-color: #434B5C;\n",
              "      box-shadow: 0px 1px 3px 1px rgba(0, 0, 0, 0.15);\n",
              "      filter: drop-shadow(0px 1px 2px rgba(0, 0, 0, 0.3));\n",
              "      fill: #FFFFFF;\n",
              "    }\n",
              "  </style>\n",
              "\n",
              "    <script>\n",
              "      const buttonEl =\n",
              "        document.querySelector('#df-a82977e5-9fa9-4de1-a946-ee3b8f2b84f6 button.colab-df-convert');\n",
              "      buttonEl.style.display =\n",
              "        google.colab.kernel.accessAllowed ? 'block' : 'none';\n",
              "\n",
              "      async function convertToInteractive(key) {\n",
              "        const element = document.querySelector('#df-a82977e5-9fa9-4de1-a946-ee3b8f2b84f6');\n",
              "        const dataTable =\n",
              "          await google.colab.kernel.invokeFunction('convertToInteractive',\n",
              "                                                    [key], {});\n",
              "        if (!dataTable) return;\n",
              "\n",
              "        const docLinkHtml = 'Like what you see? Visit the ' +\n",
              "          '<a target=\"_blank\" href=https://colab.research.google.com/notebooks/data_table.ipynb>data table notebook</a>'\n",
              "          + ' to learn more about interactive tables.';\n",
              "        element.innerHTML = '';\n",
              "        dataTable['output_type'] = 'display_data';\n",
              "        await google.colab.output.renderOutput(dataTable, element);\n",
              "        const docLink = document.createElement('div');\n",
              "        docLink.innerHTML = docLinkHtml;\n",
              "        element.appendChild(docLink);\n",
              "      }\n",
              "    </script>\n",
              "  </div>\n",
              "\n",
              "\n",
              "<div id=\"df-71006018-a9a1-4800-b7e0-39aff22da24b\">\n",
              "  <button class=\"colab-df-quickchart\" onclick=\"quickchart('df-71006018-a9a1-4800-b7e0-39aff22da24b')\"\n",
              "            title=\"Suggest charts\"\n",
              "            style=\"display:none;\">\n",
              "\n",
              "<svg xmlns=\"http://www.w3.org/2000/svg\" height=\"24px\"viewBox=\"0 0 24 24\"\n",
              "     width=\"24px\">\n",
              "    <g>\n",
              "        <path d=\"M19 3H5c-1.1 0-2 .9-2 2v14c0 1.1.9 2 2 2h14c1.1 0 2-.9 2-2V5c0-1.1-.9-2-2-2zM9 17H7v-7h2v7zm4 0h-2V7h2v10zm4 0h-2v-4h2v4z\"/>\n",
              "    </g>\n",
              "</svg>\n",
              "  </button>\n",
              "\n",
              "<style>\n",
              "  .colab-df-quickchart {\n",
              "      --bg-color: #E8F0FE;\n",
              "      --fill-color: #1967D2;\n",
              "      --hover-bg-color: #E2EBFA;\n",
              "      --hover-fill-color: #174EA6;\n",
              "      --disabled-fill-color: #AAA;\n",
              "      --disabled-bg-color: #DDD;\n",
              "  }\n",
              "\n",
              "  [theme=dark] .colab-df-quickchart {\n",
              "      --bg-color: #3B4455;\n",
              "      --fill-color: #D2E3FC;\n",
              "      --hover-bg-color: #434B5C;\n",
              "      --hover-fill-color: #FFFFFF;\n",
              "      --disabled-bg-color: #3B4455;\n",
              "      --disabled-fill-color: #666;\n",
              "  }\n",
              "\n",
              "  .colab-df-quickchart {\n",
              "    background-color: var(--bg-color);\n",
              "    border: none;\n",
              "    border-radius: 50%;\n",
              "    cursor: pointer;\n",
              "    display: none;\n",
              "    fill: var(--fill-color);\n",
              "    height: 32px;\n",
              "    padding: 0;\n",
              "    width: 32px;\n",
              "  }\n",
              "\n",
              "  .colab-df-quickchart:hover {\n",
              "    background-color: var(--hover-bg-color);\n",
              "    box-shadow: 0 1px 2px rgba(60, 64, 67, 0.3), 0 1px 3px 1px rgba(60, 64, 67, 0.15);\n",
              "    fill: var(--button-hover-fill-color);\n",
              "  }\n",
              "\n",
              "  .colab-df-quickchart-complete:disabled,\n",
              "  .colab-df-quickchart-complete:disabled:hover {\n",
              "    background-color: var(--disabled-bg-color);\n",
              "    fill: var(--disabled-fill-color);\n",
              "    box-shadow: none;\n",
              "  }\n",
              "\n",
              "  .colab-df-spinner {\n",
              "    border: 2px solid var(--fill-color);\n",
              "    border-color: transparent;\n",
              "    border-bottom-color: var(--fill-color);\n",
              "    animation:\n",
              "      spin 1s steps(1) infinite;\n",
              "  }\n",
              "\n",
              "  @keyframes spin {\n",
              "    0% {\n",
              "      border-color: transparent;\n",
              "      border-bottom-color: var(--fill-color);\n",
              "      border-left-color: var(--fill-color);\n",
              "    }\n",
              "    20% {\n",
              "      border-color: transparent;\n",
              "      border-left-color: var(--fill-color);\n",
              "      border-top-color: var(--fill-color);\n",
              "    }\n",
              "    30% {\n",
              "      border-color: transparent;\n",
              "      border-left-color: var(--fill-color);\n",
              "      border-top-color: var(--fill-color);\n",
              "      border-right-color: var(--fill-color);\n",
              "    }\n",
              "    40% {\n",
              "      border-color: transparent;\n",
              "      border-right-color: var(--fill-color);\n",
              "      border-top-color: var(--fill-color);\n",
              "    }\n",
              "    60% {\n",
              "      border-color: transparent;\n",
              "      border-right-color: var(--fill-color);\n",
              "    }\n",
              "    80% {\n",
              "      border-color: transparent;\n",
              "      border-right-color: var(--fill-color);\n",
              "      border-bottom-color: var(--fill-color);\n",
              "    }\n",
              "    90% {\n",
              "      border-color: transparent;\n",
              "      border-bottom-color: var(--fill-color);\n",
              "    }\n",
              "  }\n",
              "</style>\n",
              "\n",
              "  <script>\n",
              "    async function quickchart(key) {\n",
              "      const quickchartButtonEl =\n",
              "        document.querySelector('#' + key + ' button');\n",
              "      quickchartButtonEl.disabled = true;  // To prevent multiple clicks.\n",
              "      quickchartButtonEl.classList.add('colab-df-spinner');\n",
              "      try {\n",
              "        const charts = await google.colab.kernel.invokeFunction(\n",
              "            'suggestCharts', [key], {});\n",
              "      } catch (error) {\n",
              "        console.error('Error during call to suggestCharts:', error);\n",
              "      }\n",
              "      quickchartButtonEl.classList.remove('colab-df-spinner');\n",
              "      quickchartButtonEl.classList.add('colab-df-quickchart-complete');\n",
              "    }\n",
              "    (() => {\n",
              "      let quickchartButtonEl =\n",
              "        document.querySelector('#df-71006018-a9a1-4800-b7e0-39aff22da24b button');\n",
              "      quickchartButtonEl.style.display =\n",
              "        google.colab.kernel.accessAllowed ? 'block' : 'none';\n",
              "    })();\n",
              "  </script>\n",
              "</div>\n",
              "    </div>\n",
              "  </div>\n"
            ],
            "application/vnd.google.colaboratory.intrinsic+json": {
              "type": "dataframe",
              "variable_name": "top_1000_df",
              "summary": "{\n  \"name\": \"top_1000_df\",\n  \"rows\": 1000,\n  \"fields\": [\n    {\n      \"column\": \"Chittagonian\",\n      \"properties\": {\n        \"dtype\": \"string\",\n        \"num_unique_values\": 875,\n        \"samples\": [\n          \"\\u0986\\u09ab\\u09bf\\u09a8\\u09cd\\u200c\",\n          \"\\u0985\\u09b2\\u0987\\u0995\\u09cd\\u200c\\u0995\\u09be\\u09b0 \\u09ad\\u09be\\u0987\\u0997\\u09cd\\u0997 \\u09a8\\u09be\\u0987\",\n          \"\\u0986\\u0981\\u0987 \\u098f\\u09b0\\u09bf\"\n        ],\n        \"semantic_type\": \"\",\n        \"description\": \"\"\n      }\n    },\n    {\n      \"column\": \"Bengali\",\n      \"properties\": {\n        \"dtype\": \"string\",\n        \"num_unique_values\": 858,\n        \"samples\": [\n          \"\\u09ac\\u09c1\\u09a8\\u09cb\",\n          \"\\u09ac\\u09bf\\u09ac\\u09be\\u09b9\\u09c7 \\u0987\\u09b8\\u09b2\\u09be\\u09ae \\u09a7\\u09b0\\u09cd\\u09ae\\u09c0\\u09df \\u0986\\u09a8\\u09c1\\u09b7\\u09cd\\u09a0\\u09be\\u09a8\\u09bf\\u0995\\u09a4\\u09be\",\n          \"\\u0985\\u09ac\\u09b8\\u09cd\\u09a5\\u09be\"\n        ],\n        \"semantic_type\": \"\",\n        \"description\": \"\"\n      }\n    }\n  ]\n}"
            }
          },
          "metadata": {},
          "execution_count": 10
        }
      ],
      "source": [
        "top_1000_df=df.head(1000)\n",
        "top_1000_df.head()"
      ]
    },
    {
      "cell_type": "code",
      "execution_count": 11,
      "metadata": {
        "colab": {
          "base_uri": "https://localhost:8080/",
          "height": 195
        },
        "id": "pRCjA8xGC3Bj",
        "outputId": "71ad9a6c-7b06-4788-e7d5-4b38416d43d8"
      },
      "outputs": [
        {
          "output_type": "execute_result",
          "data": {
            "text/plain": [
              "       Chittagonian Bengali\n",
              "count          1000    1000\n",
              "unique          875     858\n",
              "top           আযল্‌    হঠাৎ\n",
              "freq              7       8"
            ],
            "text/html": [
              "\n",
              "  <div id=\"df-926f0d28-dd60-4dc3-bdb6-d6a4243305e4\" class=\"colab-df-container\">\n",
              "    <div>\n",
              "<style scoped>\n",
              "    .dataframe tbody tr th:only-of-type {\n",
              "        vertical-align: middle;\n",
              "    }\n",
              "\n",
              "    .dataframe tbody tr th {\n",
              "        vertical-align: top;\n",
              "    }\n",
              "\n",
              "    .dataframe thead th {\n",
              "        text-align: right;\n",
              "    }\n",
              "</style>\n",
              "<table border=\"1\" class=\"dataframe\">\n",
              "  <thead>\n",
              "    <tr style=\"text-align: right;\">\n",
              "      <th></th>\n",
              "      <th>Chittagonian</th>\n",
              "      <th>Bengali</th>\n",
              "    </tr>\n",
              "  </thead>\n",
              "  <tbody>\n",
              "    <tr>\n",
              "      <th>count</th>\n",
              "      <td>1000</td>\n",
              "      <td>1000</td>\n",
              "    </tr>\n",
              "    <tr>\n",
              "      <th>unique</th>\n",
              "      <td>875</td>\n",
              "      <td>858</td>\n",
              "    </tr>\n",
              "    <tr>\n",
              "      <th>top</th>\n",
              "      <td>আযল্‌</td>\n",
              "      <td>হঠাৎ</td>\n",
              "    </tr>\n",
              "    <tr>\n",
              "      <th>freq</th>\n",
              "      <td>7</td>\n",
              "      <td>8</td>\n",
              "    </tr>\n",
              "  </tbody>\n",
              "</table>\n",
              "</div>\n",
              "    <div class=\"colab-df-buttons\">\n",
              "\n",
              "  <div class=\"colab-df-container\">\n",
              "    <button class=\"colab-df-convert\" onclick=\"convertToInteractive('df-926f0d28-dd60-4dc3-bdb6-d6a4243305e4')\"\n",
              "            title=\"Convert this dataframe to an interactive table.\"\n",
              "            style=\"display:none;\">\n",
              "\n",
              "  <svg xmlns=\"http://www.w3.org/2000/svg\" height=\"24px\" viewBox=\"0 -960 960 960\">\n",
              "    <path d=\"M120-120v-720h720v720H120Zm60-500h600v-160H180v160Zm220 220h160v-160H400v160Zm0 220h160v-160H400v160ZM180-400h160v-160H180v160Zm440 0h160v-160H620v160ZM180-180h160v-160H180v160Zm440 0h160v-160H620v160Z\"/>\n",
              "  </svg>\n",
              "    </button>\n",
              "\n",
              "  <style>\n",
              "    .colab-df-container {\n",
              "      display:flex;\n",
              "      gap: 12px;\n",
              "    }\n",
              "\n",
              "    .colab-df-convert {\n",
              "      background-color: #E8F0FE;\n",
              "      border: none;\n",
              "      border-radius: 50%;\n",
              "      cursor: pointer;\n",
              "      display: none;\n",
              "      fill: #1967D2;\n",
              "      height: 32px;\n",
              "      padding: 0 0 0 0;\n",
              "      width: 32px;\n",
              "    }\n",
              "\n",
              "    .colab-df-convert:hover {\n",
              "      background-color: #E2EBFA;\n",
              "      box-shadow: 0px 1px 2px rgba(60, 64, 67, 0.3), 0px 1px 3px 1px rgba(60, 64, 67, 0.15);\n",
              "      fill: #174EA6;\n",
              "    }\n",
              "\n",
              "    .colab-df-buttons div {\n",
              "      margin-bottom: 4px;\n",
              "    }\n",
              "\n",
              "    [theme=dark] .colab-df-convert {\n",
              "      background-color: #3B4455;\n",
              "      fill: #D2E3FC;\n",
              "    }\n",
              "\n",
              "    [theme=dark] .colab-df-convert:hover {\n",
              "      background-color: #434B5C;\n",
              "      box-shadow: 0px 1px 3px 1px rgba(0, 0, 0, 0.15);\n",
              "      filter: drop-shadow(0px 1px 2px rgba(0, 0, 0, 0.3));\n",
              "      fill: #FFFFFF;\n",
              "    }\n",
              "  </style>\n",
              "\n",
              "    <script>\n",
              "      const buttonEl =\n",
              "        document.querySelector('#df-926f0d28-dd60-4dc3-bdb6-d6a4243305e4 button.colab-df-convert');\n",
              "      buttonEl.style.display =\n",
              "        google.colab.kernel.accessAllowed ? 'block' : 'none';\n",
              "\n",
              "      async function convertToInteractive(key) {\n",
              "        const element = document.querySelector('#df-926f0d28-dd60-4dc3-bdb6-d6a4243305e4');\n",
              "        const dataTable =\n",
              "          await google.colab.kernel.invokeFunction('convertToInteractive',\n",
              "                                                    [key], {});\n",
              "        if (!dataTable) return;\n",
              "\n",
              "        const docLinkHtml = 'Like what you see? Visit the ' +\n",
              "          '<a target=\"_blank\" href=https://colab.research.google.com/notebooks/data_table.ipynb>data table notebook</a>'\n",
              "          + ' to learn more about interactive tables.';\n",
              "        element.innerHTML = '';\n",
              "        dataTable['output_type'] = 'display_data';\n",
              "        await google.colab.output.renderOutput(dataTable, element);\n",
              "        const docLink = document.createElement('div');\n",
              "        docLink.innerHTML = docLinkHtml;\n",
              "        element.appendChild(docLink);\n",
              "      }\n",
              "    </script>\n",
              "  </div>\n",
              "\n",
              "\n",
              "<div id=\"df-69729cd9-d1c0-41e4-9f78-88101e7385b9\">\n",
              "  <button class=\"colab-df-quickchart\" onclick=\"quickchart('df-69729cd9-d1c0-41e4-9f78-88101e7385b9')\"\n",
              "            title=\"Suggest charts\"\n",
              "            style=\"display:none;\">\n",
              "\n",
              "<svg xmlns=\"http://www.w3.org/2000/svg\" height=\"24px\"viewBox=\"0 0 24 24\"\n",
              "     width=\"24px\">\n",
              "    <g>\n",
              "        <path d=\"M19 3H5c-1.1 0-2 .9-2 2v14c0 1.1.9 2 2 2h14c1.1 0 2-.9 2-2V5c0-1.1-.9-2-2-2zM9 17H7v-7h2v7zm4 0h-2V7h2v10zm4 0h-2v-4h2v4z\"/>\n",
              "    </g>\n",
              "</svg>\n",
              "  </button>\n",
              "\n",
              "<style>\n",
              "  .colab-df-quickchart {\n",
              "      --bg-color: #E8F0FE;\n",
              "      --fill-color: #1967D2;\n",
              "      --hover-bg-color: #E2EBFA;\n",
              "      --hover-fill-color: #174EA6;\n",
              "      --disabled-fill-color: #AAA;\n",
              "      --disabled-bg-color: #DDD;\n",
              "  }\n",
              "\n",
              "  [theme=dark] .colab-df-quickchart {\n",
              "      --bg-color: #3B4455;\n",
              "      --fill-color: #D2E3FC;\n",
              "      --hover-bg-color: #434B5C;\n",
              "      --hover-fill-color: #FFFFFF;\n",
              "      --disabled-bg-color: #3B4455;\n",
              "      --disabled-fill-color: #666;\n",
              "  }\n",
              "\n",
              "  .colab-df-quickchart {\n",
              "    background-color: var(--bg-color);\n",
              "    border: none;\n",
              "    border-radius: 50%;\n",
              "    cursor: pointer;\n",
              "    display: none;\n",
              "    fill: var(--fill-color);\n",
              "    height: 32px;\n",
              "    padding: 0;\n",
              "    width: 32px;\n",
              "  }\n",
              "\n",
              "  .colab-df-quickchart:hover {\n",
              "    background-color: var(--hover-bg-color);\n",
              "    box-shadow: 0 1px 2px rgba(60, 64, 67, 0.3), 0 1px 3px 1px rgba(60, 64, 67, 0.15);\n",
              "    fill: var(--button-hover-fill-color);\n",
              "  }\n",
              "\n",
              "  .colab-df-quickchart-complete:disabled,\n",
              "  .colab-df-quickchart-complete:disabled:hover {\n",
              "    background-color: var(--disabled-bg-color);\n",
              "    fill: var(--disabled-fill-color);\n",
              "    box-shadow: none;\n",
              "  }\n",
              "\n",
              "  .colab-df-spinner {\n",
              "    border: 2px solid var(--fill-color);\n",
              "    border-color: transparent;\n",
              "    border-bottom-color: var(--fill-color);\n",
              "    animation:\n",
              "      spin 1s steps(1) infinite;\n",
              "  }\n",
              "\n",
              "  @keyframes spin {\n",
              "    0% {\n",
              "      border-color: transparent;\n",
              "      border-bottom-color: var(--fill-color);\n",
              "      border-left-color: var(--fill-color);\n",
              "    }\n",
              "    20% {\n",
              "      border-color: transparent;\n",
              "      border-left-color: var(--fill-color);\n",
              "      border-top-color: var(--fill-color);\n",
              "    }\n",
              "    30% {\n",
              "      border-color: transparent;\n",
              "      border-left-color: var(--fill-color);\n",
              "      border-top-color: var(--fill-color);\n",
              "      border-right-color: var(--fill-color);\n",
              "    }\n",
              "    40% {\n",
              "      border-color: transparent;\n",
              "      border-right-color: var(--fill-color);\n",
              "      border-top-color: var(--fill-color);\n",
              "    }\n",
              "    60% {\n",
              "      border-color: transparent;\n",
              "      border-right-color: var(--fill-color);\n",
              "    }\n",
              "    80% {\n",
              "      border-color: transparent;\n",
              "      border-right-color: var(--fill-color);\n",
              "      border-bottom-color: var(--fill-color);\n",
              "    }\n",
              "    90% {\n",
              "      border-color: transparent;\n",
              "      border-bottom-color: var(--fill-color);\n",
              "    }\n",
              "  }\n",
              "</style>\n",
              "\n",
              "  <script>\n",
              "    async function quickchart(key) {\n",
              "      const quickchartButtonEl =\n",
              "        document.querySelector('#' + key + ' button');\n",
              "      quickchartButtonEl.disabled = true;  // To prevent multiple clicks.\n",
              "      quickchartButtonEl.classList.add('colab-df-spinner');\n",
              "      try {\n",
              "        const charts = await google.colab.kernel.invokeFunction(\n",
              "            'suggestCharts', [key], {});\n",
              "      } catch (error) {\n",
              "        console.error('Error during call to suggestCharts:', error);\n",
              "      }\n",
              "      quickchartButtonEl.classList.remove('colab-df-spinner');\n",
              "      quickchartButtonEl.classList.add('colab-df-quickchart-complete');\n",
              "    }\n",
              "    (() => {\n",
              "      let quickchartButtonEl =\n",
              "        document.querySelector('#df-69729cd9-d1c0-41e4-9f78-88101e7385b9 button');\n",
              "      quickchartButtonEl.style.display =\n",
              "        google.colab.kernel.accessAllowed ? 'block' : 'none';\n",
              "    })();\n",
              "  </script>\n",
              "</div>\n",
              "    </div>\n",
              "  </div>\n"
            ],
            "application/vnd.google.colaboratory.intrinsic+json": {
              "type": "dataframe",
              "summary": "{\n  \"name\": \"top_1000_df\",\n  \"rows\": 4,\n  \"fields\": [\n    {\n      \"column\": \"Chittagonian\",\n      \"properties\": {\n        \"dtype\": \"string\",\n        \"num_unique_values\": 4,\n        \"samples\": [\n          875,\n          \"7\",\n          \"1000\"\n        ],\n        \"semantic_type\": \"\",\n        \"description\": \"\"\n      }\n    },\n    {\n      \"column\": \"Bengali\",\n      \"properties\": {\n        \"dtype\": \"string\",\n        \"num_unique_values\": 4,\n        \"samples\": [\n          858,\n          \"8\",\n          \"1000\"\n        ],\n        \"semantic_type\": \"\",\n        \"description\": \"\"\n      }\n    }\n  ]\n}"
            }
          },
          "metadata": {},
          "execution_count": 11
        }
      ],
      "source": [
        "top_1000_df.describe()"
      ]
    },
    {
      "cell_type": "markdown",
      "metadata": {
        "id": "0uzrnipkKBiJ"
      },
      "source": [
        "### Select only the chattogram sentence and bangali sentence"
      ]
    },
    {
      "cell_type": "code",
      "execution_count": 13,
      "metadata": {
        "id": "hxHFrQmwy04E"
      },
      "outputs": [],
      "source": [
        "original_chattogram_Sentense=list(top_1000_df['Chittagonian'])\n",
        "bangali_sentence=list(top_1000_df['Bengali'])"
      ]
    },
    {
      "cell_type": "markdown",
      "metadata": {
        "id": "VL1kF3jIoGRx"
      },
      "source": [
        "## 4. Data Processing\n",
        "- Generate train and val data\n",
        "- Save chattogram and stanadrd bangla text into local disk"
      ]
    },
    {
      "cell_type": "code",
      "execution_count": 14,
      "metadata": {
        "id": "LhCbruaPzEex"
      },
      "outputs": [],
      "source": [
        "data=[]\n",
        "# print(Original_Chattogram_Sentense)\n",
        "for i in range(len(original_chattogram_Sentense)):\n",
        "  data.append([original_chattogram_Sentense[i],bangali_sentence[i]])\n"
      ]
    },
    {
      "cell_type": "code",
      "execution_count": 15,
      "metadata": {
        "colab": {
          "base_uri": "https://localhost:8080/"
        },
        "id": "p2QVss8RSg3M",
        "outputId": "371c0c01-6e86-49fd-cdf2-cef376a09965"
      },
      "outputs": [
        {
          "output_type": "execute_result",
          "data": {
            "text/plain": [
              "[['আঁর', 'আমার'],\n",
              " ['বাড়ি', 'বারি'],\n",
              " ['আঁরার', 'আমাদের'],\n",
              " ['আঁরো বারিত কনো কিয়া নো আইয়ি', 'আমাদের বাড়িতে কেউ আসে নাই'],\n",
              " ['আলমিরা', 'আলমারি'],\n",
              " ['আইয়্যির', 'আসছে'],\n",
              " ['লা~রে লা~রে', 'আস্তে আস্তে'],\n",
              " ['নোয়া', 'নতুন'],\n",
              " ['ন', 'নয়'],\n",
              " ['ফন্না', 'পড়ালেখা'],\n",
              " ['বন্নাই', 'নিন্দা'],\n",
              " ['লাশারা', 'নির্লজ্জ'],\n",
              " ['ফা৴না', 'পাঁকা'],\n",
              " ['ফইর', 'পুকুর'],\n",
              " ['আঁই গঅঁম আছি', 'আমি ভাল আছি'],\n",
              " ['আত্তে গঅঁম ন লাগের', 'আমার ভাল লাগছে না'],\n",
              " ['তুঁই হন্ডে যঁর', 'তুমি কোথায় যাচ্ছ'],\n",
              " ['হন্ডে', 'কোথায়'],\n",
              " ['তুঁই হন্ডে থাহ', 'তুমি কোথায় থাক'],\n",
              " ['আঁর দিলুত শান্তি নাই', 'আমার মন ভালো নেই'],\n",
              " ['আই কিচ্চি', 'আমি কি করলাম'],\n",
              " ['হালত', 'পরিস্থিতি'],\n",
              " ['হঅন', 'খাওয়া'],\n",
              " ['চিটাইঙ্গা', 'চট্টগ্রামবাসী'],\n",
              " ['সমস্ত মানুষ', 'বিয়াক মানুশ'],\n",
              " ['ইজ্\\u200cজত', 'মর্যাদা '],\n",
              " ['বিয়াক মানুশ ইজ্\\u200cজত এদ\\u200c্দে অ়কর ই়শাবে আজাদ আর উ়য়াইন্\\u200cনা অ়ইয়েরে ফ়য়দা অ়য়। ই়তারাত্\\u200cতু আহল এদ্\\u200cদে বিবেক আছে ; এতল্\\u200cলায় এজ্\\u200cজন আরেজ্\\u200cজনর উ়য়ারে ভাইয়ুর নান বেভার গরন দরহার।',\n",
              "  'সমস্ত মানুষ স্বাধীনভাবে জন্মগ্রহণ করে এবং মর্যাদা ও অধিকারে সমান। তারা যুক্তি এবং বিবেক দ্বারা সমৃদ্ধ এবং ভ্রাতৃত্বের চেতনায় একে অপরের প্রতি আচরণ করা উচিত'],\n",
              " ['পাঁচটা', 'ফাঁচ্চো'],\n",
              " ['হাইচ্চুত', 'স্বভাব'],\n",
              " ['অসল', 'অচল'],\n",
              " ['ফ়য়দা', 'জন্ম'],\n",
              " ['এজ্\\u200cজন আরেজ্\\u200cজনর', 'একে অপরের'],\n",
              " ['এসকেরাব', 'অকেজো'],\n",
              " ['বেসরবা', 'অতিরিক্ত'],\n",
              " ['ফাতাইজ্জা', 'আড়াআড়ি'],\n",
              " ['আঁই কিরকেট খেইল্যম', 'আমি ক্রিকেট খেলব'],\n",
              " ['তোঁয়ার লাই আঁর ফরাণ ফুরের', 'তোমার অভাব অনুভব করছি'],\n",
              " ['বদ্দা', 'ভাই'],\n",
              " ['বতল', 'বোতল'],\n",
              " ['হতুর', 'কবুতর'],\n",
              " ['বাত্তি', 'বাতি'],\n",
              " ['হাও-ও', 'কাক'],\n",
              " ['হাক্কা', 'খালা'],\n",
              " ['আক্কল', 'কমন সেন্স'],\n",
              " ['পাইততু নু', 'পারবে না'],\n",
              " ['ফাইযযে', 'পারি'],\n",
              " ['ওরু বাড়ি', 'শ্বশুর বাড়ি'],\n",
              " ['বরো বাড়ি', 'বাপের বাড়ি'],\n",
              " ['মৌ', 'মামা'],\n",
              " ['হাক্কু', 'কাকা'],\n",
              " ['ডাইক্কে', 'বাঁকা'],\n",
              " ['লাই', 'জন্য'],\n",
              " ['তুয়ার লাই', 'তোমার জন্য'],\n",
              " ['আর লাই', 'আমার জন্য'],\n",
              " ['হত', 'কত'],\n",
              " ['হলম', 'কলম'],\n",
              " ['মেট্টো গুদাম', 'মাটির ঘর'],\n",
              " ['টাট্টি', 'টয়লেট'],\n",
              " ['দুলো', 'বর'],\n",
              " ['হইন্দে', 'চিচিঙ্গা'],\n",
              " ['চরই', 'চড়ুই'],\n",
              " ['ইচে মাচ', 'চিংড়ি মাছ'],\n",
              " ['উনি', 'শুটকি'],\n",
              " ['কুত্তো', 'কুকুর'],\n",
              " ['ছল', 'ছাগল'],\n",
              " ['পইযযে', 'সমবয়সী'],\n",
              " ['পাকগর', 'রান্নাঘর'],\n",
              " ['জাম্বুরো', 'বাতাবি লেবু'],\n",
              " ['হাট্ট বাইউন', 'টেমটো'],\n",
              " ['পিয়ুজ', 'পেঁয়াজ'],\n",
              " ['বাইউন', 'বেগুন'],\n",
              " ['পয়সে', 'পয়সা'],\n",
              " ['টিঁয়ে', 'টাকা'],\n",
              " ['বিলেই', 'বেড়াল'],\n",
              " ['মসল্লা', 'মসলা'],\n",
              " ['বুআল', 'বোয়াল'],\n",
              " ['পওন', 'ফাল্গুন'],\n",
              " ['নাস', 'নাচ'],\n",
              " ['সল্লা', 'পরামর্শ'],\n",
              " ['সল্লাদার', 'পরামর্শ দাতা'],\n",
              " ['নিয়শ', 'নিঃশ্বাস'],\n",
              " ['উয়াইশ্যা', 'ক্ষুধার্ত'],\n",
              " ['দু৴ইজ্জা', 'দুপুর'],\n",
              " ['নইদ্যুম', 'দিবোনা'],\n",
              " ['দিনহাল ক্যান সলের তোঁয়ার', 'দিন কাল কেমন চলে তোমার'],\n",
              " ['দিনহাল', 'দিন কাল'],\n",
              " ['ক্যান', 'কেমন'],\n",
              " ['তোঁয়ার', 'তোমার'],\n",
              " ['সলই', 'দিয়াশলাই'],\n",
              " ['লাকড়ি', 'দারগো'],\n",
              " ['দঅ', 'দাও'],\n",
              " ['ত্যাঁ', 'তিনি'],\n",
              " ['তুয়ান', 'তুফান'],\n",
              " ['তোয়ন', 'খোঁজা'],\n",
              " ['গোম লাগে', 'ভালবাসি'],\n",
              " ['আঁই তুয়ানরে বেশি গোম লাগে', 'আমি তোমাকে ভালবাসি'],\n",
              " ['রাতিয়ে হাইয়্যু না', 'রাতে খাওয়া দাওয়া করছ না কি'],\n",
              " ['দইজ্জা', 'সমুদ্র'],\n",
              " ['থিয়্যা', 'দাঁড়া'],\n",
              " ['ঔডা', 'ও বেটা']]"
            ]
          },
          "metadata": {},
          "execution_count": 15
        }
      ],
      "source": [
        "data[:100]"
      ]
    },
    {
      "cell_type": "code",
      "execution_count": 16,
      "metadata": {
        "colab": {
          "base_uri": "https://localhost:8080/"
        },
        "id": "2e819c75",
        "outputId": "7eac0ac6-232b-4e96-e05f-6ca947c851af"
      },
      "outputs": [
        {
          "output_type": "execute_result",
          "data": {
            "text/plain": [
              "[['আবেদ্\\u200c', 'নিষ্ঠাবান'],\n",
              " ['আবেদ্\\u200c', 'সত্যবাদী'],\n",
              " ['আবেদ্\\u200c', 'সরল'],\n",
              " ['আব্\\u200c', 'জল'],\n",
              " ['আব্\\u200c', 'পানি'],\n",
              " ['আব্\\u200c', 'অভ্র'],\n",
              " ['আব্\\u200cদালি করা', 'দুষ্টামি করা'],\n",
              " ['আব্\\u200cবিশ্\\u200c', 'মধ্যস্থনে'],\n",
              " ['আব্\\u200cবিশ্\\u200c', 'খেলার মধ্যরেখা'],\n",
              " ['আব্\\u200cবুইশ্\\u200c', 'খেলার মধ্যরেখা'],\n",
              " ['আব্\\u200cবুইশ্\\u200c', 'মধ্যস্থনে'],\n",
              " ['আব্\\u200cযল্\\u200c', 'ভাল'],\n",
              " ['আব্\\u200cযল্\\u200c', 'শ্রেষ্ঠ'],\n",
              " ['আব্\\u200cযান্\\u200c', 'বন্ধ করা'],\n",
              " ['আব্\\u200cযান্\\u200c', 'এক পাশ্বে সরাইয়া রাখা'],\n",
              " ['আমতত্\\u200c', 'বিনা বাক্য ব্যয়ে'],\n",
              " ['আমতত্\\u200c', 'বিনা ওজরে'],\n",
              " ['আমতত্\\u200c', 'নিঃশব্দে'],\n",
              " ['আমবুব্\\u200cন', 'হামাগুড়ি দেওয়া'],\n",
              " ['আমল্\\u200c', 'খেয়াল'],\n",
              " ['আমল্\\u200c', 'মনোযোগ'],\n",
              " ['আমা', 'চোখের ছানি'],\n",
              " ['আমাইন্\\u200cশামি', 'অমানুষিকতা'],\n",
              " ['আমাইন্\\u200cশামি', 'অমানবিকতা'],\n",
              " ['আমাত্\\u200c', 'বোবা'],\n",
              " ['আমাত্\\u200c', 'নির্বাক'],\n",
              " ['আমাত্\\u200cতা', 'আবার'],\n",
              " ['আমান্\\u200cতা', 'জমা'],\n",
              " ['আমারে মা', 'আশ্চার্যবোধক শব্দ'],\n",
              " ['আমাশা', 'আমাশয় রোগ'],\n",
              " ['আমি', 'হাই'],\n",
              " ['আমিশা', 'হামেশা'],\n",
              " ['আম্\\u200cতা', 'আমস্বত্ত'],\n",
              " ['আম্\\u200cতাই', 'আম্\\u200cসি'],\n",
              " ['আম্\\u200cনা', 'আপনা'],\n",
              " ['আম্\\u200cনা', 'আপন'],\n",
              " ['আম্\\u200cনা আম্\\u200cনি', 'নিজে নিজে'],\n",
              " ['আম্\\u200cনে', 'আপন'],\n",
              " ['আম্\\u200cব', 'সুনজর'],\n",
              " ['আম্\\u200cবলান্\\u200c', 'জাবরকাটা'],\n",
              " ['আম্\\u200cবা', 'হাম্বারব'],\n",
              " ['আম্\\u200cবারন্\\u200c', 'সাতাঁর কাটা'],\n",
              " ['আম্\\u200cবারি', 'জল নিকাশের ক্ষুদ্র নালা বা খাল'],\n",
              " ['আম্\\u200cবি-তাম্\\u200cবি', 'হম্বিতম্বি'],\n",
              " ['আম্\\u200cবি-তাম্\\u200cবি', 'লাফালাফি'],\n",
              " ['আম্\\u200cবুরন্\\u200c', 'হামাগুড়ি দেওয়া'],\n",
              " ['আম্\\u200cবুরি', 'নর্দমা'],\n",
              " ['আম্\\u200cবুরুয্\\u200c', 'জামরুল ফল'],\n",
              " ['আম্\\u200cবুরুস্\\u200c', 'জামরুল ফল'],\n",
              " ['আম্\\u200cবে', 'হাম্বারব'],\n",
              " ['আম্\\u200cমুনি', 'হারমোনিয়াম'],\n",
              " ['আম্\\u200cযাম', 'দ্বীপাঞ্চলের টক ফল বিশেষ'],\n",
              " ['আম্\\u200cযাম', 'আয়োজন'],\n",
              " ['আযইন্যা', 'সন্ধ্যা'],\n",
              " ['আযইর্\\u200c', 'কর্মমুক্ত'],\n",
              " ['আযইর্\\u200c', 'অবসর'],\n",
              " ['আযলা', 'বোকা'],\n",
              " ['আযলি', 'বোকা স্ত্রী'],\n",
              " ['আযলি', 'পথ আগলাইয়া'],\n",
              " ['আযলি', 'সোহাগী'],\n",
              " ['আযল্\\u200c', 'ভীরু'],\n",
              " ['আযল্\\u200c', 'মৃত্যু'],\n",
              " ['আযল্\\u200c', 'সোজা'],\n",
              " ['আযল্\\u200c', 'যমদূত'],\n",
              " ['আযল্\\u200c', 'সরল'],\n",
              " ['আযল্\\u200c', 'নির্বোধ'],\n",
              " ['আযল্\\u200c', 'দুঃসময়'],\n",
              " ['আযাইত্\\u200cতা', 'জাত বংশ ঠিক নয় এমন'],\n",
              " ['আযাইত্\\u200cতা-কুযাইত্\\u200cতা', 'জাত বংশ ঠিক নেই যার'],\n",
              " ['আযাইন্যা', 'অনভিজ্ঞ'],\n",
              " ['আযাইন্যা', 'আনাড়ি'],\n",
              " ['আযাইম্যা', 'খত্\\u200cনাকারী'],\n",
              " ['আযাইম্যা', 'নাপিত'],\n",
              " ['আযাইয্\\u200cযা', 'বাজে'],\n",
              " ['আযাইয্\\u200cযা', 'অবিশ্বাস্য'],\n",
              " ['আযাইয্\\u200cযা', 'বেকার'],\n",
              " ['আযাইয্\\u200cযা কথা', 'অকাজ'],\n",
              " ['আযাইয্\\u200cযা কথা', 'বাজে কাজ'],\n",
              " ['আযাইরগা কাম', 'অকাজ'],\n",
              " ['আযাইরগা কাম', 'বাজে কাজ'],\n",
              " ['আযাইর্\\u200cগা', 'অবিশ্বাস্য'],\n",
              " ['আযাইর্\\u200cগা', 'বাজে'],\n",
              " ['আযাইর্\\u200cগা', 'বেকার'],\n",
              " ['আযাইল্\\u200c', 'বগল'],\n",
              " ['আযান্\\u200c', 'ভেজান'],\n",
              " ['আযান্\\u200c', 'পাড়ে ভিড়ানো'],\n",
              " ['আযান্\\u200c', 'হারানো'],\n",
              " ['আযার্\\u200cরিয়া', 'অবিশ্বাস্য'],\n",
              " ['আযার্\\u200cরিয়া', 'বাজে'],\n",
              " ['আযার্\\u200cরিয়া', 'বেকার'],\n",
              " ['আযিব', 'অদ্ভুত'],\n",
              " ['আযিযি হাল', 'দুর্বল অবস্থা'],\n",
              " ['আযিয়া', 'আজ'],\n",
              " ['আযুইদ্\\u200cদা খেলা', 'গুটির খেলা বিশেষ'],\n",
              " ['আযুইয্যা', 'অসঙ্গত'],\n",
              " ['আযুইয্যা', 'বেদরকারী'],\n",
              " ['আযুইর্\\u200cগা', 'অসঙ্গত'],\n",
              " ['আযুইর্\\u200cগা', 'বেদরকারী'],\n",
              " ['আযুদ্\\u200cদা', 'তৃপ্তি'],\n",
              " ['আযুদ্\\u200cদা', 'ইচ্ছা']]"
            ]
          },
          "metadata": {},
          "execution_count": 16
        }
      ],
      "source": [
        "data[-100:]"
      ]
    },
    {
      "cell_type": "code",
      "execution_count": 17,
      "metadata": {
        "colab": {
          "base_uri": "https://localhost:8080/"
        },
        "id": "69549a09",
        "outputId": "44066b57-5a2a-4316-bde1-5f85cfbc5fd1"
      },
      "outputs": [
        {
          "output_type": "stream",
          "name": "stdout",
          "text": [
            "train len:  800\n",
            " val len:  200\n"
          ]
        }
      ],
      "source": [
        "train_chattogram = [i[0] for i in data[:800]]\n",
        "val_chattogram = [i[0] for i in data[800:]]\n",
        "print('train len: ',len(train_chattogram))\n",
        "print(' val len: ',len(val_chattogram))"
      ]
    },
    {
      "cell_type": "code",
      "execution_count": 18,
      "metadata": {
        "colab": {
          "base_uri": "https://localhost:8080/"
        },
        "id": "5998c259",
        "outputId": "bc4106d6-fa69-4928-d11f-c365ecf11494"
      },
      "outputs": [
        {
          "output_type": "execute_result",
          "data": {
            "text/plain": [
              "['আনা',\n",
              " 'আনা হনি',\n",
              " 'আনাআশ্\\u200c',\n",
              " 'আনাইল্\\u200cলা',\n",
              " 'আনাইল্\\u200cলা',\n",
              " 'আনাযি',\n",
              " 'আনাযি কেলা',\n",
              " 'আনিনিগন্\\u200c',\n",
              " 'আনিবাল্\\u200cলায়',\n",
              " 'আনুনা']"
            ]
          },
          "metadata": {},
          "execution_count": 18
        }
      ],
      "source": [
        "val_chattogram[:10]"
      ]
    },
    {
      "cell_type": "code",
      "execution_count": 19,
      "metadata": {
        "colab": {
          "base_uri": "https://localhost:8080/"
        },
        "id": "b6d45419",
        "outputId": "2d499cc8-90c5-4b6d-f410-72cef9302f22"
      },
      "outputs": [
        {
          "output_type": "stream",
          "name": "stdout",
          "text": [
            "800\n",
            "200\n"
          ]
        }
      ],
      "source": [
        "train_bangla = [i[1] for i in data[:800]]\n",
        "val_bangla = [i[1] for i in data[800:]]\n",
        "print(len(train_bangla))\n",
        "print(len(val_bangla))"
      ]
    },
    {
      "cell_type": "code",
      "execution_count": 20,
      "metadata": {
        "colab": {
          "base_uri": "https://localhost:8080/"
        },
        "id": "77c9615b",
        "outputId": "cffb91d3-896b-4a7c-f1b4-4ff17d96c48a"
      },
      "outputs": [
        {
          "output_type": "execute_result",
          "data": {
            "text/plain": [
              "['আয়না',\n",
              " 'আয়না ও চিরুণি',\n",
              " 'আনারস',\n",
              " 'বুনো',\n",
              " 'আনাইল্\\u200cলা কচু',\n",
              " 'কাঁচা তরকারি',\n",
              " 'এক প্রকার কাঁচা কলা',\n",
              " 'কায়ক্লেশে দিন যাপন',\n",
              " 'আনিবার জন্য',\n",
              " 'লবণহীন']"
            ]
          },
          "metadata": {},
          "execution_count": 20
        }
      ],
      "source": [
        "val_bangla[:10]"
      ]
    },
    {
      "cell_type": "markdown",
      "metadata": {
        "id": "7KU4nC9uKUfL"
      },
      "source": [
        "### Saved Chattogram and standard bangla text into file"
      ]
    },
    {
      "cell_type": "code",
      "execution_count": 21,
      "metadata": {
        "id": "054cd2c9"
      },
      "outputs": [],
      "source": [
        "import os\n",
        "process_data_path = \"/content/drive/MyDrive/Chattogram_language/data/process_data\"\n",
        "# os.makedirs(process_data_path, exits_ok= True)\n",
        "os.makedirs(process_data_path, exist_ok = True)"
      ]
    },
    {
      "cell_type": "code",
      "execution_count": 22,
      "metadata": {
        "id": "27fc0203"
      },
      "outputs": [],
      "source": [
        "def write_txt_file(file_path, data, encoding=\"utf-8\"):\n",
        "    with open(file_path, 'w') as f:\n",
        "        for key in data:\n",
        "            if isinstance(key, list):\n",
        "                key = key[0]\n",
        "            f.write(key+\"\\n\")"
      ]
    },
    {
      "cell_type": "code",
      "execution_count": 23,
      "metadata": {
        "id": "a46ea05a"
      },
      "outputs": [],
      "source": [
        "write_txt_file(os.path.join(process_data_path, \"chattogram_data.txt\"), train_chattogram)"
      ]
    },
    {
      "cell_type": "code",
      "execution_count": 24,
      "metadata": {
        "id": "5f3beba8"
      },
      "outputs": [],
      "source": [
        "write_txt_file(os.path.join(process_data_path,\"bangla_data.txt\"), train_bangla)"
      ]
    },
    {
      "cell_type": "code",
      "execution_count": 25,
      "metadata": {
        "id": "ea840781"
      },
      "outputs": [],
      "source": [
        "def merge_data_write_txt_file(file_path, chattogram_data, bangla_data, encoding=\"utf-8\"):\n",
        "    with open(file_path, 'w') as f:\n",
        "        for chattogram, bangla in zip(chattogram_data, bangla_data):\n",
        "#             if isinstance(key, list):\n",
        "#                 key = key[0]\n",
        "            f.write(chattogram+\"\\t\"+bangla+\"\\n\")"
      ]
    },
    {
      "cell_type": "code",
      "execution_count": 26,
      "metadata": {
        "id": "088ece19"
      },
      "outputs": [],
      "source": [
        "merge_data_write_txt_file(os.path.join(process_data_path, \"merge_data.txt\"), train_chattogram, train_bangla)"
      ]
    },
    {
      "cell_type": "code",
      "execution_count": 27,
      "metadata": {
        "id": "60265503"
      },
      "outputs": [],
      "source": [
        "model_path = \"/content/drive/MyDrive/Chattogram_language/model\"\n",
        "os.makedirs(model_path, exist_ok = True)"
      ]
    },
    {
      "cell_type": "markdown",
      "metadata": {
        "id": "pMCTwu0RKfjr"
      },
      "source": [
        "## 5. Generate Tokenizer and Vocab File"
      ]
    },
    {
      "cell_type": "code",
      "execution_count": 28,
      "metadata": {
        "id": "65467bfb"
      },
      "outputs": [],
      "source": [
        "import sentencepiece as spm\n",
        "\n",
        "def train_tokenizer(text_path=\"text.txt\", model_prefix=\"model/chattogram_model\", vocab_size=30000):\n",
        "    spm.SentencePieceTrainer.train(f'--input={text_path} --model_prefix={model_prefix} --user_defined_symbols=<sep>,<cls> --vocab_size={vocab_size}')\n",
        "    bn_sp = spm.SentencePieceProcessor()\n",
        "    bn_sp.load(os.path.join(model_path, 'chattogram_model.model'))\n"
      ]
    },
    {
      "cell_type": "code",
      "execution_count": 29,
      "metadata": {
        "id": "88cfed17"
      },
      "outputs": [],
      "source": [
        "chattogram_data_path = \"/content/drive/MyDrive/Chattogram_language/data/process_data/chattogram_data.txt\"\n",
        "bangla_data_path = \"/content/drive/MyDrive/Chattogram_language/data/process_data/bangla_data.txt\""
      ]
    },
    {
      "cell_type": "markdown",
      "metadata": {
        "id": "9exFr-V9KsqJ"
      },
      "source": [
        "### Generate Chattogram and standard bangla tokenizer"
      ]
    },
    {
      "cell_type": "code",
      "execution_count": 31,
      "metadata": {
        "id": "fa3c66b0"
      },
      "outputs": [],
      "source": [
        "train_tokenizer(\n",
        "    text_path = chattogram_data_path,\n",
        "    model_prefix = \"/content/drive/MyDrive/Chattogram_language/model/chattogram_model\",\n",
        "    vocab_size = 900\n",
        ")"
      ]
    },
    {
      "cell_type": "code",
      "execution_count": 33,
      "metadata": {
        "id": "47994f54"
      },
      "outputs": [],
      "source": [
        "train_tokenizer(\n",
        "    text_path = bangla_data_path,\n",
        "    model_prefix = \"/content/drive/MyDrive/Chattogram_language/model/bangla_model\",\n",
        "    vocab_size = 900\n",
        ")"
      ]
    },
    {
      "cell_type": "code",
      "execution_count": 34,
      "metadata": {
        "id": "946583b5"
      },
      "outputs": [],
      "source": [
        "chattogram_tokenizer = spm.SentencePieceProcessor(model_file='/content/drive/MyDrive/Chattogram_language/model/chattogram_model.model')\n",
        "bangla_tokenizer = spm.SentencePieceProcessor(model_file='/content/drive/MyDrive/Chattogram_language/model/bangla_model.model')"
      ]
    },
    {
      "cell_type": "code",
      "execution_count": 35,
      "metadata": {
        "colab": {
          "base_uri": "https://localhost:8080/"
        },
        "id": "1bbec599",
        "outputId": "9f417a45-0343-46a2-d9f3-8f7cabf96760"
      },
      "outputs": [
        {
          "output_type": "execute_result",
          "data": {
            "text/plain": [
              "[61, 10, 85, 43, 372, 129, 347, 31]"
            ]
          },
          "metadata": {},
          "execution_count": 35
        }
      ],
      "source": [
        "chattogram_tokenizer.encode(\"আর কাম গান গরি রাখ \")"
      ]
    },
    {
      "cell_type": "code",
      "execution_count": 40,
      "metadata": {
        "colab": {
          "base_uri": "https://localhost:8080/"
        },
        "id": "96097394",
        "outputId": "a76a43a0-3fd1-4b4d-b091-9f783e4ca824"
      },
      "outputs": [
        {
          "output_type": "execute_result",
          "data": {
            "text/plain": [
              "[25, 69, 30, 47, 600]"
            ]
          },
          "metadata": {},
          "execution_count": 40
        }
      ],
      "source": [
        "bangla_tokenizer.encode(\"আমার কাজটি করে রাখো\")"
      ]
    },
    {
      "cell_type": "code",
      "execution_count": 42,
      "metadata": {
        "colab": {
          "base_uri": "https://localhost:8080/"
        },
        "id": "c6171673",
        "outputId": "64723d17-54ab-4ba9-d8b1-18a2c1182a0f"
      },
      "outputs": [
        {
          "output_type": "stream",
          "name": "stdout",
          "text": [
            "['▁আর', '▁কাম', '▁গান', '▁গরি', '▁রাখ']\n",
            "[93, 111, 670, 58, 454]\n",
            "['▁আমার', '▁কাজ', 'টি', '▁করে', '▁রাখো']\n",
            "[25, 69, 30, 47, 600]\n"
          ]
        }
      ],
      "source": [
        "print(chattogram_tokenizer.encode_as_pieces('আর কাম গান গরি রাখ '))\n",
        "print(chattogram_tokenizer.encode_as_ids('আর কাম গান গরি রাখ '))\n",
        "\n",
        "print(bangla_tokenizer.encode_as_pieces('আমার কাজটি করে রাখো '))\n",
        "print(bangla_tokenizer.encode_as_ids('আমার কাজটি করে রাখো'))"
      ]
    },
    {
      "cell_type": "markdown",
      "metadata": {
        "id": "T46RV5TkK4Gc"
      },
      "source": [
        "### Generate and save vocab files"
      ]
    },
    {
      "cell_type": "code",
      "execution_count": 43,
      "metadata": {
        "id": "a1bc6a64"
      },
      "outputs": [],
      "source": [
        "from torchtext.vocab import vocab\n",
        "def build_vocab(sentences, tokenizer):\n",
        "    counter = Counter()\n",
        "    for sentence in sentences:\n",
        "        # print(sentence)\n",
        "        if isinstance(sentence, list):\n",
        "            sentence = sentence[0]\n",
        "        counter.update(tokenizer.encode(sentence, out_type=str))\n",
        "    print(counter)\n",
        "    return vocab(counter, specials=['<unk>', '<pad>', '<bos>', '<eos>'], special_first=True)\n"
      ]
    },
    {
      "cell_type": "code",
      "execution_count": 44,
      "metadata": {
        "colab": {
          "base_uri": "https://localhost:8080/",
          "height": 55
        },
        "id": "3bb23f27",
        "outputId": "e0e1bca0-1842-493a-a335-8b0b65371fc4"
      },
      "outputs": [
        {
          "output_type": "execute_result",
          "data": {
            "text/plain": [
              "'0.17.1+cpu'"
            ],
            "application/vnd.google.colaboratory.intrinsic+json": {
              "type": "string"
            }
          },
          "metadata": {},
          "execution_count": 44
        }
      ],
      "source": [
        "torchtext.__version__"
      ]
    },
    {
      "cell_type": "code",
      "execution_count": 45,
      "metadata": {
        "colab": {
          "base_uri": "https://localhost:8080/"
        },
        "id": "kIFWtLiAusLG",
        "outputId": "9b49c857-2c24-4a30-8a68-9de545d717c5"
      },
      "outputs": [
        {
          "output_type": "stream",
          "name": "stdout",
          "text": [
            "input sentence:  আঁর\n"
          ]
        },
        {
          "output_type": "execute_result",
          "data": {
            "text/plain": [
              "[98]"
            ]
          },
          "metadata": {},
          "execution_count": 45
        }
      ],
      "source": [
        "print('input sentence: ',train_chattogram[0])\n",
        "chattogram_tokenizer.encode(train_chattogram[0])"
      ]
    },
    {
      "cell_type": "markdown",
      "metadata": {
        "id": "hjV6TiGqK1qc"
      },
      "source": [
        "### Merge train and val to generate a vocab"
      ]
    },
    {
      "cell_type": "code",
      "execution_count": 46,
      "metadata": {
        "colab": {
          "base_uri": "https://localhost:8080/"
        },
        "id": "JnHQl-zsK8Do",
        "outputId": "0cc5b620-a778-4540-d916-95d39700b0a4"
      },
      "outputs": [
        {
          "output_type": "stream",
          "name": "stdout",
          "text": [
            "1000\n",
            "1000\n"
          ]
        }
      ],
      "source": [
        "full_chattogram=train_chattogram+val_chattogram\n",
        "full_bangla=train_bangla+val_bangla\n",
        "print(len(full_chattogram))\n",
        "print(len(full_bangla))"
      ]
    },
    {
      "cell_type": "code",
      "execution_count": 47,
      "metadata": {
        "colab": {
          "base_uri": "https://localhost:8080/"
        },
        "id": "pOLHp37lLbK8",
        "outputId": "5075ae1e-4685-4214-d871-2b87d93fc21d"
      },
      "outputs": [
        {
          "output_type": "stream",
          "name": "stdout",
          "text": [
            "Counter({'▁আ': 236, '্': 89, 'ন্': 81, 'র': 64, '▁': 56, 'ি': 51, 'যা': 44, 'ল্': 42, 'র্': 41, 'ম্': 39, 'ত': 38, '▁অ': 34, '▁ন': 32, 'য': 32, '▁ক': 31, 'ু': 30, '▁না': 29, 'ত্': 28, 'শ্': 26, '▁গা': 26, 'বা': 25, 'ন': 24, '▁যা': 24, '▁লা': 23, 'ম': 23, 'রে': 22, 'ই': 22, 'ল': 21, 'ে': 21, 'না': 20, '▁দে': 20, '▁দ': 20, 'া': 20, 'রি': 20, '▁আট্': 20, 'ো': 19, 'রা': 19, 'স': 19, '’': 19, '▁আগ': 19, '-': 18, '▁মা': 18, '▁দি': 17, 'দ্': 17, '▁আদ': 17, '▁ত': 16, '▁তা': 16, 'ফ': 15, '▁দা': 15, '▁আব': 15, '▁আঁ': 15, '▁ব': 14, '▁আই': 13, '▁হ': 13, 'নি': 13, 'ক': 13, 'ের': 13, 'প্': 13, '▁প': 12, '▁অন্': 12, 'শা': 11, '▁হা': 11, '▁এ': 11, '▁বি': 11, '▁ম': 11, 'মি': 11, 'প': 11, '▁কা': 11, '▁আঁই': 10, '▁নাই': 10, 'য়': 10, '▁ডা': 10, 'তুন': 10, '▁গরি': 10, '▁স': 10, 'লি': 10, '▁আউ': 10, '▁গ': 9, '▁য': 9, '▁মানুষ': 9, '▁পা': 9, '▁বু': 9, 'য্': 9, 'কথা': 9, '▁কু': 9, '▁অত্': 9, 'য়া': 9, 'লা': 9, 'মা': 9, 'স্': 9, 'ং': 9, '▁আঁআ': 9, 'তা': 8, 'দে': 8, 'ডা': 8, ',': 8, '▁কাম': 8, '▁শ': 8, '▁’': 8, '▁গর': 8, 'দ': 8, '▁আঁধা': 8, '▁আওন্': 8, '▁আন': 8, '▁আঁর': 7, '▁বাড়ি': 7, '▁তু': 7, 'তি': 7, '▁আর': 7, 'ইয়ে': 7, '▁খ': 7, '▁লাই': 7, 'ক্কা': 7, '▁জা': 7, 'গ': 7, '▁অদ্': 7, 'ুয়া': 7, '▁টিয়া': 7, '▁ল': 7, 'বার': 7, 'ইয্': 7, '▁আইয়ে': 7, '▁আউল্': 7, '▁আগা': 7, 'বু': 7, 'ইর্': 7, '▁ফ': 6, '▁কি': 6, 'টা': 6, 'ইন্': 6, '▁বে': 6, '▁বা': 6, 'ও': 6, 'তু': 6, 'দাম': 6, '▁ট': 6, 'ড়ি': 6, 'অ': 6, '▁পোয়া': 6, '▁অঘা': 6, 'ৈ': 6, '▁অনেরা': 6, '▁ইতার': 6, '▁চল': 6, 'ী': 6, '▁যে': 6, '▁মজা': 6, 'ব': 6, 'বি': 6, '▁অয়': 6, '▁খানা': 6, '▁নি': 6, '▁আঁআরা': 6, '▁আঁচ': 6, '▁আতর': 6, 'গরম': 6, 'ইল্': 6, 'নো': 5, '▁ফা': 5, 'ইর': 5, '▁আছি': 5, 'শ': 5, 'বে': 5, '▁আছে': 5, 'ইক্': 5, '▁দু': 5, 'চ': 5, 'ম্ব': 5, 'ইজ্জা': 5, '্যা': 5, 'ড়া': 5, 'ছা': 5, '▁অচ': 5, '▁অডে': 5, 'থ': 5, '▁অবা': 5, '▁কডে': 5, '▁অল': 5, '▁চুর': 5, '▁ইবা': 5, 'াই': 5, '▁তুই': 5, '▁তুন': 5, '▁তোর': 5, 'ইল': 5, '▁অব': 5, 'গা': 5, '▁অলগ': 5, '▁রান্': 5, '▁আঁআর': 5, '▁কেলা': 5, '▁আঁযা': 5, '▁আইল্': 5, '▁আক্': 5, '▁আখাম': 5, 'ুইয্': 5, 'ঠা': 5, '▁আতা': 5, '▁আতাই': 5, '▁আধ': 5, 'োয়া': 4, '▁শা': 4, '▁চি': 4, '▁আজ': 4, 'জ্': 4, '▁ভা': 4, '▁গরন': 4, 'ট': 4, '▁আক্কল': 4, 'ৌ': 4, 'ঁ': 4, 'ুম': 4, 'িয়ে': 4, '▁অঅ': 4, 'অর্': 4, '▁অওন্': 4, 'ডি': 4, 'গুন': 4, '▁অদে': 4, '▁ডে': 4, '▁এই': 4, 'বান': 4, '▁মাস': 4, '▁গম': 4, 'ইন': 4, '▁আ্যাই': 4, '▁রু': 4, '▁গে': 4, '▁পিডা': 4, '▁টে': 4, 'লার': 4, 'অত': 4, '▁চইল': 4, '▁বিয়াগ': 4, '▁ইয়ান': 4, '▁মাইনসে': 4, 'লে': 4, 'ুক্': 4, '▁চো': 4, '▁সুন': 4, 'গান': 4, '▁গরে': 4, '▁আয়': 4, 'চা': 4, 'ইত্': 4, 'ইট্টা': 4, '▁-': 4, '▁আচ': 4, '▁আইন্': 4, '▁আইয্': 4, '▁বান': 4, '▁আওয়া': 4, '▁আখোমা': 4, 'াইন্যা': 4, '▁আচা': 4, 'াড়া': 4, '▁ধাইন্': 4, '▁বারি': 3, '▁কিয়া': 3, '▁লাগে': 3, '▁হন্ডে': 3, 'থা': 3, 'ুত': 3, '▁বিয়াক': 3, '▁অ়': 3, '▁আরে': 3, 'ইয়ু': 3, '▁দর': 3, 'হার': 3, '▁হাই': 3, 'সর': 3, '▁তোঁয়ার': 3, 'যে': 3, 'ক্কু': 3, 'কে': 3, '▁মে': 3, 'াট্ট': 3, '▁উ': 3, '▁বাই': 3, 'িলে': 3, 'ওন': 3, 'োম': 3, 'রাত': 3, '▁ঔ': 3, '▁নে': 3, '▁অঅর্': 3, '▁পান': 3, '▁অওর': 3, '▁অঁঅ': 3, '▁অঁওল': 3, '▁ঘর': 3, '▁অক্': 3, '▁হক': 3, '▁কুম': 3, 'খ': 3, \"'\": 3, 'ছি': 3, '▁অছিয়ত্': 3, 'খাঁ': 3, '▁ধাই': 3, '▁অবটিন্': 3, '▁অনেরে': 3, '▁তোয়ার': 3, '▁বিয়াকে': 3, '▁আরারে': 3, '▁বারো': 3, '▁আরার': 3, '▁খা': 3, '▁বাল': 3, '▁ফোয়া': 3, '▁মারে': 3, '▁আগে': 3, 'িস': 3, '▁আড': 3, '▁এক': 3, '▁চাই': 3, '▁ধ': 3, 'োস': 3, '▁ডর': 3, '▁এনা': 3, '▁গরিব': 3, '▁বানা': 3, '▁মার': 3, '▁তর্': 3, '▁যাইয়': 3, '▁গাড়ী': 3, 'পি': 3, '▁লাইগ্গে': 3, '▁ড': 3, '▁আইন্ন': 3, 'দা': 3, '▁ফু': 3, 'জা': 3, '▁অযা': 3, '▁অরল্': 3, 'গ্': 3, 'ৃ': 3, '▁গউর': 3, '▁ফুয়া': 3, '▁অবস্থা': 3, '▁অশু': 3, '▁আফা': 3, '▁আকাম': 3, 'ইয়া': 3, '▁মানি': 3, 'ইল্লা': 3, 'ইজ্জে': 3, '▁ঘরত': 3, '▁টা': 3, '▁আঁওড': 3, '▁আঁছা': 3, 'ট্': 3, '▁আঁতুর': 3, 'দার্': 3, 'িল': 3, '▁আংগ': 3, '▁আওত': 3, '▁আইর': 3, 'ইদ্যা': 3, '▁আউন্': 3, 'ানো': 3, '▁ধান': 3, '▁আগুন': 3, '▁আওডা': 3, '▁আওন': 3, '▁আওর': 3, '▁আকল': 3, '▁আক': 3, 'াইর্': 3, '▁আগিল': 3, 'ওয়া': 3, 'িয': 3, '▁কুই': 3, '▁আডা': 3, '▁আডুগ': 3, 'পাতাই': 3, '▁আতি': 3, '▁আত্': 3, '▁আদা': 3, '▁আধা': 3, '▁আধাগ': 3, 'াইন্': 3, 'ক্': 3, '▁আনল': 3, '▁আঁরা': 2, '▁নো': 2, '▁আলম': 2, 'ইয়্য': 2, 'ির': 2, '~': 2, 'ন্না': 2, '৴': 2, 'অঁ': 2, '▁আত্তে': 2, 'ঁই': 2, '▁সম': 2, 'ইজ্': 2, '▁জত': 2, '▁ই়': 2, '▁উ়য়া': 2, '▁ফ়য়দা': 2, '।': 2, 'রাত্': 2, '▁জন': 2, '▁জনর': 2, 'ভার': 2, 'চ্চু': 2, '▁এস': 2, 'ফাতাইজ্জা': 2, 'রকে': 2, 'েইল্য': 2, 'ুরের': 2, '▁বদ্দা': 2, 'ইয': 2, 'বরো': 2, '▁তুয়া': 2, '▁হল': 2, 'ট্টো': 2, '▁গু': 2, '▁চ': 2, '▁কুত্ত': 2, '▁ছ': 2, 'রো': 2, 'উন': 2, 'য়স': 2, '▁সল্লা': 2, 'িয়': 2, '▁উয়া': 2, '▁দিনহাল': 2, '▁ক্যান': 2, '▁সল': 2, '▁তুয়ান': 2, 'শি': 2, 'ইয়্যু': 2, '▁অঅত্ত': 2, '▁অঅন্': 2, '▁অঅনা': 2, '▁পঅল্': 2, '▁অই': 2, 'ওডি': 2, '▁হওর': 2, 'তে': 2, '▁অঁঅলা': 2, '▁ই': 2, 'গো': 2, '▁হঁওরাই': 2, '▁অঁওরাই': 2, 'ঁওরাই': 2, 'তর': 2, 'কাইল': 2, '▁অকাচ': 2, '▁অগা': 2, 'অগৈ': 2, 'মঘা': 2, 'অচা': 2, '▁অট্': 2, 'টৈ': 2, '▁অডি': 2, '▁অন': 2, 'ডে': 2, '▁অডৈল্যা': 2, '▁অত্তর্': 2, '▁হও': 2, '▁অত্ত': 2, '▁অতু': 2, '▁অথ্': 2, '▁অদ': 2, '▁হদে': 2, '▁অদোয়াইন্যা': 2, 'ডৈল্': 2, 'তন্': 2, 'শারি': 2, '▁অনুমান্': 2, '▁অনি': 2, '▁অপাংগা': 2, 'জ্জু': 2, 'বন': 2, 'েরা': 2, 'ল্টি': 2, '▁রাখ': 2, 'োর': 2, '▁সুই': 2, 'ষ্ট': 2, '▁ভালা': 2, 'ার': 2, 'রকার': 2, '্ডা': 2, 'ঠান': 2, 'কালে': 2, '▁বিচ': 2, 'ধুই': 2, '▁দের': 2, '▁জ': 2, 'স্তা': 2, '▁এশত': 2, '▁আজি': 2, 'িয়া': 2, 'জ্জা': 2, '▁খাইল': 2, '▁ইতারে': 2, '▁এন্ডে': 2, 'সা': 2, 'ঐ': 2, 'ইন্না': 2, '▁খাইয়ু': 2, '▁আইস্সু': 2, '▁বিয়া': 2, '▁মি': 2, '▁কেন': 2, '▁স্বভাব': 2, '▁কিজ্জ': 2, '▁ভূল': 2, '▁ফে': 2, '▁গইজ্জ': 2, 'চি': 2, '▁চা': 2, 'ডিয়ার': 2, '▁ইতা': 2, '▁লইবা': 2, 'ামা': 2, '▁তরফ্': 2, '▁বাজা': 2, '▁যাইব': 2, 'রানী': 2, 'নে': 2, '▁রাই': 2, '▁চুল': 2, 'ইল্লে': 2, '▁লার': 2, '▁গেইলা': 2, 'কাউ': 2, '▁গি': 2, 'ইলো': 2, 'েলা': 2, 'ঢ': 2, '▁ফাল': 2, '▁সু': 2, '▁খো': 2, 'ল্যা': 2, '▁খাই': 2, '▁অমাইনশত': 2, '▁দেহা': 2, '▁অমুক': 2, 'ড়': 2, '▁আইস্স': 2, '▁মু': 2, '▁ছা': 2, 'ুইক্': 2, 'দর': 2, '▁ঘ': 2, 'রী': 2, 'িয়াল': 2, '▁ফল': 2, '▁বই': 2, '▁পরিবেশ': 2, '▁অলর্': 2, '▁অষ্টধ': 2, '▁অসম্': 2, 'কা': 2, 'াইয্যা': 2, 'উয়': 2, '▁কে': 2, 'ম্মে': 2, 'বো': 2, 'ান': 2, '▁তে': 2, '▁বাগান': 2, 'ধ': 2, 'খে': 2, '▁আঁউইশ্য': 2, '▁আঁউশ': 2, 'ূ': 2, '়া': 2, '▁আঁকাই': 2, 'ইচ্ছা': 2, '▁আঁচানো': 2, 'ট্টা': 2, '▁আঁডু': 2, '▁আঁতুইয্': 2, '▁আঁতুইর': 2, '▁আঁন্ধা': 2, '▁গ্গা': 2, '▁কানাইয়া': 2, 'োথা': 2, '▁আঁযুইন্না': 2, 'ছ': 2, 'ারা': 2, 'অন্': 2, '▁আছ': 2, '▁আআনি': 2, 'ইচ্': 2, 'বাইদ্যা': 2, 'ইরাম্': 2, '▁আইলত': 2, '▁বাপ': 2, '▁আইস্': 2, '▁আইয়াশ': 2, '▁আইয়ুন': 2, '▁আউযা': 2, 'উলাম্': 2, '▁বাইয়ুন': 2, '▁আউয়া': 2, 'ছো': 2, '▁আওইশ্': 2, '▁আও': 2, '▁আখনি': 2, 'উ': 2, '▁আগুল': 2, '▁আচ্': 2, 'ছার্': 2, '▁আট': 2, '▁আটষৈট্': 2, '▁টিরিশ': 2, '▁মাত্র': 2, '▁পান্ন': 2, 'আড': 2, '▁তইর': 2, '▁আডাইশ্': 2, '▁আডি': 2, '▁আঢার': 2, '▁আত': 2, '▁কালা': 2, '▁আদৈ': 2, 'দোয়াইন্': 2, 'িন্': 2, 'আ': 2, 'সি': 2, 'চ্': 2, '▁আইয়': 1, 'িরা': 1, '▁বন্': 1, 'নাই': 1, 'ঁর': 1, 'হ': 1, 'চ্চ': 1, 'লত': 1, 'অন': 1, 'ঙ': 1, '্গা': 1, 'স্ত': 1, '▁মানু': 1, '▁এদ': 1, '্দে': 1, 'কর': 1, 'াদ': 1, 'হল': 1, 'বেক': 1, ';': 1, 'ঁচ': 1, 'কের': 1, 'াব': 1, 'ণ': 1, 'তল': 1, 'তুর': 1, 'াইত': 1, 'ওর': 1, '▁হত': 1, 'লো': 1, 'ইচ': 1, 'গর': 1, '▁পি': 1, 'য়ু': 1, 'জ': 1, '▁টি': 1, 'য়ে': 1, 'সল্লা': 1, 'আল': 1, 'দার': 1, 'ইশ্যা': 1, 'ইদ্য': 1, '▁তোয়': 1, '▁থ': 1, '▁অঅত্তর': 1, 'অনেরা': 1, '▁অইন্': 1, '▁অওড': 1, '▁অওন': 1, '▁অও': 1, 'স্থা': 1, 'ঁরা': 1, '▁অঁঅল': 1, 'উর': 1, 'ঁউর': 1, '▁অঁ': 1, 'রখা': 1, '▁মো': 1, 'ওতা': 1, '▁অগ': 1, 'য্যা': 1, '‘': 1, 'ট্ট': 1, 'তরফ্': 1, 'ুন্': 1, '▁হদ': 1, '▁হন্': 1, 'াফ': 1, 'তার': 1, 'গ্গা': 1, '▁মাইনস': 1, '▁গান': 1, 'টিন': 1, 'শত': 1, 'বহ': 1, 'ফার': 1, 'ইয়ের': 1, 'তই': 1, 'িশ': 1, 'মাত্র': 1, '▁বানাই': 1, '▁কাল': 1, 'ত্তাম': 1, 'উই': 1, 'বানা': 1, '▁ডরা': 1, '▁উয': 1, 'য়াকে': 1, 'ন্ডে': 1, 'টি': 1, 'ানের': 1, 'ইল্ল': 1, 'জার': 1, 'ুখ': 1, '▁জি': 1, 'দ্দ': 1, 'ুর': 1, '▁রা': 1, '▁অনু': 1, 'ধার': 1, '▁আইব': 1, '▁অনুমান': 1, 'ত্ত': 1, 'জিলা': 1, '▁দেহ': 1, 'ষ': 1, 'নের': 1, 'বাপ': 1, 'হাই': 1, 'বুক': 1, '্তাম': 1, 'রদে': 1, '?': 1, '▁অমু': 1, '▁গই': 1, 'ত্তু': 1, '্তর': 1, 'মুক': 1, '▁এর': 1, 'কম': 1, '▁পো': 1, 'োথ': 1, '▁কার': 1, 'িলা': 1, '▁ভ': 1, 'িটা': 1, '▁মাই': 1, '▁জাম': 1, 'ইবা': 1, 'ঝ': 1, 'ায়': 1, 'ক্ক': 1, '▁ইত': 1, 'াক': 1, '▁কলা': 1, '▁লাগ': 1, 'আইডা': 1, 'ারে': 1, '▁সর': 1, '্য': 1, '▁শু': 1, '্বর': 1, 'ন্ধ': 1, 'াক্কু': 1, 'ুষ্': 1, '▁নই': 1, 'েই': 1, 'লের': 1, '০২': 1, 'উট্': 1, '▁আঁউ': 1, 'সো': 1, 'ঁওলত': 1, '▁আঁচা': 1, '▁আঁছ': 1, 'আঁ': 1, 'জি': 1, '▁ধু': 1, '▁আঁড': 1, '▁আঁতুই': 1, '▁পে': 1, '▁আঁতু': 1, 'ন্ধা': 1, '▁আঁধাই': 1, '▁আঁযাআ': 1, 'আঁয': 1, 'রাঅত': 1, '▁আঁশ': 1, 'ংগন': 1, '▁আঅর': 1, 'আট্': 1, 'আর': 1, '▁গেই': 1, '▁যাই': 1, '▁আইট্': 1, 'াইচ্চ': 1, 'বর': 1, '▁আ্য': 1, '▁আইল': 1, 'ছর': 1, '▁আইস': 1, 'শু': 1, '▁আইয়ু': 1, 'ত্তা': 1, 'উন্': 1, '▁আউল': 1, 'উল্': 1, '▁দুয়': 1, 'মস': 1, '▁কর': 1, '▁শর': 1, 'াশ্': 1, 'েনে': 1, 'ওস্': 1, 'ইম্ম': 1, 'কাম': 1, '▁আকা': 1, 'ুর্': 1, '▁কল': 1, 'ঁত': 1, '▁আক্ক': 1, '▁আখা': 1, '▁আখ': 1, 'ৈল': 1, '▁বাড়': 1, '▁আচাই': 1, 'চাল': 1, 'পা': 1, 'ঘা': 1, 'ঁট': 1, 'টু': 1, '▁আডু': 1, 'কি': 1, 'খ্': 1, '▁আতাইক্': 1, 'তাইয্': 1, 'পাতা': 1, '▁আতিক্': 1, 'দু': 1, 'গিন': 1, '▁আধার': 1})\n",
            "len of full chattogram vocab:  853\n"
          ]
        }
      ],
      "source": [
        "full_chattogram_vocab = build_vocab(full_chattogram, chattogram_tokenizer)\n",
        "print('len of full chattogram vocab: ',len(full_chattogram_vocab))"
      ]
    },
    {
      "cell_type": "code",
      "execution_count": 48,
      "metadata": {
        "colab": {
          "base_uri": "https://localhost:8080/"
        },
        "id": "xwLMwpo7LsS9",
        "outputId": "ed58386d-2f84-489a-e3ba-ee7875ecb27b"
      },
      "outputs": [
        {
          "output_type": "stream",
          "name": "stdout",
          "text": [
            "Counter({'র': 110, 'ের': 70, 'ি': 68, '▁': 65, 'ে': 63, 'া': 60, '▁আ': 59, 'ল': 54, 'ন': 47, '▁না': 41, 'য়': 40, 'ত': 38, 'ম': 37, '▁অ': 30, '্য': 30, 'কার': 29, '▁হ': 27, 'ী': 26, '▁ম': 25, '▁মা': 24, 'ো': 23, 'জ': 22, 'ক': 22, '▁ও': 22, '▁বা': 21, 'প': 21, '▁করা': 20, 'লা': 20, '▁এ': 20, '▁এক': 20, 'তে': 19, 'শ': 19, '▁গ': 19, '▁আমার': 18, 'ণ': 18, 'টি': 18, '▁বাজে': 18, '▁নি': 17, '▁ব': 17, 'ু': 17, '▁প': 16, '▁হয়': 16, 'দ': 16, '▁আমাদের': 15, 'না': 15, 'ব': 15, '▁ক': 15, 'বা': 15, 'কে': 15, '▁ঐ': 15, '▁অন': 15, '▁বিশেষ': 15, 'ৎ': 15, 'িত': 14, '▁বে': 14, 'হীন': 14, 'ই': 14, '▁কাজ': 14, '▁জ': 14, '▁প্র': 14, 'রি': 13, '▁নাই': 13, '▁করে': 13, '▁ফ': 13, '▁শ': 13, '▁বি': 13, '▁অবস্থা': 13, '▁ন': 12, '▁আমি': 12, 'াই': 12, '-': 12, '▁কথা': 12, 'টা': 12, '▁দেওয়া': 12, 'ঠা': 12, 'াস': 11, '▁বোকা': 11, 'িবার': 11, '▁খাবার': 11, 'িয়া': 10, 'ধ': 10, '▁ভ': 10, '্ব': 10, '্': 10, '▁জন্য': 10, 'শ্ব': 10, 'সি': 10, '▁সব': 10, '▁যে': 10, '▁চাল': 10, '▁অব': 10, '▁ভাল': 9, '▁কর': 9, '▁মানুষ': 9, 'ং': 9, 'মন': 9, '▁টাকা': 9, 'জা': 9, '▁হইতে': 9, '▁উ': 9, '▁দু': 9, 'েছে': 9, '▁লোক': 9, 'ও': 9, '▁ব্য': 9, 'গ': 9, '▁জা': 9, 'কা': 8, '▁তুমি': 8, 'েক': 8, '▁খা': 8, '▁সে': 8, 'চ': 8, '▁চ': 8, 'কি': 8, 'তা': 8, '▁ত': 8, '▁আপনারা': 8, '▁এখন': 8, '▁আগুন': 8, 'খান': 8, '▁খেলা': 8, 'হ': 8, '▁ছেলে': 8, '▁আর': 8, '▁ঘরে': 8, 'ষ্ট': 8, '▁কলা': 8, 'ংশ': 8, '▁গাছ': 8, 'ন্দ': 7, '▁নির্': 7, 'মা': 7, 'বো': 7, '▁দিন': 7, 'লে': 7, '▁মাস': 7, '▁জামা': 7, 'দ্': 7, '▁ওই': 7, '▁স্থান': 7, '▁স': 7, '▁মজা': 7, '▁কী': 7, '▁যা': 7, '▁করো': 7, 'বেন': 7, '▁সু': 7, '▁কা': 7, 'াঁ': 7, '▁শব্দ': 7, '▁হাম': 7, 'ানো': 7, '▁পাত্র': 7, '▁বাড়ি': 6, 'ড়ি': 6, '▁পা': 6, '▁চি': 6, '▁রান্না': 6, 'বি': 6, '▁দি': 6, 'গো': 6, 'নি': 6, 'ট': 6, 'পদ': 6, 'ুড়ি': 6, 'ড়ানো': 6, 'কুন': 6, '▁মুখ': 6, '▁ঠিক': 6, 'ষ্ঠ': 6, '▁খু': 6, '▁আসবে': 6, '▁আস': 6, '▁সর': 6, '▁পিঠা': 6, '▁ভি': 6, '▁আমা': 6, 'নে': 6, '▁খ': 6, '▁বল': 6, 'দা': 6, '▁ই': 6, 'গল': 6, '▁সা': 6, 'াইয়া': 6, 'ন্ত': 6, 'রো': 6, 'পথ': 6, 'খ': 6, '▁নয়': 5, '▁কোথায়': 5, '▁নেই': 5, '▁স্বা': 5, '▁দ': 5, 'ড়া': 5, '▁তোমার': 5, 'স': 5, 'ঁক': 5, '▁মাছ': 5, 'টো': 5, '▁দা': 5, '▁কাল': 5, 'ফ': 5, 'ান': 5, '▁বেটা': 5, '▁একত্রে': 5, '▁আপনি': 5, '▁পর': 5, '▁কু': 5, 'ভাবে': 5, '▁দর': 5, 'গুল': 5, '▁যাহা': 5, '▁রাখ': 5, '▁আপনাকে': 5, '▁দাম': 5, 'স্': 5, '▁কোন': 5, 'চা': 5, '▁এই': 5, '▁ধর': 5, '▁র': 5, 'াগ': 5, '▁সো': 5, 'বার': 5, '▁থেকে': 5, '▁কাঠ': 5, 'িকতা': 5, '▁বড়': 5, 'চ্ছ': 5, '▁ঘ': 5, '▁ধ': 5, 'বে': 5, 'ক্ষ': 5, 'েয়ে': 5, '▁ছা': 5, '▁লাগ': 5, '▁কাছ': 5, '▁চোখে': 5, '▁করিয়া': 5, '▁বাঁশ': 5, '▁হাঁটু': 5, '▁দেখা': 5, '▁ছোট': 5, 'থ': 5, '▁ধান': 5, '▁সাম': 5, '▁তৈ': 5, '▁হা': 5, '▁অকর্মা': 5, '▁ভালো': 4, '▁কি': 4, '▁পরি': 4, 'স্থ': 4, '▁খাওয়া': 4, '▁সম': 4, '▁সমান': 4, 'যুক্ত': 4, '্বার': 4, 'ৃ': 4, '▁অকেজো': 4, '▁বো': 4, 'বু': 4, '▁শ্বশুর': 4, '▁ট': 4, '▁কুকুর': 4, 'ঘর': 4, 'সা': 4, '▁বেড়া': 4, 'য়াল': 4, '▁নিঃ': 4, '▁রাত': 4, '▁ঝ': 4, '▁দিকে': 4, '▁পানি': 4, '▁শা': 4, '▁সময়': 4, '▁আমলকী': 4, 'ৌ': 4, '▁পায়': 4, '▁সকল': 4, '▁ঐখানে': 4, 'স্থান': 4, '▁আগের': 4, '▁জায়গায়': 4, '▁অভ্য': 4, '▁সন্ধ': 4, '▁চিরু': 4, '▁ডাক': 4, '▁চোর': 4, 'ছিল': 4, '▁ওরা': 4, '▁খারাপ': 4, 'পার': 4, '▁ভা': 4, 'পা': 4, '▁বানা': 4, 'েজ': 4, '▁কই': 4, 'কাল': 4, 'িয়ে': 4, '▁জিনিস': 4, 'রা': 4, 'নুমান': 4, '▁ড': 4, 'রে': 4, '▁শেষ': 4, '▁দিয়ে': 4, '▁ডাকা': 4, '▁খে': 4, '▁অমা': 4, 'াল': 4, 'ছে': 4, '▁সম্': 4, '▁আছে': 4, 'ড': 4, 'হে': 4, '▁তো': 4, '▁পরিবেশ': 4, 'শ্চ': 4, 'ষ': 4, '▁করছো': 4, 'েত': 4, 'ভ': 4, '্যা': 4, '▁কিছু': 4, '▁হাত': 4, 'ুলি': 4, 'ঞ্জ': 4, '্প': 4, '▁সাধারণ': 4, '▁আধ': 4, 'ঁচ': 4, '▁অতি': 4, '▁অলস': 4, '▁আগামী': 4, '্ত': 4, '▁রাখা': 4, 'াফ': 4, 'যোগ': 4, '▁উত্ত': 4, 'ন্য': 4, 'র্থ': 4, 'ূত': 4, 'থান': 4, '▁অর্ধেক': 4, '▁আল': 3, 'মারি': 3, '▁আসছে': 3, 'ছি': 3, '▁মন': 3, '্ট': 3, '▁এব': 3, '।': 3, '্র': 3, 'ৃত': 3, '▁একে': 3, '▁স্বভাব': 3, 'চল': 3, 'ক্র': 3, '▁খেল': 3, 'ভাব': 3, 'তি': 3, 'ড়': 3, '▁লে': 3, 'গুন': 3, '▁ক্ষু': 3, '▁কেমন': 3, '▁দিয়া': 3, 'াওয়া': 3, '▁একত্রিত': 3, '▁নিক': 3, '▁আত': 3, 'ামে': 3, '▁এলো': 3, 'মেল': 3, '▁বেটি': 3, '▁কয়': 3, 'ত্যা': 3, 'চার': 3, '▁ইত্যাদি': 3, '▁ছিঃ': 3, '▁হরিতকী': 3, 'ূ': 3, 'াবেলা': 3, '▁অদ্ভুত': 3, 'র্বে': 3, '▁ওহে': 3, 'ছাল': 3, 'সে': 3, '▁বারো': 3, 'জন': 3, '▁একটু': 3, '▁রু': 3, 'দেশ': 3, '▁গু': 3, 'ালি': 3, 'াকী': 3, 'নেহ': 3, '▁বিয়ে': 3, '▁চলছে': 3, '▁কেন': 3, '▁ফেল': 3, '▁রুচি': 3, '▁টা': 3, 'োকা': 3, '▁গা': 3, '▁ডাল': 3, '▁গাড়ী': 3, '▁গেছ': 3, '▁চুল': 3, '▁দেখ': 3, '▁ওদের': 3, '▁নাকী': 3, '▁হাট': 3, '▁জন': 3, 'বন্ধ': 3, '▁এসে': 3, '▁মানুষে': 3, 'োর': 3, 'ঙ্': 3, '▁নাপিত': 3, '▁একগুঁয়ে': 3, 'র্': 3, 'ূর্': 3, '▁প্রান': 3, '▁জাম': 3, 'ুল': 3, 'ভাগ': 3, 'ৃণ': 3, 'য়ের': 3, 'লো': 3, 'িন': 3, 'শি': 3, '▁সংক': 3, 'িক': 3, 'ক্তি': 3, 'প্র': 3, 'ঙ্গি': 3, '▁হাঁস': 3, 'ংস': 3, 'ঁট': 3, '▁আমরা': 3, 'হা': 3, '▁অন্ধকার': 3, '▁আঁশ': 3, '▁দুইট': 3, 'টিয়ে': 3, '▁ছাল': 3, '▁চাউল': 3, '▁দেয়া': 3, 'মস': 3, '▁আঁচ': 3, '▁কো': 3, '▁প্রতিবন্ধক': 3, 'াপড়': 3, '▁নাড়ি': 3, '▁অন্ধের': 3, '▁য': 3, '▁অন্ধ': 3, 'াড়': 3, 'বিষ': 3, '▁আপন': 3, '▁বাঁধ': 3, 'মির': 3, '▁শ্র': 3, 'েখা': 3, 'পাতা': 3, 'ঁচা': 3, '▁আপনা': 3, '▁যন্ত্রণা': 3, '▁দাঁত': 3, 'োঁয়া': 3, 'থা': 3, 'াশ': 3, '▁বাধা': 3, '▁কাটা': 3, 'রী': 3, 'সন্তান': 3, '▁অস': 3, '▁কেউ': 2, '▁আসে': 2, '▁আস্তে': 2, 'তু': 2, 'পড়া': 2, 'লেখা': 2, '▁পাঁ': 2, 'ুকুর': 2, '▁লাগছে': 2, '▁যাচ্ছ': 2, 'লাম': 2, '▁চট': 2, 'গ্রা': 2, 'মবা': 2, '▁মর্যাদা': 2, 'স্ত': 2, '▁জন্ম': 2, 'গ্রহ': 2, '▁অধিকার': 2, '▁তার': 2, 'দ্ধ': 2, '▁চে': 2, '▁অপরের': 2, '▁আচর': 2, '▁উচি': 2, '▁অতিরিক্ত': 2, 'আ': 2, 'কেট': 2, '▁অনু': 2, '▁করছ': 2, '▁ভাই': 2, 'তল': 2, '▁পারবে': 2, '▁কাকা': 2, '▁কত': 2, '▁ঘর': 2, 'িঙ্গ': 2, 'ুট': 2, '▁ছাগল': 2, 'বয়স': 2, 'েম': 2, '▁পে': 2, 'সলা': 2, '▁ফাল': 2, '▁পরামর্শ': 2, 'ধার্': 2, '▁দুপুর': 2, '▁দাও': 2, '▁দাঁড়া': 2, '▁অগ্রহায়ণ': 2, '্মীয়': 2, 'ডাল': 2, '▁আংট': 2, 'গের': 2, '▁পূর্ব': 2, '▁আঙ্গুল': 2, '▁অসময়ে': 2, '▁দল': 2, '▁প্ররোচনা': 2, '▁উপদেশ': 2, '▁ঐর': 2, '▁একত্র': 2, '▁হওয়া': 2, '▁বাছা': 2, '▁শপথ': 2, '▁চিহ্ন': 2, '▁স্থানে': 2, '▁রকম': 2, 'ূর': 2, '্ষু': 2, '▁প্রতিশ্রুতি': 2, 'পান': 2, '৬': 2, 'সো': 2, 'ঁজ': 2, 'সব': 2, '▁রাখো': 2, 'টিন': 2, '▁চোরের': 2, '▁অফ': 2, '▁শী': 2, 'কালে': 2, 'ঞ্': 2, 'মাত্র': 2, '▁দেখে': 2, '▁আজ': 2, '▁কালকে': 2, '▁তাকে': 2, 'খানে': 2, '▁দেখাচ্ছো': 2, 'নিমন্ত্র': 2, 'েন': 2, '▁নাকি': 2, 'ম্ম': 2, '▁ভূল': 2, '▁দান': 2, '▁করবে': 2, '▁নে': 2, 'ুপ': 2, '▁রাস্তা': 2, '▁এনেছ': 2, '▁(': 2, 'র্থে': 2, ')': 2, 'ধা': 2, '▁নী': 2, 'বাজারে': 2, '▁যাব': 2, 'েয়া': 2, 'গেছে': 2, '▁বাড়': 2, '▁সীমানা': 2, '▁ঠিকানা': 2, 'িয়েছ': 2, 'িলেন': 2, 'চ্ছে': 2, '▁জি': 2, '▁মু': 2, 'মুর': 2, '▁যাবে': 2, '▁দিয়েছে': 2, '▁চলো': 2, 'মানুষ': 2, '▁অমান': 2, '▁গাল': 2, '▁পিট': 2, '▁দিসে': 2, '▁যায়': 2, '▁যন্ত্রপাতি': 2, '▁ছ': 2, 'াঢ়': 2, 'হর': 2, '▁ডা': 2, 'ল্': 2, '▁দিলে': 2, '▁বেশী': 2, 'অবজ্ঞা': 2, '▁ঔ': 2, '▁বহুগুণে': 2, 'ন্ন': 2, 'তঃস': 2, '্বা': 2, '▁সাফ': 2, 'তেছেন': 2, 'কথা': 2, '▁শুন': 2, '▁খোসা': 2, '▁মানে': 2, '▁ফুল': 2, '▁আমর': 2, '▁অনুষ্ঠান': 2, 'দি': 2, '▁বাদ': 2, '▁বাগান': 2, 'াখি': 2, 'ীয়': 2, '▁ঝগড়া': 2, '▁বিবা': 2, '▁আংটা': 2, 'বস্থা': 2, '▁অকর্ম': 2, '▁সর্ব': 2, '▁ধরিয়া': 2, '▁ধুত': 2, '▁বীচি': 2, '▁গোড়া': 2, 'লি': 2, '▁উপর': 2, '▁চলৎশক্তিহীন': 2, 'ত্র': 2, '▁স্ব': 2, 'ঘুট': 2, 'িহি': 2, '▁বুকে': 2, '▁জড়': 2, '▁আজা': 2, '▁ঢে': 2, 'ৈ': 2, '▁হাঁ': 2, 'মোরগ': 2, 'গী': 2, '▁ধরা': 2, 'র্ত': 2, '▁পূর্বে': 2, '▁জেয়াফত': 2, '▁আসতে': 2, 'দায়': 2, '▁অর্থে': 2, '▁আগম': 2, 'ার': 2, 'থালি': 2, 'মুখ': 2, '▁হাল': 2, '▁গরু': 2, 'য়ে': 2, 'কাজে': 2, 'বন': 2, '▁আসিবেন': 2, '▁বিলাস': 2, '▁ব্যবহার': 2, '▁আসেন': 2, 'ুলক': 2, 'ধে': 2, '▁কে': 2, 'বাক': 2, '▁গো': 2, 'জ্ঞ': 2, 'শ্': 2, '▁অস্': 2, '▁শার': 2, 'হু': 2, 'ারম': 2, '্ভ': 2, '▁অগ্রাহ': 2, '▁বুদ্ধি': 2, '▁জ্ঞান': 2, '▁বুদ্ধিমান': 2, 'ার্য': 2, 'স্বা': 2, 'বোল': 2, '▁অগ্র': 2, '▁অধৌত': 2, 'সল': 2, '▁বু': 2, 'ঝ': 2, '▁পাতিল': 2, '▁নিয়ম': 2, 'রেষ': 2, '▁অভি': 2, '্তে': 2, 'র্ধ': 2, '▁অশ': 2, '▁আটষট্টি': 2, '▁আটত্রিশ': 2, '▁মাত্র': 2, '▁আটান্ন': 2, '▁চারি': 2, '▁আটাত্তর': 2, '▁আটাশ': 2, 'োল': 2, 'শৃংখলা': 2, 'ন্ধা': 2, '▁মো': 2, '▁মুল': 2, '▁আদ': 2, 'ুরে': 2, 'নাড়ি': 2, 'জ্': 1, 'থাক': 1, 'সী': 1, '▁মানু': 1, 'ীনভাবে': 1, '▁বিব': 1, '▁প্রতি': 1, 'াঁচ': 1, 'চো': 1, 'ভব': 1, '▁কাক': 1, 'ন্': 1, 'লেট': 1, 'ুই': 1, 'ঁয়া': 1, '▁তু': 1, '▁খোঁ': 1, '▁তোমা': 1, 'ুদ্': 1, 'বারে': 1, '▁মুম': 1, 'শী': 1, 'িসে': 1, '▁বিচ': 1, 'থি': 1, 'বী': 1, '▁সন্তা': 1, ',': 1, 'ক্ষু': 1, 'বুকে': 1, 'ছিঃ': 1, 'াজারে': 1, '▁কম': 1, '▁নিবে': 1, '▁হও': 1, 'রানী': 1, '▁নিশ': 1, 'েখে': 1, 'িস': 1, 'উ': 1, 'পী': 1, '▁চু': 1, '▁খো': 1, 'ুনি': 1, 'খল': 1, '▁থ': 1, 'রকম': 1, 'াক': 1, '▁পড়': 1, '▁হত': 1, 'রিব': 1, '▁উপ': 1, '▁কোথা': 1, '▁আলম': 1, 'টাম': 1, 'ড়িত': 1, 'গ্ন': 1, '▁অন্': 1, '▁ঘু': 1, 'েড়া': 1, 'ড়ান': 1, '▁শু': 1, 'লেন': 1, 'ঈ': 1, 'গাছ': 1, 'রিকে': 1, '০২': 1, 'বশ': 1, '▁দিস': 1, '▁আচ': 1, 'িলা': 1, 'মে': 1, '▁চলৎ': 1, 'শক্তিহীন': 1, '▁বাগ': 1, 'ুচি': 1, '▁ঢ': 1, '▁ছি': 1, '▁গাড়': 1, 'ঁকড': 1, 'জায়': 1, '▁সন্ধা': 1, '▁ব্যবহ': 1, '▁পাত': 1, 'ড়াল': 1, '্ন': 1, '▁চো': 1, 'খো': 1, '▁হাতি': 1, 'জী': 1, '▁সীমা': 1, '▁কুড': 1, '▁আসছ': 1, '▁পূর্': 1, 'াহে': 1, 'োয়া': 1, 'িয়েছে': 1, 'বর্': 1, '▁কাট': 1, 'বাড়ি': 1, 'বল': 1, '▁ভাব': 1, 'কুল': 1, '▁চালে': 1, '▁সম্ম': 1, 'য়েছে': 1, 'েস': 1, 'বস্': 1, 'ুটে': 1, 'ঙ': 1, '.': 1, 'মৃদ': 1, 'নাকে': 1, 'বই': 1, 'িক্ষ': 1, 'ষে': 1, '▁অধিক': 1, 'দু': 1, '▁জায়গা': 1, 'ীত': 1, 'র্শ': 1, '▁দিক': 1, 'ুড়': 1, 'ইয়া': 1, '▁আগে': 1, 'রান্': 1, 'নুষ্ঠান': 1, 'স্থায়': 1, 'মান': 1, 'মণ': 1, 'দিক': 1, '▁শক্ত': 1, '▁চার': 1, 'পাশ': 1, 'তঃ': 1, 'তাকে': 1, 'ঝা': 1, 'দিন': 1, '▁হাঁট': 1, '▁ফা': 1, 'দিকে': 1, 'াও': 1, 'াপ': 1, 'োলা': 1, 'গাইয়া': 1, 'হার': 1, 'ংখ': 1, 'বাই': 1, 'মন্': 1, '▁আড়': 1, 'চোখে': 1, '▁বাজ': 1, '▁অগ্': 1, 'ঠ': 1, 'ছ': 1, 'ঃ': 1})\n",
            "len of full chattogram vocab:  888\n"
          ]
        }
      ],
      "source": [
        "full_bangla_vocab = build_vocab(full_bangla, bangla_tokenizer)\n",
        "print('len of full chattogram vocab: ',len(full_bangla_vocab))"
      ]
    },
    {
      "cell_type": "markdown",
      "metadata": {
        "id": "L5YqggO_O21C"
      },
      "source": [
        "## 6. Generate Train and Val Data Loader"
      ]
    },
    {
      "cell_type": "code",
      "execution_count": 49,
      "metadata": {
        "id": "3FKJafZpL7Yr"
      },
      "outputs": [],
      "source": [
        "def data_process(chattogram, bangla):\n",
        "    data = []\n",
        "    for (raw_chattogram, raw_bangla) in zip(chattogram, bangla):\n",
        "        chattogram_tensor_ = torch.tensor([full_chattogram_vocab[token] for token in chattogram_tokenizer.encode(raw_chattogram, out_type=str)],dtype=torch.long)\n",
        "        bangla_tensor_ = torch.tensor([full_bangla_vocab[token] for token in bangla_tokenizer.encode(raw_bangla, out_type=str)],dtype=torch.long)\n",
        "        data.append((chattogram_tensor_, bangla_tensor_))\n",
        "    return data"
      ]
    },
    {
      "cell_type": "code",
      "execution_count": 50,
      "metadata": {
        "id": "hJvnfaabNEu-"
      },
      "outputs": [],
      "source": [
        "train_data = data_process(train_chattogram, train_bangla)"
      ]
    },
    {
      "cell_type": "code",
      "execution_count": 51,
      "metadata": {
        "colab": {
          "base_uri": "https://localhost:8080/"
        },
        "id": "QX7sdk0fNLVt",
        "outputId": "1d12178c-18d2-44cf-ca8e-3765ffc25047"
      },
      "outputs": [
        {
          "output_type": "execute_result",
          "data": {
            "text/plain": [
              "[(tensor([4]), tensor([4])),\n",
              " (tensor([5]), tensor([5, 6])),\n",
              " (tensor([6, 7]), tensor([7])),\n",
              " (tensor([ 4,  8,  9, 10, 11, 12, 13, 14, 15, 16]),\n",
              "  tensor([ 7,  8,  9, 10, 11, 12])),\n",
              " (tensor([17, 18]), tensor([13, 14])),\n",
              " (tensor([19, 20, 21]), tensor([15])),\n",
              " (tensor([22, 23, 24, 22, 23, 24]), tensor([16, 16])),\n",
              " (tensor([25, 26]), tensor([17, 18, 19])),\n",
              " (tensor([25]), tensor([20])),\n",
              " (tensor([27, 28]), tensor([21, 22, 23]))]"
            ]
          },
          "metadata": {},
          "execution_count": 51
        }
      ],
      "source": [
        "train_data[:10]"
      ]
    },
    {
      "cell_type": "code",
      "execution_count": 52,
      "metadata": {
        "id": "DLJkiFHUMPiD"
      },
      "outputs": [],
      "source": [
        "val_data = data_process(val_chattogram, val_bangla)"
      ]
    },
    {
      "cell_type": "code",
      "execution_count": 53,
      "metadata": {
        "colab": {
          "base_uri": "https://localhost:8080/"
        },
        "id": "WywQnq2uM-tc",
        "outputId": "e3913193-a6bf-4e49-8f45-9fb2e5e48c7b"
      },
      "outputs": [
        {
          "output_type": "execute_result",
          "data": {
            "text/plain": [
              "[(tensor([19, 35]), tensor([ 37, 100,  99])),\n",
              " (tensor([ 19,  35,  64, 180]), tensor([ 37, 100,  99,  79, 319,  75,  54])),\n",
              " (tensor([ 19,  35, 846, 235]), tensor([ 37,  99, 133, 141])),\n",
              " (tensor([ 19,  35, 847,  22]), tensor([825,  19, 241])),\n",
              " (tensor([ 19,  35, 847,  22]),\n",
              "  tensor([ 37,  19, 204, 535,  21, 137, 131, 158, 754])),\n",
              " (tensor([ 19,  35, 848,  16]), tensor([566, 761, 207, 133, 259,  54])),\n",
              " (tensor([ 19,  35, 848,  16, 671]), tensor([350, 687, 259, 566, 761, 598])),\n",
              " (tensor([ 19, 180, 180, 291,  56]),\n",
              "  tensor([566, 100,  63, 109, 202,  65,  81, 199, 405, 145,  19])),\n",
              " (tensor([ 19, 180, 128, 105,  22,  93]), tensor([ 37,  19, 406, 150])),\n",
              " (tensor([844, 151,  35]), tensor([ 21,  28, 122,  75, 296]))]"
            ]
          },
          "metadata": {},
          "execution_count": 53
        }
      ],
      "source": [
        "val_data[:10]"
      ]
    },
    {
      "cell_type": "code",
      "execution_count": 54,
      "metadata": {
        "id": "20bea7a5"
      },
      "outputs": [],
      "source": [
        "BATCH_SIZE = 150\n",
        "PAD_IDX = full_chattogram_vocab['<pad>']\n",
        "BOS_IDX = full_chattogram_vocab['<bos>']\n",
        "EOS_IDX = full_chattogram_vocab['<eos>']\n",
        "\n",
        "def generate_batch(data_batch):\n",
        "    chattogram_batch, bangla_batch = [], []\n",
        "    for (chattogram_item, bangla_item) in data_batch:\n",
        "        chattogram_batch.append(torch.cat([torch.tensor([BOS_IDX]), chattogram_item, torch.tensor([EOS_IDX])], dim=0))\n",
        "        bangla_batch.append(torch.cat([torch.tensor([BOS_IDX]), bangla_item, torch.tensor([EOS_IDX])], dim=0))\n",
        "    chattogram_batch = pad_sequence(chattogram_batch, padding_value=PAD_IDX)\n",
        "    bangla_batch = pad_sequence(bangla_batch, padding_value=PAD_IDX)\n",
        "    return chattogram_batch, bangla_batch\n",
        "\n",
        "train_iter = DataLoader(train_data, batch_size=BATCH_SIZE,shuffle=True, collate_fn=generate_batch)\n",
        "val_iter = DataLoader(val_data, batch_size=BATCH_SIZE,shuffle=True, collate_fn=generate_batch)"
      ]
    },
    {
      "cell_type": "code",
      "execution_count": 55,
      "metadata": {
        "colab": {
          "base_uri": "https://localhost:8080/"
        },
        "id": "4HJ49RpROI92",
        "outputId": "a43eefe4-4e8f-4630-de3e-443a1cdae9c9"
      },
      "outputs": [
        {
          "output_type": "stream",
          "name": "stdout",
          "text": [
            "tensor([2, 2, 2, 2, 2, 2, 2, 2, 2, 2, 2, 2, 2, 2, 2, 2, 2, 2, 2, 2, 2, 2, 2, 2,\n",
            "        2, 2, 2, 2, 2, 2, 2, 2, 2, 2, 2, 2, 2, 2, 2, 2, 2, 2, 2, 2, 2, 2, 2, 2,\n",
            "        2, 2, 2, 2, 2, 2, 2, 2, 2, 2, 2, 2, 2, 2, 2, 2, 2, 2, 2, 2, 2, 2, 2, 2,\n",
            "        2, 2, 2, 2, 2, 2, 2, 2, 2, 2, 2, 2, 2, 2, 2, 2, 2, 2, 2, 2, 2, 2, 2, 2,\n",
            "        2, 2, 2, 2, 2, 2, 2, 2, 2, 2, 2, 2, 2, 2, 2, 2, 2, 2, 2, 2, 2, 2, 2, 2,\n",
            "        2, 2, 2, 2, 2, 2, 2, 2, 2, 2, 2, 2, 2, 2, 2, 2, 2, 2, 2, 2, 2, 2, 2, 2,\n",
            "        2, 2, 2, 2, 2, 2])\n",
            "tensor([2, 2, 2, 2, 2, 2, 2, 2, 2, 2, 2, 2, 2, 2, 2, 2, 2, 2, 2, 2, 2, 2, 2, 2,\n",
            "        2, 2, 2, 2, 2, 2, 2, 2, 2, 2, 2, 2, 2, 2, 2, 2, 2, 2, 2, 2, 2, 2, 2, 2,\n",
            "        2, 2])\n"
          ]
        }
      ],
      "source": [
        "for batch in val_iter:\n",
        "  print(batch[0][0])"
      ]
    },
    {
      "cell_type": "markdown",
      "metadata": {
        "id": "_Aj0IMwsPATR"
      },
      "source": [
        "## 7. Implement Sequence 2 Sequence (Seq2Seq) Model using Transformer"
      ]
    },
    {
      "cell_type": "code",
      "execution_count": 56,
      "metadata": {
        "id": "f105defe"
      },
      "outputs": [],
      "source": [
        "from torch.nn import (TransformerEncoder, TransformerDecoder,\n",
        "                      TransformerEncoderLayer, TransformerDecoderLayer)\n",
        "\n",
        "\n",
        "class Seq2SeqTransformer(nn.Module):\n",
        "    def __init__(self, num_encoder_layers: int, num_decoder_layers: int,\n",
        "                 emb_size: int, src_vocab_size: int, tgt_vocab_size: int,\n",
        "                 dim_feedforward:int = 512, dropout:float = 0.1):\n",
        "        super(Seq2SeqTransformer, self).__init__()\n",
        "        encoder_layer = TransformerEncoderLayer(\n",
        "            d_model=emb_size,\n",
        "            nhead=NHEAD,\n",
        "            dim_feedforward=dim_feedforward\n",
        "            )\n",
        "        self.transformer_encoder = TransformerEncoder(\n",
        "            encoder_layer,\n",
        "            num_layers=num_encoder_layers\n",
        "            )\n",
        "        decoder_layer = TransformerDecoderLayer(\n",
        "            d_model=emb_size,\n",
        "            nhead=NHEAD,\n",
        "            dim_feedforward=dim_feedforward\n",
        "            )\n",
        "        self.transformer_decoder = TransformerDecoder(\n",
        "            decoder_layer,\n",
        "            num_layers=num_decoder_layers\n",
        "            )\n",
        "\n",
        "        self.generator = nn.Linear(emb_size, tgt_vocab_size)\n",
        "        self.src_tok_emb = TokenEmbedding(src_vocab_size, emb_size)\n",
        "        self.tgt_tok_emb = TokenEmbedding(tgt_vocab_size, emb_size)\n",
        "        self.positional_encoding = PositionalEncoding(emb_size, dropout=dropout)\n",
        "\n",
        "    def forward(self, src: Tensor, trg: Tensor, src_mask: Tensor,\n",
        "                tgt_mask: Tensor, src_padding_mask: Tensor,\n",
        "                tgt_padding_mask: Tensor, memory_key_padding_mask: Tensor):\n",
        "        src_emb = self.positional_encoding(self.src_tok_emb(src))\n",
        "        tgt_emb = self.positional_encoding(self.tgt_tok_emb(trg))\n",
        "        memory = self.transformer_encoder(src_emb, src_mask, src_padding_mask)\n",
        "        outs = self.transformer_decoder(tgt_emb, memory, tgt_mask, None,\n",
        "                                        tgt_padding_mask, memory_key_padding_mask)\n",
        "        return self.generator(outs)\n",
        "\n",
        "    def encode(self, src: Tensor, src_mask: Tensor):\n",
        "        return self.transformer_encoder(self.positional_encoding(\n",
        "                            self.src_tok_emb(src)), src_mask)\n",
        "\n",
        "    def decode(self, tgt: Tensor, memory: Tensor, tgt_mask: Tensor):\n",
        "        return self.transformer_decoder(self.positional_encoding(\n",
        "                          self.tgt_tok_emb(tgt)), memory,\n",
        "                          tgt_mask)"
      ]
    },
    {
      "cell_type": "code",
      "execution_count": 57,
      "metadata": {
        "id": "5ba0825f"
      },
      "outputs": [],
      "source": [
        "class PositionalEncoding(nn.Module):\n",
        "    def __init__(self, emb_size: int, dropout, maxlen: int = 5000):\n",
        "        super(PositionalEncoding, self).__init__()\n",
        "        den = torch.exp(- torch.arange(0, emb_size, 2) * math.log(10000) / emb_size)\n",
        "        pos = torch.arange(0, maxlen).reshape(maxlen, 1)\n",
        "        pos_embedding = torch.zeros((maxlen, emb_size))\n",
        "        pos_embedding[:, 0::2] = torch.sin(pos * den)\n",
        "        pos_embedding[:, 1::2] = torch.cos(pos * den)\n",
        "        pos_embedding = pos_embedding.unsqueeze(-2)\n",
        "\n",
        "        self.dropout = nn.Dropout(dropout)\n",
        "        self.register_buffer('pos_embedding', pos_embedding)\n",
        "\n",
        "    def forward(self, token_embedding: Tensor):\n",
        "        return self.dropout(token_embedding +\n",
        "                            self.pos_embedding[:token_embedding.size(0),:])\n",
        "\n",
        "class TokenEmbedding(nn.Module):\n",
        "    def __init__(self, vocab_size: int, emb_size):\n",
        "        super(TokenEmbedding, self).__init__()\n",
        "        self.embedding = nn.Embedding(vocab_size, emb_size)\n",
        "        self.emb_size = emb_size\n",
        "    def forward(self, tokens: Tensor):\n",
        "        return self.embedding(tokens.long()) * math.sqrt(self.emb_size)"
      ]
    },
    {
      "cell_type": "code",
      "execution_count": 58,
      "metadata": {
        "id": "b7485ee9"
      },
      "outputs": [],
      "source": [
        "def generate_square_subsequent_mask(sz):\n",
        "    mask = (torch.triu(torch.ones((sz, sz), device=device)) == 1).transpose(0, 1)\n",
        "    mask = mask.float().masked_fill(mask == 0, float('-inf')).masked_fill(mask == 1, float(0.0))\n",
        "    return mask\n",
        "\n",
        "def create_mask(src, tgt):\n",
        "    src_seq_len = src.shape[0]\n",
        "    tgt_seq_len = tgt.shape[0]\n",
        "\n",
        "    tgt_mask = generate_square_subsequent_mask(tgt_seq_len)\n",
        "    src_mask = torch.zeros((src_seq_len, src_seq_len), device=device).type(torch.bool)\n",
        "\n",
        "    src_padding_mask = (src == PAD_IDX).transpose(0, 1)\n",
        "    tgt_padding_mask = (tgt == PAD_IDX).transpose(0, 1)\n",
        "    return src_mask, tgt_mask, src_padding_mask, tgt_padding_mask"
      ]
    },
    {
      "cell_type": "markdown",
      "metadata": {
        "id": "-TV2jtyJRc0R"
      },
      "source": [
        "## 8. Define Train Parameter for Seq2Seq Model"
      ]
    },
    {
      "cell_type": "code",
      "execution_count": 59,
      "metadata": {
        "colab": {
          "base_uri": "https://localhost:8080/"
        },
        "id": "aee59d2c",
        "outputId": "4fb4a148-7cae-423c-be88-605f1a60919d"
      },
      "outputs": [
        {
          "output_type": "stream",
          "name": "stderr",
          "text": [
            "/usr/local/lib/python3.10/dist-packages/torch/nn/modules/transformer.py:286: UserWarning: enable_nested_tensor is True, but self.use_nested_tensor is False because encoder_layer.self_attn.batch_first was not True(use batch_first for better inference performance)\n",
            "  warnings.warn(f\"enable_nested_tensor is True, but self.use_nested_tensor is False because {why_not_sparsity_fast_path}\")\n"
          ]
        }
      ],
      "source": [
        "from tqdm import tqdm\n",
        "SRC_VOCAB_SIZE = len(full_chattogram_vocab)\n",
        "TGT_VOCAB_SIZE = len(full_bangla_vocab)\n",
        "EMB_SIZE = 512\n",
        "NHEAD = 8\n",
        "FFN_HID_DIM = 512\n",
        "BATCH_SIZE = 150\n",
        "NUM_ENCODER_LAYERS = 6\n",
        "NUM_DECODER_LAYERS = 6\n",
        "NUM_EPOCHS = 300\n",
        "\n",
        "\n",
        "transformer = Seq2SeqTransformer(NUM_ENCODER_LAYERS, NUM_DECODER_LAYERS,\n",
        "                                 EMB_SIZE, SRC_VOCAB_SIZE, TGT_VOCAB_SIZE,\n",
        "                                 FFN_HID_DIM)\n",
        "\n",
        "for p in transformer.parameters():\n",
        "    if p.dim() > 1:\n",
        "        nn.init.xavier_uniform_(p)\n",
        "\n",
        "transformer = transformer.to(device)\n",
        "\n",
        "loss_fn = torch.nn.CrossEntropyLoss(ignore_index=PAD_IDX)\n",
        "\n",
        "optimizer = torch.optim.Adam(transformer.parameters(), lr=0.0001, betas=(0.9, 0.98), eps=1e-9)\n",
        "\n",
        "def train_epoch(model, train_iter, optimizer):\n",
        "    model.train()\n",
        "    losses = 0\n",
        "    for idx, (src, tgt) in enumerate(train_iter):\n",
        "#         print(\"training iter : \", idx)\n",
        "#     for idx in tqdm(range(len(train_iter))):\n",
        "#         src, tgt = train_iter[idx]\n",
        "        src = src.to(device)\n",
        "        tgt = tgt.to(device)\n",
        "\n",
        "        tgt_input = tgt[:-1, :]\n",
        "\n",
        "        src_mask, tgt_mask, src_padding_mask, tgt_padding_mask = create_mask(src, tgt_input)\n",
        "\n",
        "        logits = model(src, tgt_input, src_mask, tgt_mask,\n",
        "                                src_padding_mask, tgt_padding_mask, src_padding_mask)\n",
        "\n",
        "        optimizer.zero_grad()\n",
        "\n",
        "        tgt_out = tgt[1:,:]\n",
        "        loss = loss_fn(logits.reshape(-1, logits.shape[-1]), tgt_out.reshape(-1))\n",
        "        loss.backward()\n",
        "\n",
        "        optimizer.step()\n",
        "        losses += loss.item()\n",
        "    return losses / len(train_iter)\n"
      ]
    },
    {
      "cell_type": "code",
      "execution_count": 60,
      "metadata": {
        "id": "c2dabc04"
      },
      "outputs": [],
      "source": [
        "def evaluate(model, val_iter):\n",
        "    model.eval()\n",
        "    losses = 0\n",
        "    for idx, (src, tgt) in (enumerate(val_iter)):\n",
        "#         print(idx)\n",
        "        src = src.to(device)\n",
        "        tgt = tgt.to(device)\n",
        "\n",
        "        tgt_input = tgt[:-1, :]\n",
        "\n",
        "        src_mask, tgt_mask, src_padding_mask, tgt_padding_mask = create_mask(src, tgt_input)\n",
        "\n",
        "        logits = model(src, tgt_input, src_mask, tgt_mask,\n",
        "                                  src_padding_mask, tgt_padding_mask, src_padding_mask)\n",
        "        tgt_out = tgt[1:,:]\n",
        "        loss = loss_fn(logits.reshape(-1, logits.shape[-1]), tgt_out.reshape(-1))\n",
        "        losses += loss.item()\n",
        "    return losses / len(val_iter)"
      ]
    },
    {
      "cell_type": "markdown",
      "metadata": {
        "id": "-heTFR3lRt3w"
      },
      "source": [
        "## 9. Train Seq2Seq Transformer Model"
      ]
    },
    {
      "cell_type": "code",
      "execution_count": 61,
      "metadata": {
        "colab": {
          "base_uri": "https://localhost:8080/"
        },
        "id": "a130e410",
        "outputId": "9ab06c03-97f0-4328-e487-065410c918bd"
      },
      "outputs": [
        {
          "output_type": "stream",
          "name": "stderr",
          "text": [
            "/usr/local/lib/python3.10/dist-packages/torch/nn/functional.py:5109: UserWarning: Support for mismatched key_padding_mask and attn_mask is deprecated. Use same type for both instead.\n",
            "  warnings.warn(\n"
          ]
        },
        {
          "output_type": "stream",
          "name": "stdout",
          "text": [
            "Epoch: 1, Train loss: 6.215, val loss : 5.794 Epoch time = 2.839s\n",
            "Epoch: 2, Train loss: 5.856, val loss : 5.565 Epoch time = 1.330s\n",
            "Epoch: 3, Train loss: 5.761, val loss : 5.530 Epoch time = 1.367s\n",
            "Epoch: 4, Train loss: 5.728, val loss : 5.484 Epoch time = 1.327s\n",
            "Epoch: 5, Train loss: 5.709, val loss : 5.475 Epoch time = 1.179s\n",
            "Epoch: 6, Train loss: 5.635, val loss : 5.447 Epoch time = 1.343s\n",
            "Epoch: 7, Train loss: 5.601, val loss : 5.446 Epoch time = 1.307s\n",
            "Epoch: 8, Train loss: 5.536, val loss : 5.409 Epoch time = 1.317s\n",
            "Epoch: 9, Train loss: 5.482, val loss : 5.330 Epoch time = 1.331s\n",
            "Epoch: 10, Train loss: 5.358, val loss : 5.454 Epoch time = 1.358s\n",
            "Epoch: 11, Train loss: 5.260, val loss : 5.512 Epoch time = 1.343s\n",
            "Epoch: 12, Train loss: 5.131, val loss : 5.604 Epoch time = 1.359s\n",
            "Epoch: 13, Train loss: 5.032, val loss : 5.675 Epoch time = 1.326s\n",
            "Epoch: 14, Train loss: 4.855, val loss : 5.807 Epoch time = 1.444s\n",
            "Epoch: 15, Train loss: 4.721, val loss : 5.707 Epoch time = 1.359s\n",
            "Epoch: 16, Train loss: 4.595, val loss : 5.793 Epoch time = 1.415s\n",
            "Epoch: 17, Train loss: 4.444, val loss : 5.845 Epoch time = 1.353s\n",
            "Epoch: 18, Train loss: 4.348, val loss : 5.950 Epoch time = 1.360s\n",
            "Epoch: 19, Train loss: 4.172, val loss : 6.024 Epoch time = 1.460s\n",
            "Epoch: 20, Train loss: 4.109, val loss : 5.897 Epoch time = 1.491s\n",
            "Epoch: 21, Train loss: 4.031, val loss : 6.035 Epoch time = 1.368s\n",
            "Epoch: 22, Train loss: 3.925, val loss : 6.106 Epoch time = 1.149s\n",
            "Epoch: 23, Train loss: 3.806, val loss : 6.038 Epoch time = 1.385s\n",
            "Epoch: 24, Train loss: 3.712, val loss : 6.072 Epoch time = 1.136s\n",
            "Epoch: 25, Train loss: 3.626, val loss : 6.249 Epoch time = 1.421s\n",
            "Epoch: 26, Train loss: 3.549, val loss : 6.205 Epoch time = 1.130s\n",
            "Epoch: 27, Train loss: 3.437, val loss : 6.142 Epoch time = 1.488s\n",
            "Epoch: 28, Train loss: 3.338, val loss : 6.181 Epoch time = 1.428s\n",
            "Epoch: 29, Train loss: 3.287, val loss : 6.207 Epoch time = 1.459s\n",
            "Epoch: 30, Train loss: 3.182, val loss : 6.153 Epoch time = 1.388s\n",
            "Epoch: 31, Train loss: 3.093, val loss : 6.121 Epoch time = 1.458s\n",
            "Epoch: 32, Train loss: 3.033, val loss : 6.166 Epoch time = 1.482s\n",
            "Epoch: 33, Train loss: 2.942, val loss : 6.316 Epoch time = 1.448s\n",
            "Epoch: 34, Train loss: 2.892, val loss : 6.382 Epoch time = 1.446s\n",
            "Epoch: 35, Train loss: 2.823, val loss : 6.405 Epoch time = 1.499s\n",
            "Epoch: 36, Train loss: 2.731, val loss : 6.528 Epoch time = 1.444s\n",
            "Epoch: 37, Train loss: 2.674, val loss : 6.489 Epoch time = 1.493s\n",
            "Epoch: 38, Train loss: 2.634, val loss : 6.432 Epoch time = 1.470s\n",
            "Epoch: 39, Train loss: 2.557, val loss : 6.460 Epoch time = 1.443s\n",
            "Epoch: 40, Train loss: 2.503, val loss : 6.430 Epoch time = 1.198s\n",
            "Epoch: 41, Train loss: 2.411, val loss : 6.591 Epoch time = 1.492s\n",
            "Epoch: 42, Train loss: 2.378, val loss : 6.331 Epoch time = 1.547s\n",
            "Epoch: 43, Train loss: 2.285, val loss : 6.505 Epoch time = 1.473s\n",
            "Epoch: 44, Train loss: 2.245, val loss : 6.591 Epoch time = 1.465s\n",
            "Epoch: 45, Train loss: 2.203, val loss : 6.589 Epoch time = 1.597s\n",
            "Epoch: 46, Train loss: 2.146, val loss : 6.495 Epoch time = 1.475s\n",
            "Epoch: 47, Train loss: 2.109, val loss : 6.402 Epoch time = 1.482s\n",
            "Epoch: 48, Train loss: 2.084, val loss : 6.515 Epoch time = 1.308s\n",
            "Epoch: 49, Train loss: 1.989, val loss : 6.495 Epoch time = 1.497s\n",
            "Epoch: 50, Train loss: 1.958, val loss : 6.516 Epoch time = 1.479s\n",
            "Epoch: 51, Train loss: 1.915, val loss : 6.663 Epoch time = 1.500s\n",
            "Epoch: 52, Train loss: 1.845, val loss : 6.713 Epoch time = 1.471s\n",
            "Epoch: 53, Train loss: 1.807, val loss : 6.654 Epoch time = 1.460s\n",
            "Epoch: 54, Train loss: 1.717, val loss : 6.496 Epoch time = 1.457s\n",
            "Epoch: 55, Train loss: 1.682, val loss : 6.618 Epoch time = 1.411s\n",
            "Epoch: 56, Train loss: 1.674, val loss : 6.748 Epoch time = 1.513s\n",
            "Epoch: 57, Train loss: 1.594, val loss : 6.707 Epoch time = 1.524s\n",
            "Epoch: 58, Train loss: 1.625, val loss : 6.657 Epoch time = 1.198s\n",
            "Epoch: 59, Train loss: 1.545, val loss : 6.524 Epoch time = 1.529s\n",
            "Epoch: 60, Train loss: 1.459, val loss : 6.538 Epoch time = 1.442s\n",
            "Epoch: 61, Train loss: 1.503, val loss : 6.792 Epoch time = 1.266s\n",
            "Epoch: 62, Train loss: 1.450, val loss : 6.740 Epoch time = 1.240s\n",
            "Epoch: 63, Train loss: 1.379, val loss : 6.623 Epoch time = 1.408s\n",
            "Epoch: 64, Train loss: 1.301, val loss : 6.813 Epoch time = 1.519s\n",
            "Epoch: 65, Train loss: 1.306, val loss : 6.640 Epoch time = 1.209s\n",
            "Epoch: 66, Train loss: 1.232, val loss : 7.001 Epoch time = 1.517s\n",
            "Epoch: 67, Train loss: 1.209, val loss : 6.937 Epoch time = 1.549s\n",
            "Epoch: 68, Train loss: 1.165, val loss : 6.825 Epoch time = 1.407s\n",
            "Epoch: 69, Train loss: 1.128, val loss : 6.864 Epoch time = 1.488s\n",
            "Epoch: 70, Train loss: 1.091, val loss : 6.795 Epoch time = 1.548s\n",
            "Epoch: 71, Train loss: 1.044, val loss : 6.842 Epoch time = 1.550s\n",
            "Epoch: 72, Train loss: 1.043, val loss : 6.862 Epoch time = 1.464s\n",
            "Epoch: 73, Train loss: 1.009, val loss : 7.090 Epoch time = 1.491s\n",
            "Epoch: 74, Train loss: 0.992, val loss : 6.878 Epoch time = 1.515s\n",
            "Epoch: 75, Train loss: 0.958, val loss : 7.005 Epoch time = 1.430s\n",
            "Epoch: 76, Train loss: 0.916, val loss : 6.831 Epoch time = 1.446s\n",
            "Epoch: 77, Train loss: 0.883, val loss : 6.923 Epoch time = 1.501s\n",
            "Epoch: 78, Train loss: 0.854, val loss : 6.795 Epoch time = 1.430s\n",
            "Epoch: 79, Train loss: 0.828, val loss : 6.941 Epoch time = 1.488s\n",
            "Epoch: 80, Train loss: 0.823, val loss : 7.259 Epoch time = 1.431s\n",
            "Epoch: 81, Train loss: 0.776, val loss : 7.030 Epoch time = 1.497s\n",
            "Epoch: 82, Train loss: 0.745, val loss : 7.029 Epoch time = 1.538s\n",
            "Epoch: 83, Train loss: 0.720, val loss : 6.905 Epoch time = 1.452s\n",
            "Epoch: 84, Train loss: 0.709, val loss : 7.053 Epoch time = 1.471s\n",
            "Epoch: 85, Train loss: 0.668, val loss : 6.928 Epoch time = 1.537s\n",
            "Epoch: 86, Train loss: 0.661, val loss : 7.013 Epoch time = 1.436s\n",
            "Epoch: 87, Train loss: 0.653, val loss : 6.919 Epoch time = 1.452s\n",
            "Epoch: 88, Train loss: 0.609, val loss : 7.137 Epoch time = 1.546s\n",
            "Epoch: 89, Train loss: 0.584, val loss : 6.987 Epoch time = 1.508s\n",
            "Epoch: 90, Train loss: 0.574, val loss : 7.405 Epoch time = 1.443s\n",
            "Epoch: 91, Train loss: 0.532, val loss : 7.145 Epoch time = 1.549s\n",
            "Epoch: 92, Train loss: 0.524, val loss : 7.081 Epoch time = 1.461s\n",
            "Epoch: 93, Train loss: 0.516, val loss : 7.141 Epoch time = 1.458s\n",
            "Epoch: 94, Train loss: 0.487, val loss : 7.114 Epoch time = 1.483s\n",
            "Epoch: 95, Train loss: 0.474, val loss : 7.034 Epoch time = 1.575s\n",
            "Epoch: 96, Train loss: 0.453, val loss : 7.142 Epoch time = 1.484s\n",
            "Epoch: 97, Train loss: 0.443, val loss : 7.253 Epoch time = 1.420s\n",
            "Epoch: 98, Train loss: 0.439, val loss : 7.206 Epoch time = 1.459s\n",
            "Epoch: 99, Train loss: 0.413, val loss : 7.193 Epoch time = 1.422s\n",
            "Epoch: 100, Train loss: 0.404, val loss : 7.083 Epoch time = 1.503s\n",
            "Epoch: 101, Train loss: 0.399, val loss : 7.411 Epoch time = 1.286s\n",
            "Epoch: 102, Train loss: 0.376, val loss : 7.116 Epoch time = 1.426s\n",
            "Epoch: 103, Train loss: 0.361, val loss : 7.017 Epoch time = 1.489s\n",
            "Epoch: 104, Train loss: 0.348, val loss : 7.256 Epoch time = 1.255s\n",
            "Epoch: 105, Train loss: 0.328, val loss : 7.105 Epoch time = 1.452s\n",
            "Epoch: 106, Train loss: 0.325, val loss : 7.293 Epoch time = 1.475s\n",
            "Epoch: 107, Train loss: 0.316, val loss : 7.418 Epoch time = 1.432s\n",
            "Epoch: 108, Train loss: 0.296, val loss : 7.304 Epoch time = 1.577s\n",
            "Epoch: 109, Train loss: 0.291, val loss : 7.080 Epoch time = 1.458s\n",
            "Epoch: 110, Train loss: 0.297, val loss : 7.224 Epoch time = 1.475s\n",
            "Epoch: 111, Train loss: 0.275, val loss : 7.176 Epoch time = 1.473s\n",
            "Epoch: 112, Train loss: 0.267, val loss : 7.465 Epoch time = 1.478s\n",
            "Epoch: 113, Train loss: 0.264, val loss : 7.303 Epoch time = 1.474s\n",
            "Epoch: 114, Train loss: 0.249, val loss : 7.231 Epoch time = 1.437s\n",
            "Epoch: 115, Train loss: 0.239, val loss : 7.116 Epoch time = 1.554s\n",
            "Epoch: 116, Train loss: 0.227, val loss : 7.505 Epoch time = 1.500s\n",
            "Epoch: 117, Train loss: 0.226, val loss : 7.275 Epoch time = 1.457s\n",
            "Epoch: 118, Train loss: 0.223, val loss : 7.565 Epoch time = 1.422s\n",
            "Epoch: 119, Train loss: 0.218, val loss : 7.512 Epoch time = 1.500s\n",
            "Epoch: 120, Train loss: 0.216, val loss : 7.732 Epoch time = 1.458s\n",
            "Epoch: 121, Train loss: 0.207, val loss : 7.577 Epoch time = 1.558s\n",
            "Epoch: 122, Train loss: 0.196, val loss : 7.479 Epoch time = 1.466s\n",
            "Epoch: 123, Train loss: 0.200, val loss : 7.393 Epoch time = 1.436s\n",
            "Epoch: 124, Train loss: 0.182, val loss : 7.142 Epoch time = 1.446s\n",
            "Epoch: 125, Train loss: 0.180, val loss : 7.506 Epoch time = 1.455s\n",
            "Epoch: 126, Train loss: 0.176, val loss : 7.494 Epoch time = 1.503s\n",
            "Epoch: 127, Train loss: 0.164, val loss : 7.511 Epoch time = 1.492s\n",
            "Epoch: 128, Train loss: 0.164, val loss : 7.441 Epoch time = 1.465s\n",
            "Epoch: 129, Train loss: 0.159, val loss : 7.265 Epoch time = 1.534s\n",
            "Epoch: 130, Train loss: 0.155, val loss : 7.499 Epoch time = 1.487s\n",
            "Epoch: 131, Train loss: 0.150, val loss : 7.294 Epoch time = 1.470s\n",
            "Epoch: 132, Train loss: 0.146, val loss : 7.727 Epoch time = 1.456s\n",
            "Epoch: 133, Train loss: 0.143, val loss : 7.427 Epoch time = 1.447s\n",
            "Epoch: 134, Train loss: 0.139, val loss : 7.726 Epoch time = 1.501s\n",
            "Epoch: 135, Train loss: 0.140, val loss : 7.662 Epoch time = 1.545s\n",
            "Epoch: 136, Train loss: 0.133, val loss : 7.673 Epoch time = 1.433s\n",
            "Epoch: 137, Train loss: 0.137, val loss : 7.475 Epoch time = 1.523s\n",
            "Epoch: 138, Train loss: 0.134, val loss : 7.745 Epoch time = 1.530s\n",
            "Epoch: 139, Train loss: 0.130, val loss : 7.868 Epoch time = 1.518s\n",
            "Epoch: 140, Train loss: 0.128, val loss : 7.723 Epoch time = 1.465s\n",
            "Epoch: 141, Train loss: 0.122, val loss : 7.873 Epoch time = 1.489s\n",
            "Epoch: 142, Train loss: 0.120, val loss : 7.342 Epoch time = 1.504s\n",
            "Epoch: 143, Train loss: 0.113, val loss : 7.623 Epoch time = 1.468s\n",
            "Epoch: 144, Train loss: 0.116, val loss : 7.685 Epoch time = 1.505s\n",
            "Epoch: 145, Train loss: 0.111, val loss : 7.613 Epoch time = 1.277s\n",
            "Epoch: 146, Train loss: 0.115, val loss : 7.606 Epoch time = 1.459s\n",
            "Epoch: 147, Train loss: 0.106, val loss : 7.840 Epoch time = 1.478s\n",
            "Epoch: 148, Train loss: 0.106, val loss : 7.891 Epoch time = 1.451s\n",
            "Epoch: 149, Train loss: 0.105, val loss : 7.842 Epoch time = 1.473s\n",
            "Epoch: 150, Train loss: 0.105, val loss : 7.623 Epoch time = 1.558s\n",
            "Epoch: 151, Train loss: 0.101, val loss : 7.539 Epoch time = 1.474s\n",
            "Epoch: 152, Train loss: 0.103, val loss : 8.013 Epoch time = 1.483s\n",
            "Epoch: 153, Train loss: 0.097, val loss : 7.546 Epoch time = 1.509s\n",
            "Epoch: 154, Train loss: 0.102, val loss : 7.544 Epoch time = 1.458s\n",
            "Epoch: 155, Train loss: 0.096, val loss : 7.621 Epoch time = 1.427s\n",
            "Epoch: 156, Train loss: 0.086, val loss : 7.399 Epoch time = 1.457s\n",
            "Epoch: 157, Train loss: 0.084, val loss : 7.685 Epoch time = 1.464s\n",
            "Epoch: 158, Train loss: 0.079, val loss : 7.321 Epoch time = 1.466s\n",
            "Epoch: 159, Train loss: 0.082, val loss : 7.776 Epoch time = 1.570s\n",
            "Epoch: 160, Train loss: 0.085, val loss : 7.869 Epoch time = 1.531s\n",
            "Epoch: 161, Train loss: 0.080, val loss : 7.864 Epoch time = 1.491s\n",
            "Epoch: 162, Train loss: 0.085, val loss : 8.123 Epoch time = 1.439s\n",
            "Epoch: 163, Train loss: 0.082, val loss : 7.713 Epoch time = 1.478s\n",
            "Epoch: 164, Train loss: 0.080, val loss : 7.820 Epoch time = 1.486s\n",
            "Epoch: 165, Train loss: 0.072, val loss : 7.894 Epoch time = 1.544s\n",
            "Epoch: 166, Train loss: 0.071, val loss : 7.968 Epoch time = 1.533s\n",
            "Epoch: 167, Train loss: 0.080, val loss : 7.939 Epoch time = 1.499s\n",
            "Epoch: 168, Train loss: 0.070, val loss : 7.964 Epoch time = 1.468s\n",
            "Epoch: 169, Train loss: 0.073, val loss : 7.801 Epoch time = 1.544s\n",
            "Epoch: 170, Train loss: 0.070, val loss : 7.726 Epoch time = 1.574s\n",
            "Epoch: 171, Train loss: 0.068, val loss : 7.721 Epoch time = 1.179s\n",
            "Epoch: 172, Train loss: 0.063, val loss : 7.970 Epoch time = 1.445s\n",
            "Epoch: 173, Train loss: 0.064, val loss : 7.979 Epoch time = 1.580s\n",
            "Epoch: 174, Train loss: 0.066, val loss : 8.050 Epoch time = 1.484s\n",
            "Epoch: 175, Train loss: 0.068, val loss : 8.221 Epoch time = 1.487s\n",
            "Epoch: 176, Train loss: 0.068, val loss : 8.058 Epoch time = 1.451s\n",
            "Epoch: 177, Train loss: 0.064, val loss : 8.027 Epoch time = 1.484s\n",
            "Epoch: 178, Train loss: 0.066, val loss : 7.773 Epoch time = 1.470s\n",
            "Epoch: 179, Train loss: 0.063, val loss : 8.161 Epoch time = 1.521s\n",
            "Epoch: 180, Train loss: 0.063, val loss : 8.019 Epoch time = 1.536s\n",
            "Epoch: 181, Train loss: 0.067, val loss : 7.894 Epoch time = 1.557s\n",
            "Epoch: 182, Train loss: 0.065, val loss : 7.919 Epoch time = 1.444s\n",
            "Epoch: 183, Train loss: 0.058, val loss : 8.071 Epoch time = 1.445s\n",
            "Epoch: 184, Train loss: 0.066, val loss : 7.767 Epoch time = 1.567s\n",
            "Epoch: 185, Train loss: 0.065, val loss : 7.808 Epoch time = 1.437s\n",
            "Epoch: 186, Train loss: 0.068, val loss : 7.983 Epoch time = 1.529s\n",
            "Epoch: 187, Train loss: 0.060, val loss : 7.996 Epoch time = 1.474s\n",
            "Epoch: 188, Train loss: 0.057, val loss : 7.979 Epoch time = 1.511s\n",
            "Epoch: 189, Train loss: 0.059, val loss : 7.799 Epoch time = 1.523s\n",
            "Epoch: 190, Train loss: 0.057, val loss : 8.131 Epoch time = 1.471s\n",
            "Epoch: 191, Train loss: 0.060, val loss : 7.711 Epoch time = 1.458s\n",
            "Epoch: 192, Train loss: 0.062, val loss : 7.752 Epoch time = 1.526s\n",
            "Epoch: 193, Train loss: 0.056, val loss : 7.645 Epoch time = 1.485s\n",
            "Epoch: 194, Train loss: 0.055, val loss : 7.903 Epoch time = 1.193s\n",
            "Epoch: 195, Train loss: 0.056, val loss : 7.658 Epoch time = 1.480s\n",
            "Epoch: 196, Train loss: 0.053, val loss : 7.945 Epoch time = 1.564s\n",
            "Epoch: 197, Train loss: 0.063, val loss : 7.970 Epoch time = 1.528s\n",
            "Epoch: 198, Train loss: 0.055, val loss : 8.178 Epoch time = 1.448s\n",
            "Epoch: 199, Train loss: 0.057, val loss : 7.977 Epoch time = 1.480s\n",
            "Epoch: 200, Train loss: 0.052, val loss : 8.043 Epoch time = 1.495s\n",
            "Epoch: 201, Train loss: 0.049, val loss : 7.988 Epoch time = 1.490s\n",
            "Epoch: 202, Train loss: 0.049, val loss : 8.007 Epoch time = 1.477s\n",
            "Epoch: 203, Train loss: 0.048, val loss : 8.176 Epoch time = 1.471s\n",
            "Epoch: 204, Train loss: 0.049, val loss : 8.455 Epoch time = 1.557s\n",
            "Epoch: 205, Train loss: 0.048, val loss : 8.104 Epoch time = 1.447s\n",
            "Epoch: 206, Train loss: 0.054, val loss : 7.830 Epoch time = 1.465s\n",
            "Epoch: 207, Train loss: 0.054, val loss : 8.187 Epoch time = 1.465s\n",
            "Epoch: 208, Train loss: 0.055, val loss : 7.677 Epoch time = 1.475s\n",
            "Epoch: 209, Train loss: 0.053, val loss : 8.165 Epoch time = 1.505s\n",
            "Epoch: 210, Train loss: 0.047, val loss : 8.263 Epoch time = 1.513s\n",
            "Epoch: 211, Train loss: 0.046, val loss : 7.969 Epoch time = 1.465s\n",
            "Epoch: 212, Train loss: 0.048, val loss : 7.699 Epoch time = 1.546s\n",
            "Epoch: 213, Train loss: 0.046, val loss : 7.913 Epoch time = 1.409s\n",
            "Epoch: 214, Train loss: 0.045, val loss : 7.973 Epoch time = 1.536s\n",
            "Epoch: 215, Train loss: 0.044, val loss : 8.070 Epoch time = 1.192s\n",
            "Epoch: 216, Train loss: 0.046, val loss : 8.035 Epoch time = 1.471s\n",
            "Epoch: 217, Train loss: 0.046, val loss : 8.311 Epoch time = 1.533s\n",
            "Epoch: 218, Train loss: 0.048, val loss : 8.590 Epoch time = 1.405s\n",
            "Epoch: 219, Train loss: 0.046, val loss : 8.344 Epoch time = 1.402s\n",
            "Epoch: 220, Train loss: 0.048, val loss : 8.468 Epoch time = 1.451s\n",
            "Epoch: 221, Train loss: 0.051, val loss : 8.076 Epoch time = 1.461s\n",
            "Epoch: 222, Train loss: 0.049, val loss : 7.806 Epoch time = 1.455s\n",
            "Epoch: 223, Train loss: 0.049, val loss : 8.132 Epoch time = 1.474s\n",
            "Epoch: 224, Train loss: 0.044, val loss : 7.897 Epoch time = 1.283s\n",
            "Epoch: 225, Train loss: 0.043, val loss : 7.979 Epoch time = 1.511s\n",
            "Epoch: 226, Train loss: 0.040, val loss : 7.805 Epoch time = 1.489s\n",
            "Epoch: 227, Train loss: 0.043, val loss : 8.001 Epoch time = 1.467s\n",
            "Epoch: 228, Train loss: 0.043, val loss : 7.600 Epoch time = 1.523s\n",
            "Epoch: 229, Train loss: 0.053, val loss : 7.996 Epoch time = 1.453s\n",
            "Epoch: 230, Train loss: 0.051, val loss : 7.720 Epoch time = 1.478s\n",
            "Epoch: 231, Train loss: 0.047, val loss : 8.271 Epoch time = 1.539s\n",
            "Epoch: 232, Train loss: 0.046, val loss : 8.034 Epoch time = 1.497s\n",
            "Epoch: 233, Train loss: 0.048, val loss : 8.331 Epoch time = 1.457s\n",
            "Epoch: 234, Train loss: 0.042, val loss : 8.154 Epoch time = 1.551s\n",
            "Epoch: 235, Train loss: 0.044, val loss : 7.735 Epoch time = 1.459s\n",
            "Epoch: 236, Train loss: 0.043, val loss : 8.492 Epoch time = 1.462s\n",
            "Epoch: 237, Train loss: 0.040, val loss : 8.186 Epoch time = 1.471s\n",
            "Epoch: 238, Train loss: 0.040, val loss : 8.222 Epoch time = 1.548s\n",
            "Epoch: 239, Train loss: 0.038, val loss : 8.326 Epoch time = 1.487s\n",
            "Epoch: 240, Train loss: 0.036, val loss : 8.139 Epoch time = 1.540s\n",
            "Epoch: 241, Train loss: 0.038, val loss : 8.149 Epoch time = 1.557s\n",
            "Epoch: 242, Train loss: 0.039, val loss : 8.169 Epoch time = 1.496s\n",
            "Epoch: 243, Train loss: 0.041, val loss : 8.224 Epoch time = 1.441s\n",
            "Epoch: 244, Train loss: 0.038, val loss : 8.129 Epoch time = 1.551s\n",
            "Epoch: 245, Train loss: 0.042, val loss : 8.364 Epoch time = 1.484s\n",
            "Epoch: 246, Train loss: 0.048, val loss : 8.295 Epoch time = 1.509s\n",
            "Epoch: 247, Train loss: 0.044, val loss : 8.183 Epoch time = 1.536s\n",
            "Epoch: 248, Train loss: 0.054, val loss : 7.906 Epoch time = 1.463s\n",
            "Epoch: 249, Train loss: 0.051, val loss : 8.549 Epoch time = 1.484s\n",
            "Epoch: 250, Train loss: 0.048, val loss : 8.082 Epoch time = 1.573s\n",
            "Epoch: 251, Train loss: 0.040, val loss : 8.042 Epoch time = 1.467s\n",
            "Epoch: 252, Train loss: 0.044, val loss : 8.064 Epoch time = 1.464s\n",
            "Epoch: 253, Train loss: 0.047, val loss : 8.072 Epoch time = 1.472s\n",
            "Epoch: 254, Train loss: 0.046, val loss : 8.381 Epoch time = 1.539s\n",
            "Epoch: 255, Train loss: 0.044, val loss : 8.151 Epoch time = 1.422s\n",
            "Epoch: 256, Train loss: 0.042, val loss : 8.456 Epoch time = 1.548s\n",
            "Epoch: 257, Train loss: 0.044, val loss : 8.132 Epoch time = 1.502s\n",
            "Epoch: 258, Train loss: 0.040, val loss : 8.451 Epoch time = 1.439s\n",
            "Epoch: 259, Train loss: 0.039, val loss : 8.238 Epoch time = 1.425s\n",
            "Epoch: 260, Train loss: 0.036, val loss : 8.425 Epoch time = 1.527s\n",
            "Epoch: 261, Train loss: 0.037, val loss : 8.249 Epoch time = 1.466s\n",
            "Epoch: 262, Train loss: 0.038, val loss : 8.197 Epoch time = 1.461s\n",
            "Epoch: 263, Train loss: 0.037, val loss : 8.293 Epoch time = 1.483s\n",
            "Epoch: 264, Train loss: 0.042, val loss : 8.347 Epoch time = 1.479s\n",
            "Epoch: 265, Train loss: 0.039, val loss : 8.268 Epoch time = 1.513s\n",
            "Epoch: 266, Train loss: 0.038, val loss : 8.113 Epoch time = 1.477s\n",
            "Epoch: 267, Train loss: 0.034, val loss : 8.716 Epoch time = 1.482s\n",
            "Epoch: 268, Train loss: 0.036, val loss : 8.446 Epoch time = 1.556s\n",
            "Epoch: 269, Train loss: 0.038, val loss : 8.675 Epoch time = 1.441s\n",
            "Epoch: 270, Train loss: 0.039, val loss : 8.355 Epoch time = 1.466s\n",
            "Epoch: 271, Train loss: 0.036, val loss : 8.554 Epoch time = 1.543s\n",
            "Epoch: 272, Train loss: 0.039, val loss : 8.240 Epoch time = 1.448s\n",
            "Epoch: 273, Train loss: 0.035, val loss : 8.440 Epoch time = 1.488s\n",
            "Epoch: 274, Train loss: 0.035, val loss : 8.537 Epoch time = 1.533s\n",
            "Epoch: 275, Train loss: 0.037, val loss : 8.376 Epoch time = 1.479s\n",
            "Epoch: 276, Train loss: 0.038, val loss : 8.312 Epoch time = 1.448s\n",
            "Epoch: 277, Train loss: 0.038, val loss : 8.267 Epoch time = 1.533s\n",
            "Epoch: 278, Train loss: 0.037, val loss : 8.341 Epoch time = 1.191s\n",
            "Epoch: 279, Train loss: 0.039, val loss : 8.252 Epoch time = 1.426s\n",
            "Epoch: 280, Train loss: 0.038, val loss : 8.345 Epoch time = 1.292s\n",
            "Epoch: 281, Train loss: 0.032, val loss : 8.151 Epoch time = 1.455s\n",
            "Epoch: 282, Train loss: 0.036, val loss : 8.133 Epoch time = 1.547s\n",
            "Epoch: 283, Train loss: 0.035, val loss : 8.469 Epoch time = 1.482s\n",
            "Epoch: 284, Train loss: 0.032, val loss : 8.210 Epoch time = 1.474s\n",
            "Epoch: 285, Train loss: 0.038, val loss : 8.454 Epoch time = 1.532s\n",
            "Epoch: 286, Train loss: 0.034, val loss : 8.437 Epoch time = 1.424s\n",
            "Epoch: 287, Train loss: 0.033, val loss : 7.934 Epoch time = 1.441s\n",
            "Epoch: 288, Train loss: 0.035, val loss : 8.630 Epoch time = 1.539s\n",
            "Epoch: 289, Train loss: 0.034, val loss : 8.189 Epoch time = 1.473s\n",
            "Epoch: 290, Train loss: 0.035, val loss : 8.072 Epoch time = 1.456s\n",
            "Epoch: 291, Train loss: 0.032, val loss : 8.447 Epoch time = 1.548s\n",
            "Epoch: 292, Train loss: 0.032, val loss : 8.471 Epoch time = 1.481s\n",
            "Epoch: 293, Train loss: 0.033, val loss : 8.424 Epoch time = 1.451s\n",
            "Epoch: 294, Train loss: 0.034, val loss : 8.575 Epoch time = 1.510s\n",
            "Epoch: 295, Train loss: 0.038, val loss : 8.099 Epoch time = 1.510s\n",
            "Epoch: 296, Train loss: 0.038, val loss : 8.533 Epoch time = 1.454s\n",
            "Epoch: 297, Train loss: 0.043, val loss : 8.216 Epoch time = 1.481s\n",
            "Epoch: 298, Train loss: 0.041, val loss : 8.212 Epoch time = 1.439s\n",
            "Epoch: 299, Train loss: 0.035, val loss : 8.391 Epoch time = 1.490s\n",
            "Epoch: 300, Train loss: 0.034, val loss : 9.000 Epoch time = 1.513s\n"
          ]
        }
      ],
      "source": [
        "for epoch in range(1, NUM_EPOCHS+1):\n",
        "    start_time = time.time()\n",
        "    train_loss = train_epoch(transformer, train_iter, optimizer)\n",
        "#     if epoch % 5 == 0:\n",
        "    val_loss = evaluate(transformer, val_iter)\n",
        "    end_time = time.time()\n",
        "    print((f\"Epoch: {epoch}, Train loss: {train_loss:.3f}, val loss : {val_loss:.3f} \"\n",
        "          f\"Epoch time = {(end_time - start_time):.3f}s\"))\n",
        "\n",
        "\n",
        "    # save model + checkpoint to resume training later\n",
        "    torch.save({\n",
        "      'epoch': NUM_EPOCHS,\n",
        "      'model_state_dict': transformer.state_dict(),\n",
        "      'optimizer_state_dict': optimizer.state_dict(),\n",
        "      'loss': train_loss,\n",
        "      }, '/content/drive/MyDrive/Chattogram_language/model/model_checkpoint.tar')"
      ]
    },
    {
      "cell_type": "markdown",
      "metadata": {
        "id": "gtRbaGUbR5RB"
      },
      "source": [
        "## 10. Evaluate Model"
      ]
    },
    {
      "cell_type": "code",
      "execution_count": 62,
      "metadata": {
        "id": "bcc050c2"
      },
      "outputs": [],
      "source": [
        "device = torch.device('cuda' if torch.cuda.is_available() else 'cpu')"
      ]
    },
    {
      "cell_type": "code",
      "execution_count": 63,
      "metadata": {
        "id": "83fa543b"
      },
      "outputs": [],
      "source": [
        "def greedy_decode(model, src, src_mask, max_len, start_symbol):\n",
        "    src = src.to(device)\n",
        "    src_mask = src_mask.to(device)\n",
        "    memory = model.encode(src, src_mask)\n",
        "    ys = torch.ones(1, 1).fill_(start_symbol).type(torch.long).to(device)\n",
        "    for i in range(max_len-1):\n",
        "        memory = memory.to(device)\n",
        "        memory_mask = torch.zeros(ys.shape[0], memory.shape[0]).to(device).type(torch.bool)\n",
        "        tgt_mask = (generate_square_subsequent_mask(ys.size(0))\n",
        "                                    .type(torch.bool)).to(device)\n",
        "        out = model.decode(ys, memory, tgt_mask)\n",
        "        out = out.transpose(0, 1)\n",
        "        prob = model.generator(out[:, -1])\n",
        "        _, next_word = torch.max(prob, dim = 1)\n",
        "        next_word = next_word.item()\n",
        "        ys = torch.cat([ys,torch.ones(1, 1).type_as(src.data).fill_(next_word)], dim=0)\n",
        "        if next_word == EOS_IDX:\n",
        "            break\n",
        "    return ys\n",
        "\n",
        "def translate(model, src, src_vocab, tgt_vocab, src_tokenizer):\n",
        "    model.eval()\n",
        "    tokens = [BOS_IDX] + [src_vocab.get_stoi()[tok] for tok in src_tokenizer.encode(src, out_type=str)]+ [EOS_IDX]\n",
        "    num_tokens = len(tokens)\n",
        "    src = (torch.LongTensor(tokens).reshape(num_tokens, 1) )\n",
        "    src_mask = (torch.zeros(num_tokens, num_tokens)).type(torch.bool)\n",
        "    tgt_tokens = greedy_decode(model,  src, src_mask, max_len=num_tokens + 5, start_symbol=BOS_IDX).flatten()\n",
        "    p_text = \" \".join([tgt_vocab.get_itos()[tok] for tok in tgt_tokens]).replace(\"<bos>\", \"\").replace(\"<eos>\", \"\")\n",
        "    pts = \" \".join(list(map(lambda x : x , p_text.replace(\" \", \"\").split(\"▁\"))))\n",
        "    return pts.strip()"
      ]
    },
    {
      "cell_type": "code",
      "execution_count": 66,
      "metadata": {
        "colab": {
          "base_uri": "https://localhost:8080/"
        },
        "id": "6a9cfe19",
        "outputId": "30ad9f05-15ab-40a7-d97e-eb2b3bc594d1"
      },
      "outputs": [
        {
          "output_type": "stream",
          "name": "stdout",
          "text": [
            "input : বালিশ ইবার দাম দেরশ টিয়া\n",
            "prediction: বাালিশটির দাম একশত পঞ্চাশ টাকা\n"
          ]
        }
      ],
      "source": [
        "# for i in data[:10]:\n",
        "text = \"বালিশ ইবার দাম দেরশ টিয়া\"\n",
        "pre = translate(transformer, text, full_chattogram_vocab, full_bangla_vocab, chattogram_tokenizer)\n",
        "print(f\"input : {text}\")\n",
        "print(f\"prediction: {pre}\")"
      ]
    },
    {
      "cell_type": "code",
      "execution_count": 67,
      "metadata": {
        "id": "1b9a650a"
      },
      "outputs": [],
      "source": [
        "# itos = ja_vocab.itos()"
      ]
    },
    {
      "cell_type": "markdown",
      "metadata": {
        "id": "WnyBCSDWSE7A"
      },
      "source": [
        "## 11. Save Vocab and PyTorch model in Local Storage"
      ]
    },
    {
      "cell_type": "code",
      "execution_count": 68,
      "metadata": {
        "id": "b0285218"
      },
      "outputs": [],
      "source": [
        "import pickle\n",
        "full_chattogram_vocab_pickle_file='/content/drive/MyDrive/Chattogram_language/model/full_chattogram_vocab.pkl'\n",
        "full_bangla_vocab_pickle_file='/content/drive/MyDrive/Chattogram_language/model/full_bangla_vocab.pkl'\n",
        "# open a file, where you want to store the data\n",
        "file = open(full_chattogram_vocab_pickle_file, 'wb')\n",
        "# dump information to that file\n",
        "pickle.dump(full_chattogram_vocab, file)\n",
        "file.close()\n",
        "file = open(full_bangla_vocab_pickle_file, 'wb')\n",
        "pickle.dump(full_bangla_vocab, file)\n",
        "file.close()"
      ]
    },
    {
      "cell_type": "code",
      "execution_count": 69,
      "metadata": {
        "id": "d5d2adae"
      },
      "outputs": [],
      "source": [
        "# save model + checkpoint to resume training later\n",
        "torch.save({\n",
        "  'epoch': NUM_EPOCHS,\n",
        "  'model_state_dict': transformer.state_dict(),\n",
        "  'optimizer_state_dict': optimizer.state_dict(),\n",
        "  'loss': train_loss,\n",
        "  }, '/content/drive/MyDrive/Chattogram_language/model/seq2seq_chattogram_to_standard_bangla_model_1000_data.pt')"
      ]
    },
    {
      "cell_type": "markdown",
      "metadata": {
        "id": "daada9c8"
      },
      "source": [
        "## 13. Inference\n",
        "Here the inference script after load sentencepice train tokenizer model, vocal and train model"
      ]
    },
    {
      "cell_type": "code",
      "execution_count": 70,
      "metadata": {
        "id": "e4054145"
      },
      "outputs": [],
      "source": [
        "device = torch.device('cuda' if torch.cuda.is_available() else 'cpu')"
      ]
    },
    {
      "cell_type": "code",
      "execution_count": 71,
      "metadata": {
        "id": "ac2a172d"
      },
      "outputs": [],
      "source": [
        "chattogram_model_path='/content/drive/MyDrive/Chattogram_language/model/chattogram_model.model'\n",
        "bangla_model_path='/content/drive/MyDrive/Chattogram_language/model/bangla_model.model'\n",
        "chattogram_tokenizer = spm.SentencePieceProcessor(model_file=chattogram_model_path)\n",
        "bangla_tokenizer = spm.SentencePieceProcessor(model_file=bangla_model_path)"
      ]
    },
    {
      "cell_type": "code",
      "execution_count": 72,
      "metadata": {
        "id": "9d3e70f9"
      },
      "outputs": [],
      "source": [
        "chattogram_vocab_file_path='/content/drive/MyDrive/Chattogram_language/model/full_chattogram_vocab.pkl'\n",
        "file = open(chattogram_vocab_file_path, 'rb')\n",
        "chattogram_vocab = pickle.load(file)\n",
        "file.close()"
      ]
    },
    {
      "cell_type": "code",
      "execution_count": 73,
      "metadata": {
        "id": "bdaf63e1"
      },
      "outputs": [],
      "source": [
        "bangla_vocab_file_path='/content/drive/MyDrive/Chattogram_language/model/full_bangla_vocab.pkl'\n",
        "file = open(bangla_vocab_file_path, 'rb')\n",
        "bangla_vocal = pickle.load(file)\n",
        "file.close()"
      ]
    },
    {
      "cell_type": "code",
      "execution_count": 74,
      "metadata": {
        "colab": {
          "base_uri": "https://localhost:8080/"
        },
        "id": "164aba80",
        "outputId": "70c1994f-6f79-4e3f-dc80-0e7ab6736eb0"
      },
      "outputs": [
        {
          "output_type": "stream",
          "name": "stderr",
          "text": [
            "/usr/local/lib/python3.10/dist-packages/torch/nn/modules/transformer.py:286: UserWarning: enable_nested_tensor is True, but self.use_nested_tensor is False because encoder_layer.self_attn.batch_first was not True(use batch_first for better inference performance)\n",
            "  warnings.warn(f\"enable_nested_tensor is True, but self.use_nested_tensor is False because {why_not_sparsity_fast_path}\")\n"
          ]
        },
        {
          "output_type": "execute_result",
          "data": {
            "text/plain": [
              "Seq2SeqTransformer(\n",
              "  (transformer_encoder): TransformerEncoder(\n",
              "    (layers): ModuleList(\n",
              "      (0-5): 6 x TransformerEncoderLayer(\n",
              "        (self_attn): MultiheadAttention(\n",
              "          (out_proj): NonDynamicallyQuantizableLinear(in_features=512, out_features=512, bias=True)\n",
              "        )\n",
              "        (linear1): Linear(in_features=512, out_features=512, bias=True)\n",
              "        (dropout): Dropout(p=0.1, inplace=False)\n",
              "        (linear2): Linear(in_features=512, out_features=512, bias=True)\n",
              "        (norm1): LayerNorm((512,), eps=1e-05, elementwise_affine=True)\n",
              "        (norm2): LayerNorm((512,), eps=1e-05, elementwise_affine=True)\n",
              "        (dropout1): Dropout(p=0.1, inplace=False)\n",
              "        (dropout2): Dropout(p=0.1, inplace=False)\n",
              "      )\n",
              "    )\n",
              "  )\n",
              "  (transformer_decoder): TransformerDecoder(\n",
              "    (layers): ModuleList(\n",
              "      (0-5): 6 x TransformerDecoderLayer(\n",
              "        (self_attn): MultiheadAttention(\n",
              "          (out_proj): NonDynamicallyQuantizableLinear(in_features=512, out_features=512, bias=True)\n",
              "        )\n",
              "        (multihead_attn): MultiheadAttention(\n",
              "          (out_proj): NonDynamicallyQuantizableLinear(in_features=512, out_features=512, bias=True)\n",
              "        )\n",
              "        (linear1): Linear(in_features=512, out_features=512, bias=True)\n",
              "        (dropout): Dropout(p=0.1, inplace=False)\n",
              "        (linear2): Linear(in_features=512, out_features=512, bias=True)\n",
              "        (norm1): LayerNorm((512,), eps=1e-05, elementwise_affine=True)\n",
              "        (norm2): LayerNorm((512,), eps=1e-05, elementwise_affine=True)\n",
              "        (norm3): LayerNorm((512,), eps=1e-05, elementwise_affine=True)\n",
              "        (dropout1): Dropout(p=0.1, inplace=False)\n",
              "        (dropout2): Dropout(p=0.1, inplace=False)\n",
              "        (dropout3): Dropout(p=0.1, inplace=False)\n",
              "      )\n",
              "    )\n",
              "  )\n",
              "  (generator): Linear(in_features=512, out_features=888, bias=True)\n",
              "  (src_tok_emb): TokenEmbedding(\n",
              "    (embedding): Embedding(853, 512)\n",
              "  )\n",
              "  (tgt_tok_emb): TokenEmbedding(\n",
              "    (embedding): Embedding(888, 512)\n",
              "  )\n",
              "  (positional_encoding): PositionalEncoding(\n",
              "    (dropout): Dropout(p=0.1, inplace=False)\n",
              "  )\n",
              ")"
            ]
          },
          "metadata": {},
          "execution_count": 74
        }
      ],
      "source": [
        "PATH = \"/content/drive/MyDrive/Chattogram_language/model/seq2seq_chattogram_to_standard_bangla_model_1000_data.pt\"\n",
        "\n",
        "model = Seq2SeqTransformer(NUM_ENCODER_LAYERS, NUM_DECODER_LAYERS,\n",
        "                                 EMB_SIZE, SRC_VOCAB_SIZE, TGT_VOCAB_SIZE,\n",
        "                                 FFN_HID_DIM)\n",
        "model.to(device)\n",
        "checkpoint = torch.load(PATH)\n",
        "model.load_state_dict(checkpoint['model_state_dict'])\n",
        "optimizer.load_state_dict(checkpoint['optimizer_state_dict'])\n",
        "epoch = checkpoint['epoch']\n",
        "loss = checkpoint['loss']\n",
        "\n",
        "model.eval()"
      ]
    },
    {
      "cell_type": "code",
      "execution_count": 75,
      "metadata": {
        "id": "f7ffcbab"
      },
      "outputs": [],
      "source": [
        "\n",
        "def greedy_decode(model, src, src_mask, max_len, start_symbol):\n",
        "    src = src.to(device)\n",
        "    src_mask = src_mask.to(device)\n",
        "    memory = model.encode(src, src_mask)\n",
        "    ys = torch.ones(1, 1).fill_(start_symbol).type(torch.long).to(device)\n",
        "    for i in range(max_len-1):\n",
        "        memory = memory.to(device)\n",
        "        memory_mask = torch.zeros(ys.shape[0], memory.shape[0]).to(device).type(torch.bool)\n",
        "        tgt_mask = (generate_square_subsequent_mask(ys.size(0))\n",
        "                                    .type(torch.bool)).to(device)\n",
        "        out = model.decode(ys, memory, tgt_mask)\n",
        "        out = out.transpose(0, 1)\n",
        "        prob = model.generator(out[:, -1])\n",
        "        _, next_word = torch.max(prob, dim = 1)\n",
        "        next_word = next_word.item()\n",
        "        ys = torch.cat([ys,torch.ones(1, 1).type_as(src.data).fill_(next_word)], dim=0)\n",
        "        if next_word == EOS_IDX:\n",
        "            break\n",
        "    return ys\n",
        "\n",
        "def translate(model, src, src_vocab, tgt_vocab, src_tokenizer):\n",
        "#     model.eval()\n",
        "    tokens = [BOS_IDX] + [src_vocab.get_stoi()[tok] for tok in src_tokenizer.encode(src, out_type=str)]+ [EOS_IDX]\n",
        "    num_tokens = len(tokens)\n",
        "    src = (torch.LongTensor(tokens).reshape(num_tokens, 1) )\n",
        "    src_mask = (torch.zeros(num_tokens, num_tokens)).type(torch.bool)\n",
        "    tgt_tokens = greedy_decode(model,  src, src_mask, max_len=num_tokens + 5, start_symbol=BOS_IDX).flatten()\n",
        "    p_text = \" \".join([tgt_vocab.get_itos()[tok] for tok in tgt_tokens]).replace(\"<bos>\", \"\").replace(\"<eos>\", \"\")\n",
        "    pts = \" \".join(list(map(lambda x : x , p_text.replace(\" \", \"\").split(\"▁\"))))\n",
        "    return pts.strip()"
      ]
    },
    {
      "cell_type": "markdown",
      "metadata": {
        "id": "gWQRpfi8SVnB"
      },
      "source": [
        "## 14. Generate Samples with Model"
      ]
    },
    {
      "cell_type": "code",
      "execution_count": 76,
      "metadata": {
        "colab": {
          "base_uri": "https://localhost:8080/"
        },
        "id": "544fa57e",
        "outputId": "8a86feb1-f84b-4d00-ab58-729953e99bb5"
      },
      "outputs": [
        {
          "output_type": "stream",
          "name": "stdout",
          "text": [
            "input : আযিব\n",
            "Ground Truth : অদ্ভুত\n",
            "prediction: আগুন লেগেছে\n",
            "================================\n",
            "\n",
            "input : আযিযি হাল\n",
            "Ground Truth : দুর্বল অবস্থা\n",
            "prediction: থানকুনি গাছ\n",
            "================================\n",
            "\n",
            "input : আযিয়া\n",
            "Ground Truth : আজ\n",
            "prediction: কালকে মেজিত\n",
            "================================\n",
            "\n",
            "input : আযুইদ্‌দা খেলা\n",
            "Ground Truth : গুটির খেলা বিশেষ\n",
            "prediction: কাশির ঔষধ খান\n",
            "================================\n",
            "\n",
            "input : আযুইয্যা\n",
            "Ground Truth : অসঙ্গত\n",
            "prediction: অলস\n",
            "================================\n",
            "\n",
            "input : আযুইয্যা\n",
            "Ground Truth : বেদরকারী\n",
            "prediction: অলস\n",
            "================================\n",
            "\n",
            "input : আযুইর্‌গা\n",
            "Ground Truth : অসঙ্গত\n",
            "prediction: বিশৃংখলা\n",
            "================================\n",
            "\n",
            "input : আযুইর্‌গা\n",
            "Ground Truth : বেদরকারী\n",
            "prediction: বিশৃংখলা\n",
            "================================\n",
            "\n",
            "input : আযুদ্‌দা\n",
            "Ground Truth : তৃপ্তি\n",
            "prediction: দাগ লাগিয়ে দিলেন\n",
            "================================\n",
            "\n",
            "input : আযুদ্‌দা\n",
            "Ground Truth : ইচ্ছা\n",
            "prediction: দাগ লাগিয়ে দিলেন\n",
            "================================\n",
            "\n"
          ]
        }
      ],
      "source": [
        "for i in data[-10:]:\n",
        "\n",
        "    pre = translate(model, i[0],full_chattogram_vocab, full_bangla_vocab, chattogram_tokenizer)\n",
        "    print(f\"input : {i[0]}\")\n",
        "    print(f\"Ground Truth : {i[1]}\")\n",
        "    print(f\"prediction: {pre}\")\n",
        "    print(\"================================\\n\")"
      ]
    },
    {
      "cell_type": "code",
      "execution_count": 77,
      "metadata": {
        "colab": {
          "base_uri": "https://localhost:8080/"
        },
        "id": "T5uMYiaBYGFy",
        "outputId": "e22b5654-c457-4512-98e1-dbc59fc59867"
      },
      "outputs": [
        {
          "output_type": "stream",
          "name": "stdout",
          "text": [
            "input : আঁর\n",
            "Ground Truth : আমার\n",
            "prediction: আমার\n",
            "================================\n",
            "\n",
            "input : বাড়ি\n",
            "Ground Truth : বারি\n",
            "prediction: বারি\n",
            "================================\n",
            "\n",
            "input : আঁরার\n",
            "Ground Truth : আমাদের\n",
            "prediction: আমাদের\n",
            "================================\n",
            "\n",
            "input : আঁরো বারিত কনো কিয়া নো আইয়ি\n",
            "Ground Truth : আমাদের বাড়িতে কেউ আসে নাই\n",
            "prediction: আমাদের বাড়িতে কেউ আসে নাই\n",
            "================================\n",
            "\n",
            "input : আলমিরা\n",
            "Ground Truth : আলমারি\n",
            "prediction: আলমারি\n",
            "================================\n",
            "\n",
            "input : আইয়্যির\n",
            "Ground Truth : আসছে\n",
            "prediction: আসছে\n",
            "================================\n",
            "\n",
            "input : লা~রে লা~রে\n",
            "Ground Truth : আস্তে আস্তে\n",
            "prediction: আস্তে\n",
            "================================\n",
            "\n",
            "input : নোয়া\n",
            "Ground Truth : নতুন\n",
            "prediction: নতুন\n",
            "================================\n",
            "\n",
            "input : ন\n",
            "Ground Truth : নয়\n",
            "prediction: নয়\n",
            "================================\n",
            "\n",
            "input : ফন্না\n",
            "Ground Truth : পড়ালেখা\n",
            "prediction: পড়ালেখা\n",
            "================================\n",
            "\n",
            "input : বন্নাই\n",
            "Ground Truth : নিন্দা\n",
            "prediction: নিন্দা\n",
            "================================\n",
            "\n",
            "input : লাশারা\n",
            "Ground Truth : নির্লজ্জ\n",
            "prediction: নির্লজ্জ\n",
            "================================\n",
            "\n",
            "input : ফা৴না\n",
            "Ground Truth : পাঁকা\n",
            "prediction: পাঁকা\n",
            "================================\n",
            "\n",
            "input : ফইর\n",
            "Ground Truth : পুকুর\n",
            "prediction: পুকুর\n",
            "================================\n",
            "\n",
            "input : আঁই গঅঁম আছি\n",
            "Ground Truth : আমি ভাল আছি\n",
            "prediction: আমি ভাল আছি\n",
            "================================\n",
            "\n",
            "input : আত্তে গঅঁম ন লাগের\n",
            "Ground Truth : আমার ভাল লাগছে না\n",
            "prediction: আমার ভাল লাগছে না\n",
            "================================\n",
            "\n",
            "input : তুঁই হন্ডে যঁর\n",
            "Ground Truth : তুমি কোথায় যাচ্ছ\n",
            "prediction: তুমি কোথায় যাচ্ছ\n",
            "================================\n",
            "\n",
            "input : হন্ডে\n",
            "Ground Truth : কোথায়\n",
            "prediction: কোথায়\n",
            "================================\n",
            "\n",
            "input : তুঁই হন্ডে থাহ\n",
            "Ground Truth : তুমি কোথায় থাক\n",
            "prediction: তুমি কোথায় থাক\n",
            "================================\n",
            "\n",
            "input : আঁর দিলুত শান্তি নাই\n",
            "Ground Truth : আমার মন ভালো নেই\n",
            "prediction: আমার মন ভালো নেই\n",
            "================================\n",
            "\n"
          ]
        }
      ],
      "source": [
        "for i in data[:20]:\n",
        "\n",
        "    pre = translate(model, i[0],full_chattogram_vocab, full_bangla_vocab, chattogram_tokenizer)\n",
        "    print(f\"input : {i[0]}\")\n",
        "    print(f\"Ground Truth : {i[1]}\")\n",
        "    print(f\"prediction: {pre}\")\n",
        "    print(\"================================\\n\")"
      ]
    },
    {
      "cell_type": "code",
      "execution_count": 78,
      "metadata": {
        "id": "EDLLUd5zL2E7"
      },
      "outputs": [],
      "source": [
        "import pandas as pd\n",
        "import numpy as np\n",
        "import keras\n",
        "import string\n",
        "import re\n",
        "from tensorflow.keras.preprocessing.text import Tokenizer\n",
        "from sklearn.model_selection import train_test_split\n",
        "from tensorflow.keras.preprocessing.sequence import pad_sequences\n",
        "from tensorflow.keras.models import Sequential  # Importing Sequential from Keras\n",
        "from tensorflow.keras.layers import Embedding, LSTM, RepeatVector, Dense\n",
        "from tensorflow.keras import optimizers\n",
        "from tensorflow.keras.optimizers import RMSprop\n",
        "from tensorflow.keras.losses import sparse_categorical_crossentropy\n",
        "from tensorflow.keras.layers import Masking"
      ]
    },
    {
      "cell_type": "code",
      "execution_count": 79,
      "metadata": {
        "id": "5zYRoIrttk_U"
      },
      "outputs": [],
      "source": [
        "df = pd.read_csv('/content/drive/MyDrive/research and innovation/nlp2.csv')"
      ]
    },
    {
      "cell_type": "code",
      "execution_count": 80,
      "metadata": {
        "colab": {
          "base_uri": "https://localhost:8080/",
          "height": 226
        },
        "id": "c4LoVGbrNGNj",
        "outputId": "988bc9c7-496a-49be-e2ff-95a8b8c5703e"
      },
      "outputs": [
        {
          "output_type": "execute_result",
          "data": {
            "text/plain": [
              "                    Chittagonian                     Bengali\n",
              "0                            আঁর                        আমার\n",
              "1                          বাড়ি                        বারি\n",
              "2                          আঁরার                      আমাদের\n",
              "3  আঁরো বারিত কনো কিয়া নো আইয়ি  আমাদের বাড়িতে কেউ আসে নাই\n",
              "4                         আলমিরা                      আলমারি"
            ],
            "text/html": [
              "\n",
              "  <div id=\"df-95b8b615-d942-4d75-bd73-ded6058a9ba4\" class=\"colab-df-container\">\n",
              "    <div>\n",
              "<style scoped>\n",
              "    .dataframe tbody tr th:only-of-type {\n",
              "        vertical-align: middle;\n",
              "    }\n",
              "\n",
              "    .dataframe tbody tr th {\n",
              "        vertical-align: top;\n",
              "    }\n",
              "\n",
              "    .dataframe thead th {\n",
              "        text-align: right;\n",
              "    }\n",
              "</style>\n",
              "<table border=\"1\" class=\"dataframe\">\n",
              "  <thead>\n",
              "    <tr style=\"text-align: right;\">\n",
              "      <th></th>\n",
              "      <th>Chittagonian</th>\n",
              "      <th>Bengali</th>\n",
              "    </tr>\n",
              "  </thead>\n",
              "  <tbody>\n",
              "    <tr>\n",
              "      <th>0</th>\n",
              "      <td>আঁর</td>\n",
              "      <td>আমার</td>\n",
              "    </tr>\n",
              "    <tr>\n",
              "      <th>1</th>\n",
              "      <td>বাড়ি</td>\n",
              "      <td>বারি</td>\n",
              "    </tr>\n",
              "    <tr>\n",
              "      <th>2</th>\n",
              "      <td>আঁরার</td>\n",
              "      <td>আমাদের</td>\n",
              "    </tr>\n",
              "    <tr>\n",
              "      <th>3</th>\n",
              "      <td>আঁরো বারিত কনো কিয়া নো আইয়ি</td>\n",
              "      <td>আমাদের বাড়িতে কেউ আসে নাই</td>\n",
              "    </tr>\n",
              "    <tr>\n",
              "      <th>4</th>\n",
              "      <td>আলমিরা</td>\n",
              "      <td>আলমারি</td>\n",
              "    </tr>\n",
              "  </tbody>\n",
              "</table>\n",
              "</div>\n",
              "    <div class=\"colab-df-buttons\">\n",
              "\n",
              "  <div class=\"colab-df-container\">\n",
              "    <button class=\"colab-df-convert\" onclick=\"convertToInteractive('df-95b8b615-d942-4d75-bd73-ded6058a9ba4')\"\n",
              "            title=\"Convert this dataframe to an interactive table.\"\n",
              "            style=\"display:none;\">\n",
              "\n",
              "  <svg xmlns=\"http://www.w3.org/2000/svg\" height=\"24px\" viewBox=\"0 -960 960 960\">\n",
              "    <path d=\"M120-120v-720h720v720H120Zm60-500h600v-160H180v160Zm220 220h160v-160H400v160Zm0 220h160v-160H400v160ZM180-400h160v-160H180v160Zm440 0h160v-160H620v160ZM180-180h160v-160H180v160Zm440 0h160v-160H620v160Z\"/>\n",
              "  </svg>\n",
              "    </button>\n",
              "\n",
              "  <style>\n",
              "    .colab-df-container {\n",
              "      display:flex;\n",
              "      gap: 12px;\n",
              "    }\n",
              "\n",
              "    .colab-df-convert {\n",
              "      background-color: #E8F0FE;\n",
              "      border: none;\n",
              "      border-radius: 50%;\n",
              "      cursor: pointer;\n",
              "      display: none;\n",
              "      fill: #1967D2;\n",
              "      height: 32px;\n",
              "      padding: 0 0 0 0;\n",
              "      width: 32px;\n",
              "    }\n",
              "\n",
              "    .colab-df-convert:hover {\n",
              "      background-color: #E2EBFA;\n",
              "      box-shadow: 0px 1px 2px rgba(60, 64, 67, 0.3), 0px 1px 3px 1px rgba(60, 64, 67, 0.15);\n",
              "      fill: #174EA6;\n",
              "    }\n",
              "\n",
              "    .colab-df-buttons div {\n",
              "      margin-bottom: 4px;\n",
              "    }\n",
              "\n",
              "    [theme=dark] .colab-df-convert {\n",
              "      background-color: #3B4455;\n",
              "      fill: #D2E3FC;\n",
              "    }\n",
              "\n",
              "    [theme=dark] .colab-df-convert:hover {\n",
              "      background-color: #434B5C;\n",
              "      box-shadow: 0px 1px 3px 1px rgba(0, 0, 0, 0.15);\n",
              "      filter: drop-shadow(0px 1px 2px rgba(0, 0, 0, 0.3));\n",
              "      fill: #FFFFFF;\n",
              "    }\n",
              "  </style>\n",
              "\n",
              "    <script>\n",
              "      const buttonEl =\n",
              "        document.querySelector('#df-95b8b615-d942-4d75-bd73-ded6058a9ba4 button.colab-df-convert');\n",
              "      buttonEl.style.display =\n",
              "        google.colab.kernel.accessAllowed ? 'block' : 'none';\n",
              "\n",
              "      async function convertToInteractive(key) {\n",
              "        const element = document.querySelector('#df-95b8b615-d942-4d75-bd73-ded6058a9ba4');\n",
              "        const dataTable =\n",
              "          await google.colab.kernel.invokeFunction('convertToInteractive',\n",
              "                                                    [key], {});\n",
              "        if (!dataTable) return;\n",
              "\n",
              "        const docLinkHtml = 'Like what you see? Visit the ' +\n",
              "          '<a target=\"_blank\" href=https://colab.research.google.com/notebooks/data_table.ipynb>data table notebook</a>'\n",
              "          + ' to learn more about interactive tables.';\n",
              "        element.innerHTML = '';\n",
              "        dataTable['output_type'] = 'display_data';\n",
              "        await google.colab.output.renderOutput(dataTable, element);\n",
              "        const docLink = document.createElement('div');\n",
              "        docLink.innerHTML = docLinkHtml;\n",
              "        element.appendChild(docLink);\n",
              "      }\n",
              "    </script>\n",
              "  </div>\n",
              "\n",
              "\n",
              "<div id=\"df-1ea5357c-bef6-419e-aca0-aa8d700140d3\">\n",
              "  <button class=\"colab-df-quickchart\" onclick=\"quickchart('df-1ea5357c-bef6-419e-aca0-aa8d700140d3')\"\n",
              "            title=\"Suggest charts\"\n",
              "            style=\"display:none;\">\n",
              "\n",
              "<svg xmlns=\"http://www.w3.org/2000/svg\" height=\"24px\"viewBox=\"0 0 24 24\"\n",
              "     width=\"24px\">\n",
              "    <g>\n",
              "        <path d=\"M19 3H5c-1.1 0-2 .9-2 2v14c0 1.1.9 2 2 2h14c1.1 0 2-.9 2-2V5c0-1.1-.9-2-2-2zM9 17H7v-7h2v7zm4 0h-2V7h2v10zm4 0h-2v-4h2v4z\"/>\n",
              "    </g>\n",
              "</svg>\n",
              "  </button>\n",
              "\n",
              "<style>\n",
              "  .colab-df-quickchart {\n",
              "      --bg-color: #E8F0FE;\n",
              "      --fill-color: #1967D2;\n",
              "      --hover-bg-color: #E2EBFA;\n",
              "      --hover-fill-color: #174EA6;\n",
              "      --disabled-fill-color: #AAA;\n",
              "      --disabled-bg-color: #DDD;\n",
              "  }\n",
              "\n",
              "  [theme=dark] .colab-df-quickchart {\n",
              "      --bg-color: #3B4455;\n",
              "      --fill-color: #D2E3FC;\n",
              "      --hover-bg-color: #434B5C;\n",
              "      --hover-fill-color: #FFFFFF;\n",
              "      --disabled-bg-color: #3B4455;\n",
              "      --disabled-fill-color: #666;\n",
              "  }\n",
              "\n",
              "  .colab-df-quickchart {\n",
              "    background-color: var(--bg-color);\n",
              "    border: none;\n",
              "    border-radius: 50%;\n",
              "    cursor: pointer;\n",
              "    display: none;\n",
              "    fill: var(--fill-color);\n",
              "    height: 32px;\n",
              "    padding: 0;\n",
              "    width: 32px;\n",
              "  }\n",
              "\n",
              "  .colab-df-quickchart:hover {\n",
              "    background-color: var(--hover-bg-color);\n",
              "    box-shadow: 0 1px 2px rgba(60, 64, 67, 0.3), 0 1px 3px 1px rgba(60, 64, 67, 0.15);\n",
              "    fill: var(--button-hover-fill-color);\n",
              "  }\n",
              "\n",
              "  .colab-df-quickchart-complete:disabled,\n",
              "  .colab-df-quickchart-complete:disabled:hover {\n",
              "    background-color: var(--disabled-bg-color);\n",
              "    fill: var(--disabled-fill-color);\n",
              "    box-shadow: none;\n",
              "  }\n",
              "\n",
              "  .colab-df-spinner {\n",
              "    border: 2px solid var(--fill-color);\n",
              "    border-color: transparent;\n",
              "    border-bottom-color: var(--fill-color);\n",
              "    animation:\n",
              "      spin 1s steps(1) infinite;\n",
              "  }\n",
              "\n",
              "  @keyframes spin {\n",
              "    0% {\n",
              "      border-color: transparent;\n",
              "      border-bottom-color: var(--fill-color);\n",
              "      border-left-color: var(--fill-color);\n",
              "    }\n",
              "    20% {\n",
              "      border-color: transparent;\n",
              "      border-left-color: var(--fill-color);\n",
              "      border-top-color: var(--fill-color);\n",
              "    }\n",
              "    30% {\n",
              "      border-color: transparent;\n",
              "      border-left-color: var(--fill-color);\n",
              "      border-top-color: var(--fill-color);\n",
              "      border-right-color: var(--fill-color);\n",
              "    }\n",
              "    40% {\n",
              "      border-color: transparent;\n",
              "      border-right-color: var(--fill-color);\n",
              "      border-top-color: var(--fill-color);\n",
              "    }\n",
              "    60% {\n",
              "      border-color: transparent;\n",
              "      border-right-color: var(--fill-color);\n",
              "    }\n",
              "    80% {\n",
              "      border-color: transparent;\n",
              "      border-right-color: var(--fill-color);\n",
              "      border-bottom-color: var(--fill-color);\n",
              "    }\n",
              "    90% {\n",
              "      border-color: transparent;\n",
              "      border-bottom-color: var(--fill-color);\n",
              "    }\n",
              "  }\n",
              "</style>\n",
              "\n",
              "  <script>\n",
              "    async function quickchart(key) {\n",
              "      const quickchartButtonEl =\n",
              "        document.querySelector('#' + key + ' button');\n",
              "      quickchartButtonEl.disabled = true;  // To prevent multiple clicks.\n",
              "      quickchartButtonEl.classList.add('colab-df-spinner');\n",
              "      try {\n",
              "        const charts = await google.colab.kernel.invokeFunction(\n",
              "            'suggestCharts', [key], {});\n",
              "      } catch (error) {\n",
              "        console.error('Error during call to suggestCharts:', error);\n",
              "      }\n",
              "      quickchartButtonEl.classList.remove('colab-df-spinner');\n",
              "      quickchartButtonEl.classList.add('colab-df-quickchart-complete');\n",
              "    }\n",
              "    (() => {\n",
              "      let quickchartButtonEl =\n",
              "        document.querySelector('#df-1ea5357c-bef6-419e-aca0-aa8d700140d3 button');\n",
              "      quickchartButtonEl.style.display =\n",
              "        google.colab.kernel.accessAllowed ? 'block' : 'none';\n",
              "    })();\n",
              "  </script>\n",
              "</div>\n",
              "    </div>\n",
              "  </div>\n"
            ],
            "application/vnd.google.colaboratory.intrinsic+json": {
              "type": "dataframe",
              "variable_name": "df",
              "summary": "{\n  \"name\": \"df\",\n  \"rows\": 1103,\n  \"fields\": [\n    {\n      \"column\": \"Chittagonian\",\n      \"properties\": {\n        \"dtype\": \"string\",\n        \"num_unique_values\": 941,\n        \"samples\": [\n          \"\\u0995\\u09be\\u09b6\\u09bf\\u09b0 \\u0985\\u09b6\\u09c1\\u09a6\\u09cd\\u200c \\u0996\",\n          \"\\u0986\\u0993\\u09b8\\u09cd\\u200c\\u09a4\\u09be\",\n          \"\\u0986\\u0981\\u099a\\u09c1\\u2019\\u09b0\\u09a8\\u09cd\\u200c\"\n        ],\n        \"semantic_type\": \"\",\n        \"description\": \"\"\n      }\n    },\n    {\n      \"column\": \"Bengali\",\n      \"properties\": {\n        \"dtype\": \"string\",\n        \"num_unique_values\": 939,\n        \"samples\": [\n          \"\\u09a4\\u09cb\\u09b0\\u09c7 \\u09ac\\u09cb\\u0995\\u09be \\u09ac\\u09be\\u09a8\\u09be\\u0987\\u09b2\\u09cb\",\n          \"\\u0995\\u09c1\\u0995\\u09c1\\u09b0\",\n          \"\\u0985\\u09b8\\u09ae\\u09af\\u09bc\\u09c7\\u09b0\"\n        ],\n        \"semantic_type\": \"\",\n        \"description\": \"\"\n      }\n    }\n  ]\n}"
            }
          },
          "metadata": {},
          "execution_count": 80
        }
      ],
      "source": [
        "\n",
        "df.head()"
      ]
    },
    {
      "cell_type": "code",
      "execution_count": 81,
      "metadata": {
        "colab": {
          "base_uri": "https://localhost:8080/"
        },
        "id": "lejOdqUSBzNd",
        "outputId": "63cb1f06-f654-4b7e-ecf4-dd0e1df8be23"
      },
      "outputs": [
        {
          "output_type": "execute_result",
          "data": {
            "text/plain": [
              "Chittagonian    0\n",
              "Bengali         0\n",
              "dtype: int64"
            ]
          },
          "metadata": {},
          "execution_count": 81
        }
      ],
      "source": [
        "df.isnull().sum()"
      ]
    },
    {
      "cell_type": "code",
      "execution_count": 82,
      "metadata": {
        "id": "7qEy1tNyB_Fd"
      },
      "outputs": [],
      "source": [
        "df.fillna(method='ffill', inplace=True)"
      ]
    },
    {
      "cell_type": "code",
      "execution_count": 84,
      "metadata": {
        "id": "49tQBl-MNZey"
      },
      "outputs": [],
      "source": [
        "def clean_text(text):\n",
        "  # Create a custom translation table for punctuation (optional)\n",
        "  custom_punct_table = str.maketrans('', '', '!\"#%&()*+,./:;<=>?@[\\\\]^_`{|}~')\n",
        "  text = text.lower().translate(custom_punct_table)  # Convert to lowercase and remove punctuation\n",
        "  return text\n",
        "\n",
        "df['Bengali'] = df['Bengali'].apply(clean_text)\n",
        "df['Chittagonian'] = df['Chittagonian'].apply(clean_text)\n",
        "\n"
      ]
    },
    {
      "cell_type": "code",
      "execution_count": 85,
      "metadata": {
        "colab": {
          "base_uri": "https://localhost:8080/",
          "height": 226
        },
        "id": "PM2XUPt1SuC2",
        "outputId": "fa04f028-4f0c-430e-fd03-33f36ff6913f"
      },
      "outputs": [
        {
          "output_type": "execute_result",
          "data": {
            "text/plain": [
              "                    Chittagonian                     Bengali\n",
              "0                            আঁর                        আমার\n",
              "1                          বাড়ি                        বারি\n",
              "2                          আঁরার                      আমাদের\n",
              "3  আঁরো বারিত কনো কিয়া নো আইয়ি  আমাদের বাড়িতে কেউ আসে নাই\n",
              "4                         আলমিরা                      আলমারি"
            ],
            "text/html": [
              "\n",
              "  <div id=\"df-d40a05f8-fabf-483d-ae96-f5772d0c9629\" class=\"colab-df-container\">\n",
              "    <div>\n",
              "<style scoped>\n",
              "    .dataframe tbody tr th:only-of-type {\n",
              "        vertical-align: middle;\n",
              "    }\n",
              "\n",
              "    .dataframe tbody tr th {\n",
              "        vertical-align: top;\n",
              "    }\n",
              "\n",
              "    .dataframe thead th {\n",
              "        text-align: right;\n",
              "    }\n",
              "</style>\n",
              "<table border=\"1\" class=\"dataframe\">\n",
              "  <thead>\n",
              "    <tr style=\"text-align: right;\">\n",
              "      <th></th>\n",
              "      <th>Chittagonian</th>\n",
              "      <th>Bengali</th>\n",
              "    </tr>\n",
              "  </thead>\n",
              "  <tbody>\n",
              "    <tr>\n",
              "      <th>0</th>\n",
              "      <td>আঁর</td>\n",
              "      <td>আমার</td>\n",
              "    </tr>\n",
              "    <tr>\n",
              "      <th>1</th>\n",
              "      <td>বাড়ি</td>\n",
              "      <td>বারি</td>\n",
              "    </tr>\n",
              "    <tr>\n",
              "      <th>2</th>\n",
              "      <td>আঁরার</td>\n",
              "      <td>আমাদের</td>\n",
              "    </tr>\n",
              "    <tr>\n",
              "      <th>3</th>\n",
              "      <td>আঁরো বারিত কনো কিয়া নো আইয়ি</td>\n",
              "      <td>আমাদের বাড়িতে কেউ আসে নাই</td>\n",
              "    </tr>\n",
              "    <tr>\n",
              "      <th>4</th>\n",
              "      <td>আলমিরা</td>\n",
              "      <td>আলমারি</td>\n",
              "    </tr>\n",
              "  </tbody>\n",
              "</table>\n",
              "</div>\n",
              "    <div class=\"colab-df-buttons\">\n",
              "\n",
              "  <div class=\"colab-df-container\">\n",
              "    <button class=\"colab-df-convert\" onclick=\"convertToInteractive('df-d40a05f8-fabf-483d-ae96-f5772d0c9629')\"\n",
              "            title=\"Convert this dataframe to an interactive table.\"\n",
              "            style=\"display:none;\">\n",
              "\n",
              "  <svg xmlns=\"http://www.w3.org/2000/svg\" height=\"24px\" viewBox=\"0 -960 960 960\">\n",
              "    <path d=\"M120-120v-720h720v720H120Zm60-500h600v-160H180v160Zm220 220h160v-160H400v160Zm0 220h160v-160H400v160ZM180-400h160v-160H180v160Zm440 0h160v-160H620v160ZM180-180h160v-160H180v160Zm440 0h160v-160H620v160Z\"/>\n",
              "  </svg>\n",
              "    </button>\n",
              "\n",
              "  <style>\n",
              "    .colab-df-container {\n",
              "      display:flex;\n",
              "      gap: 12px;\n",
              "    }\n",
              "\n",
              "    .colab-df-convert {\n",
              "      background-color: #E8F0FE;\n",
              "      border: none;\n",
              "      border-radius: 50%;\n",
              "      cursor: pointer;\n",
              "      display: none;\n",
              "      fill: #1967D2;\n",
              "      height: 32px;\n",
              "      padding: 0 0 0 0;\n",
              "      width: 32px;\n",
              "    }\n",
              "\n",
              "    .colab-df-convert:hover {\n",
              "      background-color: #E2EBFA;\n",
              "      box-shadow: 0px 1px 2px rgba(60, 64, 67, 0.3), 0px 1px 3px 1px rgba(60, 64, 67, 0.15);\n",
              "      fill: #174EA6;\n",
              "    }\n",
              "\n",
              "    .colab-df-buttons div {\n",
              "      margin-bottom: 4px;\n",
              "    }\n",
              "\n",
              "    [theme=dark] .colab-df-convert {\n",
              "      background-color: #3B4455;\n",
              "      fill: #D2E3FC;\n",
              "    }\n",
              "\n",
              "    [theme=dark] .colab-df-convert:hover {\n",
              "      background-color: #434B5C;\n",
              "      box-shadow: 0px 1px 3px 1px rgba(0, 0, 0, 0.15);\n",
              "      filter: drop-shadow(0px 1px 2px rgba(0, 0, 0, 0.3));\n",
              "      fill: #FFFFFF;\n",
              "    }\n",
              "  </style>\n",
              "\n",
              "    <script>\n",
              "      const buttonEl =\n",
              "        document.querySelector('#df-d40a05f8-fabf-483d-ae96-f5772d0c9629 button.colab-df-convert');\n",
              "      buttonEl.style.display =\n",
              "        google.colab.kernel.accessAllowed ? 'block' : 'none';\n",
              "\n",
              "      async function convertToInteractive(key) {\n",
              "        const element = document.querySelector('#df-d40a05f8-fabf-483d-ae96-f5772d0c9629');\n",
              "        const dataTable =\n",
              "          await google.colab.kernel.invokeFunction('convertToInteractive',\n",
              "                                                    [key], {});\n",
              "        if (!dataTable) return;\n",
              "\n",
              "        const docLinkHtml = 'Like what you see? Visit the ' +\n",
              "          '<a target=\"_blank\" href=https://colab.research.google.com/notebooks/data_table.ipynb>data table notebook</a>'\n",
              "          + ' to learn more about interactive tables.';\n",
              "        element.innerHTML = '';\n",
              "        dataTable['output_type'] = 'display_data';\n",
              "        await google.colab.output.renderOutput(dataTable, element);\n",
              "        const docLink = document.createElement('div');\n",
              "        docLink.innerHTML = docLinkHtml;\n",
              "        element.appendChild(docLink);\n",
              "      }\n",
              "    </script>\n",
              "  </div>\n",
              "\n",
              "\n",
              "<div id=\"df-49a22eb6-962b-493d-8745-2da3da771288\">\n",
              "  <button class=\"colab-df-quickchart\" onclick=\"quickchart('df-49a22eb6-962b-493d-8745-2da3da771288')\"\n",
              "            title=\"Suggest charts\"\n",
              "            style=\"display:none;\">\n",
              "\n",
              "<svg xmlns=\"http://www.w3.org/2000/svg\" height=\"24px\"viewBox=\"0 0 24 24\"\n",
              "     width=\"24px\">\n",
              "    <g>\n",
              "        <path d=\"M19 3H5c-1.1 0-2 .9-2 2v14c0 1.1.9 2 2 2h14c1.1 0 2-.9 2-2V5c0-1.1-.9-2-2-2zM9 17H7v-7h2v7zm4 0h-2V7h2v10zm4 0h-2v-4h2v4z\"/>\n",
              "    </g>\n",
              "</svg>\n",
              "  </button>\n",
              "\n",
              "<style>\n",
              "  .colab-df-quickchart {\n",
              "      --bg-color: #E8F0FE;\n",
              "      --fill-color: #1967D2;\n",
              "      --hover-bg-color: #E2EBFA;\n",
              "      --hover-fill-color: #174EA6;\n",
              "      --disabled-fill-color: #AAA;\n",
              "      --disabled-bg-color: #DDD;\n",
              "  }\n",
              "\n",
              "  [theme=dark] .colab-df-quickchart {\n",
              "      --bg-color: #3B4455;\n",
              "      --fill-color: #D2E3FC;\n",
              "      --hover-bg-color: #434B5C;\n",
              "      --hover-fill-color: #FFFFFF;\n",
              "      --disabled-bg-color: #3B4455;\n",
              "      --disabled-fill-color: #666;\n",
              "  }\n",
              "\n",
              "  .colab-df-quickchart {\n",
              "    background-color: var(--bg-color);\n",
              "    border: none;\n",
              "    border-radius: 50%;\n",
              "    cursor: pointer;\n",
              "    display: none;\n",
              "    fill: var(--fill-color);\n",
              "    height: 32px;\n",
              "    padding: 0;\n",
              "    width: 32px;\n",
              "  }\n",
              "\n",
              "  .colab-df-quickchart:hover {\n",
              "    background-color: var(--hover-bg-color);\n",
              "    box-shadow: 0 1px 2px rgba(60, 64, 67, 0.3), 0 1px 3px 1px rgba(60, 64, 67, 0.15);\n",
              "    fill: var(--button-hover-fill-color);\n",
              "  }\n",
              "\n",
              "  .colab-df-quickchart-complete:disabled,\n",
              "  .colab-df-quickchart-complete:disabled:hover {\n",
              "    background-color: var(--disabled-bg-color);\n",
              "    fill: var(--disabled-fill-color);\n",
              "    box-shadow: none;\n",
              "  }\n",
              "\n",
              "  .colab-df-spinner {\n",
              "    border: 2px solid var(--fill-color);\n",
              "    border-color: transparent;\n",
              "    border-bottom-color: var(--fill-color);\n",
              "    animation:\n",
              "      spin 1s steps(1) infinite;\n",
              "  }\n",
              "\n",
              "  @keyframes spin {\n",
              "    0% {\n",
              "      border-color: transparent;\n",
              "      border-bottom-color: var(--fill-color);\n",
              "      border-left-color: var(--fill-color);\n",
              "    }\n",
              "    20% {\n",
              "      border-color: transparent;\n",
              "      border-left-color: var(--fill-color);\n",
              "      border-top-color: var(--fill-color);\n",
              "    }\n",
              "    30% {\n",
              "      border-color: transparent;\n",
              "      border-left-color: var(--fill-color);\n",
              "      border-top-color: var(--fill-color);\n",
              "      border-right-color: var(--fill-color);\n",
              "    }\n",
              "    40% {\n",
              "      border-color: transparent;\n",
              "      border-right-color: var(--fill-color);\n",
              "      border-top-color: var(--fill-color);\n",
              "    }\n",
              "    60% {\n",
              "      border-color: transparent;\n",
              "      border-right-color: var(--fill-color);\n",
              "    }\n",
              "    80% {\n",
              "      border-color: transparent;\n",
              "      border-right-color: var(--fill-color);\n",
              "      border-bottom-color: var(--fill-color);\n",
              "    }\n",
              "    90% {\n",
              "      border-color: transparent;\n",
              "      border-bottom-color: var(--fill-color);\n",
              "    }\n",
              "  }\n",
              "</style>\n",
              "\n",
              "  <script>\n",
              "    async function quickchart(key) {\n",
              "      const quickchartButtonEl =\n",
              "        document.querySelector('#' + key + ' button');\n",
              "      quickchartButtonEl.disabled = true;  // To prevent multiple clicks.\n",
              "      quickchartButtonEl.classList.add('colab-df-spinner');\n",
              "      try {\n",
              "        const charts = await google.colab.kernel.invokeFunction(\n",
              "            'suggestCharts', [key], {});\n",
              "      } catch (error) {\n",
              "        console.error('Error during call to suggestCharts:', error);\n",
              "      }\n",
              "      quickchartButtonEl.classList.remove('colab-df-spinner');\n",
              "      quickchartButtonEl.classList.add('colab-df-quickchart-complete');\n",
              "    }\n",
              "    (() => {\n",
              "      let quickchartButtonEl =\n",
              "        document.querySelector('#df-49a22eb6-962b-493d-8745-2da3da771288 button');\n",
              "      quickchartButtonEl.style.display =\n",
              "        google.colab.kernel.accessAllowed ? 'block' : 'none';\n",
              "    })();\n",
              "  </script>\n",
              "</div>\n",
              "    </div>\n",
              "  </div>\n"
            ],
            "application/vnd.google.colaboratory.intrinsic+json": {
              "type": "dataframe",
              "variable_name": "df",
              "summary": "{\n  \"name\": \"df\",\n  \"rows\": 1103,\n  \"fields\": [\n    {\n      \"column\": \"Chittagonian\",\n      \"properties\": {\n        \"dtype\": \"string\",\n        \"num_unique_values\": 941,\n        \"samples\": [\n          \"\\u0995\\u09be\\u09b6\\u09bf\\u09b0 \\u0985\\u09b6\\u09c1\\u09a6\\u09cd\\u200c \\u0996\",\n          \"\\u0986\\u0993\\u09b8\\u09cd\\u200c\\u09a4\\u09be\",\n          \"\\u0986\\u0981\\u099a\\u09c1\\u2019\\u09b0\\u09a8\\u09cd\\u200c\"\n        ],\n        \"semantic_type\": \"\",\n        \"description\": \"\"\n      }\n    },\n    {\n      \"column\": \"Bengali\",\n      \"properties\": {\n        \"dtype\": \"string\",\n        \"num_unique_values\": 939,\n        \"samples\": [\n          \"\\u09a4\\u09cb\\u09b0\\u09c7 \\u09ac\\u09cb\\u0995\\u09be \\u09ac\\u09be\\u09a8\\u09be\\u0987\\u09b2\\u09cb\",\n          \"\\u0995\\u09c1\\u0995\\u09c1\\u09b0\",\n          \"\\u0985\\u09b8\\u09ae\\u09af\\u09bc\\u09c7\\u09b0\"\n        ],\n        \"semantic_type\": \"\",\n        \"description\": \"\"\n      }\n    }\n  ]\n}"
            }
          },
          "metadata": {},
          "execution_count": 85
        }
      ],
      "source": [
        "df.head()"
      ]
    },
    {
      "cell_type": "code",
      "execution_count": 86,
      "metadata": {
        "id": "lXp1WqvCQwT0"
      },
      "outputs": [],
      "source": [
        "#df.drop(columns=\"Chittagonian\")"
      ]
    },
    {
      "cell_type": "code",
      "execution_count": 87,
      "metadata": {
        "id": "irDK4aTSTBA_"
      },
      "outputs": [],
      "source": [
        "#df.dropna(subset=None, inplace=True)"
      ]
    },
    {
      "cell_type": "code",
      "execution_count": 89,
      "metadata": {
        "id": "RiK9prY5Pee4"
      },
      "outputs": [],
      "source": [
        "ctg_tokenizer = Tokenizer()\n",
        "ctg_tokenizer.fit_on_texts(df['Bengali'])\n",
        "bn_tokenizer = Tokenizer()\n",
        "bn_tokenizer.fit_on_texts(df['Chittagonian'])\n",
        "\n",
        "ctg_vocab = len(ctg_tokenizer.word_index) + 1\n",
        "bn_vocab = len(bn_tokenizer.word_index) + 1\n",
        "ctg_length = 170  # Maximum Bangla sentence length\n",
        "bn_length = 170\n"
      ]
    },
    {
      "cell_type": "code",
      "execution_count": 90,
      "metadata": {
        "colab": {
          "base_uri": "https://localhost:8080/",
          "height": 226
        },
        "id": "YPASVKx4TanO",
        "outputId": "bb9eff9e-9ae3-4c54-cbda-b5c0aa9cecf1"
      },
      "outputs": [
        {
          "output_type": "execute_result",
          "data": {
            "text/plain": [
              "                    Chittagonian                     Bengali\n",
              "0                            আঁর                        আমার\n",
              "1                          বাড়ি                        বারি\n",
              "2                          আঁরার                      আমাদের\n",
              "3  আঁরো বারিত কনো কিয়া নো আইয়ি  আমাদের বাড়িতে কেউ আসে নাই\n",
              "4                         আলমিরা                      আলমারি"
            ],
            "text/html": [
              "\n",
              "  <div id=\"df-db6994d4-aef5-4252-8514-c6591a3e9964\" class=\"colab-df-container\">\n",
              "    <div>\n",
              "<style scoped>\n",
              "    .dataframe tbody tr th:only-of-type {\n",
              "        vertical-align: middle;\n",
              "    }\n",
              "\n",
              "    .dataframe tbody tr th {\n",
              "        vertical-align: top;\n",
              "    }\n",
              "\n",
              "    .dataframe thead th {\n",
              "        text-align: right;\n",
              "    }\n",
              "</style>\n",
              "<table border=\"1\" class=\"dataframe\">\n",
              "  <thead>\n",
              "    <tr style=\"text-align: right;\">\n",
              "      <th></th>\n",
              "      <th>Chittagonian</th>\n",
              "      <th>Bengali</th>\n",
              "    </tr>\n",
              "  </thead>\n",
              "  <tbody>\n",
              "    <tr>\n",
              "      <th>0</th>\n",
              "      <td>আঁর</td>\n",
              "      <td>আমার</td>\n",
              "    </tr>\n",
              "    <tr>\n",
              "      <th>1</th>\n",
              "      <td>বাড়ি</td>\n",
              "      <td>বারি</td>\n",
              "    </tr>\n",
              "    <tr>\n",
              "      <th>2</th>\n",
              "      <td>আঁরার</td>\n",
              "      <td>আমাদের</td>\n",
              "    </tr>\n",
              "    <tr>\n",
              "      <th>3</th>\n",
              "      <td>আঁরো বারিত কনো কিয়া নো আইয়ি</td>\n",
              "      <td>আমাদের বাড়িতে কেউ আসে নাই</td>\n",
              "    </tr>\n",
              "    <tr>\n",
              "      <th>4</th>\n",
              "      <td>আলমিরা</td>\n",
              "      <td>আলমারি</td>\n",
              "    </tr>\n",
              "  </tbody>\n",
              "</table>\n",
              "</div>\n",
              "    <div class=\"colab-df-buttons\">\n",
              "\n",
              "  <div class=\"colab-df-container\">\n",
              "    <button class=\"colab-df-convert\" onclick=\"convertToInteractive('df-db6994d4-aef5-4252-8514-c6591a3e9964')\"\n",
              "            title=\"Convert this dataframe to an interactive table.\"\n",
              "            style=\"display:none;\">\n",
              "\n",
              "  <svg xmlns=\"http://www.w3.org/2000/svg\" height=\"24px\" viewBox=\"0 -960 960 960\">\n",
              "    <path d=\"M120-120v-720h720v720H120Zm60-500h600v-160H180v160Zm220 220h160v-160H400v160Zm0 220h160v-160H400v160ZM180-400h160v-160H180v160Zm440 0h160v-160H620v160ZM180-180h160v-160H180v160Zm440 0h160v-160H620v160Z\"/>\n",
              "  </svg>\n",
              "    </button>\n",
              "\n",
              "  <style>\n",
              "    .colab-df-container {\n",
              "      display:flex;\n",
              "      gap: 12px;\n",
              "    }\n",
              "\n",
              "    .colab-df-convert {\n",
              "      background-color: #E8F0FE;\n",
              "      border: none;\n",
              "      border-radius: 50%;\n",
              "      cursor: pointer;\n",
              "      display: none;\n",
              "      fill: #1967D2;\n",
              "      height: 32px;\n",
              "      padding: 0 0 0 0;\n",
              "      width: 32px;\n",
              "    }\n",
              "\n",
              "    .colab-df-convert:hover {\n",
              "      background-color: #E2EBFA;\n",
              "      box-shadow: 0px 1px 2px rgba(60, 64, 67, 0.3), 0px 1px 3px 1px rgba(60, 64, 67, 0.15);\n",
              "      fill: #174EA6;\n",
              "    }\n",
              "\n",
              "    .colab-df-buttons div {\n",
              "      margin-bottom: 4px;\n",
              "    }\n",
              "\n",
              "    [theme=dark] .colab-df-convert {\n",
              "      background-color: #3B4455;\n",
              "      fill: #D2E3FC;\n",
              "    }\n",
              "\n",
              "    [theme=dark] .colab-df-convert:hover {\n",
              "      background-color: #434B5C;\n",
              "      box-shadow: 0px 1px 3px 1px rgba(0, 0, 0, 0.15);\n",
              "      filter: drop-shadow(0px 1px 2px rgba(0, 0, 0, 0.3));\n",
              "      fill: #FFFFFF;\n",
              "    }\n",
              "  </style>\n",
              "\n",
              "    <script>\n",
              "      const buttonEl =\n",
              "        document.querySelector('#df-db6994d4-aef5-4252-8514-c6591a3e9964 button.colab-df-convert');\n",
              "      buttonEl.style.display =\n",
              "        google.colab.kernel.accessAllowed ? 'block' : 'none';\n",
              "\n",
              "      async function convertToInteractive(key) {\n",
              "        const element = document.querySelector('#df-db6994d4-aef5-4252-8514-c6591a3e9964');\n",
              "        const dataTable =\n",
              "          await google.colab.kernel.invokeFunction('convertToInteractive',\n",
              "                                                    [key], {});\n",
              "        if (!dataTable) return;\n",
              "\n",
              "        const docLinkHtml = 'Like what you see? Visit the ' +\n",
              "          '<a target=\"_blank\" href=https://colab.research.google.com/notebooks/data_table.ipynb>data table notebook</a>'\n",
              "          + ' to learn more about interactive tables.';\n",
              "        element.innerHTML = '';\n",
              "        dataTable['output_type'] = 'display_data';\n",
              "        await google.colab.output.renderOutput(dataTable, element);\n",
              "        const docLink = document.createElement('div');\n",
              "        docLink.innerHTML = docLinkHtml;\n",
              "        element.appendChild(docLink);\n",
              "      }\n",
              "    </script>\n",
              "  </div>\n",
              "\n",
              "\n",
              "<div id=\"df-9bce9280-4d59-452c-9988-9d2a2e259630\">\n",
              "  <button class=\"colab-df-quickchart\" onclick=\"quickchart('df-9bce9280-4d59-452c-9988-9d2a2e259630')\"\n",
              "            title=\"Suggest charts\"\n",
              "            style=\"display:none;\">\n",
              "\n",
              "<svg xmlns=\"http://www.w3.org/2000/svg\" height=\"24px\"viewBox=\"0 0 24 24\"\n",
              "     width=\"24px\">\n",
              "    <g>\n",
              "        <path d=\"M19 3H5c-1.1 0-2 .9-2 2v14c0 1.1.9 2 2 2h14c1.1 0 2-.9 2-2V5c0-1.1-.9-2-2-2zM9 17H7v-7h2v7zm4 0h-2V7h2v10zm4 0h-2v-4h2v4z\"/>\n",
              "    </g>\n",
              "</svg>\n",
              "  </button>\n",
              "\n",
              "<style>\n",
              "  .colab-df-quickchart {\n",
              "      --bg-color: #E8F0FE;\n",
              "      --fill-color: #1967D2;\n",
              "      --hover-bg-color: #E2EBFA;\n",
              "      --hover-fill-color: #174EA6;\n",
              "      --disabled-fill-color: #AAA;\n",
              "      --disabled-bg-color: #DDD;\n",
              "  }\n",
              "\n",
              "  [theme=dark] .colab-df-quickchart {\n",
              "      --bg-color: #3B4455;\n",
              "      --fill-color: #D2E3FC;\n",
              "      --hover-bg-color: #434B5C;\n",
              "      --hover-fill-color: #FFFFFF;\n",
              "      --disabled-bg-color: #3B4455;\n",
              "      --disabled-fill-color: #666;\n",
              "  }\n",
              "\n",
              "  .colab-df-quickchart {\n",
              "    background-color: var(--bg-color);\n",
              "    border: none;\n",
              "    border-radius: 50%;\n",
              "    cursor: pointer;\n",
              "    display: none;\n",
              "    fill: var(--fill-color);\n",
              "    height: 32px;\n",
              "    padding: 0;\n",
              "    width: 32px;\n",
              "  }\n",
              "\n",
              "  .colab-df-quickchart:hover {\n",
              "    background-color: var(--hover-bg-color);\n",
              "    box-shadow: 0 1px 2px rgba(60, 64, 67, 0.3), 0 1px 3px 1px rgba(60, 64, 67, 0.15);\n",
              "    fill: var(--button-hover-fill-color);\n",
              "  }\n",
              "\n",
              "  .colab-df-quickchart-complete:disabled,\n",
              "  .colab-df-quickchart-complete:disabled:hover {\n",
              "    background-color: var(--disabled-bg-color);\n",
              "    fill: var(--disabled-fill-color);\n",
              "    box-shadow: none;\n",
              "  }\n",
              "\n",
              "  .colab-df-spinner {\n",
              "    border: 2px solid var(--fill-color);\n",
              "    border-color: transparent;\n",
              "    border-bottom-color: var(--fill-color);\n",
              "    animation:\n",
              "      spin 1s steps(1) infinite;\n",
              "  }\n",
              "\n",
              "  @keyframes spin {\n",
              "    0% {\n",
              "      border-color: transparent;\n",
              "      border-bottom-color: var(--fill-color);\n",
              "      border-left-color: var(--fill-color);\n",
              "    }\n",
              "    20% {\n",
              "      border-color: transparent;\n",
              "      border-left-color: var(--fill-color);\n",
              "      border-top-color: var(--fill-color);\n",
              "    }\n",
              "    30% {\n",
              "      border-color: transparent;\n",
              "      border-left-color: var(--fill-color);\n",
              "      border-top-color: var(--fill-color);\n",
              "      border-right-color: var(--fill-color);\n",
              "    }\n",
              "    40% {\n",
              "      border-color: transparent;\n",
              "      border-right-color: var(--fill-color);\n",
              "      border-top-color: var(--fill-color);\n",
              "    }\n",
              "    60% {\n",
              "      border-color: transparent;\n",
              "      border-right-color: var(--fill-color);\n",
              "    }\n",
              "    80% {\n",
              "      border-color: transparent;\n",
              "      border-right-color: var(--fill-color);\n",
              "      border-bottom-color: var(--fill-color);\n",
              "    }\n",
              "    90% {\n",
              "      border-color: transparent;\n",
              "      border-bottom-color: var(--fill-color);\n",
              "    }\n",
              "  }\n",
              "</style>\n",
              "\n",
              "  <script>\n",
              "    async function quickchart(key) {\n",
              "      const quickchartButtonEl =\n",
              "        document.querySelector('#' + key + ' button');\n",
              "      quickchartButtonEl.disabled = true;  // To prevent multiple clicks.\n",
              "      quickchartButtonEl.classList.add('colab-df-spinner');\n",
              "      try {\n",
              "        const charts = await google.colab.kernel.invokeFunction(\n",
              "            'suggestCharts', [key], {});\n",
              "      } catch (error) {\n",
              "        console.error('Error during call to suggestCharts:', error);\n",
              "      }\n",
              "      quickchartButtonEl.classList.remove('colab-df-spinner');\n",
              "      quickchartButtonEl.classList.add('colab-df-quickchart-complete');\n",
              "    }\n",
              "    (() => {\n",
              "      let quickchartButtonEl =\n",
              "        document.querySelector('#df-9bce9280-4d59-452c-9988-9d2a2e259630 button');\n",
              "      quickchartButtonEl.style.display =\n",
              "        google.colab.kernel.accessAllowed ? 'block' : 'none';\n",
              "    })();\n",
              "  </script>\n",
              "</div>\n",
              "    </div>\n",
              "  </div>\n"
            ],
            "application/vnd.google.colaboratory.intrinsic+json": {
              "type": "dataframe",
              "variable_name": "df",
              "summary": "{\n  \"name\": \"df\",\n  \"rows\": 1103,\n  \"fields\": [\n    {\n      \"column\": \"Chittagonian\",\n      \"properties\": {\n        \"dtype\": \"string\",\n        \"num_unique_values\": 941,\n        \"samples\": [\n          \"\\u0995\\u09be\\u09b6\\u09bf\\u09b0 \\u0985\\u09b6\\u09c1\\u09a6\\u09cd\\u200c \\u0996\",\n          \"\\u0986\\u0993\\u09b8\\u09cd\\u200c\\u09a4\\u09be\",\n          \"\\u0986\\u0981\\u099a\\u09c1\\u2019\\u09b0\\u09a8\\u09cd\\u200c\"\n        ],\n        \"semantic_type\": \"\",\n        \"description\": \"\"\n      }\n    },\n    {\n      \"column\": \"Bengali\",\n      \"properties\": {\n        \"dtype\": \"string\",\n        \"num_unique_values\": 939,\n        \"samples\": [\n          \"\\u09a4\\u09cb\\u09b0\\u09c7 \\u09ac\\u09cb\\u0995\\u09be \\u09ac\\u09be\\u09a8\\u09be\\u0987\\u09b2\\u09cb\",\n          \"\\u0995\\u09c1\\u0995\\u09c1\\u09b0\",\n          \"\\u0985\\u09b8\\u09ae\\u09af\\u09bc\\u09c7\\u09b0\"\n        ],\n        \"semantic_type\": \"\",\n        \"description\": \"\"\n      }\n    }\n  ]\n}"
            }
          },
          "metadata": {},
          "execution_count": 90
        }
      ],
      "source": [
        "df.head()"
      ]
    },
    {
      "cell_type": "code",
      "execution_count": 91,
      "metadata": {
        "id": "fI1Jqi8iTfGZ"
      },
      "outputs": [],
      "source": [
        "#df = df.iloc[:, :-1]"
      ]
    },
    {
      "cell_type": "code",
      "execution_count": 92,
      "metadata": {
        "colab": {
          "base_uri": "https://localhost:8080/",
          "height": 226
        },
        "id": "oPPqTZdOTgpO",
        "outputId": "34a868e7-28d9-4297-c7db-6f53078d0f15"
      },
      "outputs": [
        {
          "output_type": "execute_result",
          "data": {
            "text/plain": [
              "                    Chittagonian                     Bengali\n",
              "0                            আঁর                        আমার\n",
              "1                          বাড়ি                        বারি\n",
              "2                          আঁরার                      আমাদের\n",
              "3  আঁরো বারিত কনো কিয়া নো আইয়ি  আমাদের বাড়িতে কেউ আসে নাই\n",
              "4                         আলমিরা                      আলমারি"
            ],
            "text/html": [
              "\n",
              "  <div id=\"df-5eb5a49f-7b62-41f6-97b2-73a78adad521\" class=\"colab-df-container\">\n",
              "    <div>\n",
              "<style scoped>\n",
              "    .dataframe tbody tr th:only-of-type {\n",
              "        vertical-align: middle;\n",
              "    }\n",
              "\n",
              "    .dataframe tbody tr th {\n",
              "        vertical-align: top;\n",
              "    }\n",
              "\n",
              "    .dataframe thead th {\n",
              "        text-align: right;\n",
              "    }\n",
              "</style>\n",
              "<table border=\"1\" class=\"dataframe\">\n",
              "  <thead>\n",
              "    <tr style=\"text-align: right;\">\n",
              "      <th></th>\n",
              "      <th>Chittagonian</th>\n",
              "      <th>Bengali</th>\n",
              "    </tr>\n",
              "  </thead>\n",
              "  <tbody>\n",
              "    <tr>\n",
              "      <th>0</th>\n",
              "      <td>আঁর</td>\n",
              "      <td>আমার</td>\n",
              "    </tr>\n",
              "    <tr>\n",
              "      <th>1</th>\n",
              "      <td>বাড়ি</td>\n",
              "      <td>বারি</td>\n",
              "    </tr>\n",
              "    <tr>\n",
              "      <th>2</th>\n",
              "      <td>আঁরার</td>\n",
              "      <td>আমাদের</td>\n",
              "    </tr>\n",
              "    <tr>\n",
              "      <th>3</th>\n",
              "      <td>আঁরো বারিত কনো কিয়া নো আইয়ি</td>\n",
              "      <td>আমাদের বাড়িতে কেউ আসে নাই</td>\n",
              "    </tr>\n",
              "    <tr>\n",
              "      <th>4</th>\n",
              "      <td>আলমিরা</td>\n",
              "      <td>আলমারি</td>\n",
              "    </tr>\n",
              "  </tbody>\n",
              "</table>\n",
              "</div>\n",
              "    <div class=\"colab-df-buttons\">\n",
              "\n",
              "  <div class=\"colab-df-container\">\n",
              "    <button class=\"colab-df-convert\" onclick=\"convertToInteractive('df-5eb5a49f-7b62-41f6-97b2-73a78adad521')\"\n",
              "            title=\"Convert this dataframe to an interactive table.\"\n",
              "            style=\"display:none;\">\n",
              "\n",
              "  <svg xmlns=\"http://www.w3.org/2000/svg\" height=\"24px\" viewBox=\"0 -960 960 960\">\n",
              "    <path d=\"M120-120v-720h720v720H120Zm60-500h600v-160H180v160Zm220 220h160v-160H400v160Zm0 220h160v-160H400v160ZM180-400h160v-160H180v160Zm440 0h160v-160H620v160ZM180-180h160v-160H180v160Zm440 0h160v-160H620v160Z\"/>\n",
              "  </svg>\n",
              "    </button>\n",
              "\n",
              "  <style>\n",
              "    .colab-df-container {\n",
              "      display:flex;\n",
              "      gap: 12px;\n",
              "    }\n",
              "\n",
              "    .colab-df-convert {\n",
              "      background-color: #E8F0FE;\n",
              "      border: none;\n",
              "      border-radius: 50%;\n",
              "      cursor: pointer;\n",
              "      display: none;\n",
              "      fill: #1967D2;\n",
              "      height: 32px;\n",
              "      padding: 0 0 0 0;\n",
              "      width: 32px;\n",
              "    }\n",
              "\n",
              "    .colab-df-convert:hover {\n",
              "      background-color: #E2EBFA;\n",
              "      box-shadow: 0px 1px 2px rgba(60, 64, 67, 0.3), 0px 1px 3px 1px rgba(60, 64, 67, 0.15);\n",
              "      fill: #174EA6;\n",
              "    }\n",
              "\n",
              "    .colab-df-buttons div {\n",
              "      margin-bottom: 4px;\n",
              "    }\n",
              "\n",
              "    [theme=dark] .colab-df-convert {\n",
              "      background-color: #3B4455;\n",
              "      fill: #D2E3FC;\n",
              "    }\n",
              "\n",
              "    [theme=dark] .colab-df-convert:hover {\n",
              "      background-color: #434B5C;\n",
              "      box-shadow: 0px 1px 3px 1px rgba(0, 0, 0, 0.15);\n",
              "      filter: drop-shadow(0px 1px 2px rgba(0, 0, 0, 0.3));\n",
              "      fill: #FFFFFF;\n",
              "    }\n",
              "  </style>\n",
              "\n",
              "    <script>\n",
              "      const buttonEl =\n",
              "        document.querySelector('#df-5eb5a49f-7b62-41f6-97b2-73a78adad521 button.colab-df-convert');\n",
              "      buttonEl.style.display =\n",
              "        google.colab.kernel.accessAllowed ? 'block' : 'none';\n",
              "\n",
              "      async function convertToInteractive(key) {\n",
              "        const element = document.querySelector('#df-5eb5a49f-7b62-41f6-97b2-73a78adad521');\n",
              "        const dataTable =\n",
              "          await google.colab.kernel.invokeFunction('convertToInteractive',\n",
              "                                                    [key], {});\n",
              "        if (!dataTable) return;\n",
              "\n",
              "        const docLinkHtml = 'Like what you see? Visit the ' +\n",
              "          '<a target=\"_blank\" href=https://colab.research.google.com/notebooks/data_table.ipynb>data table notebook</a>'\n",
              "          + ' to learn more about interactive tables.';\n",
              "        element.innerHTML = '';\n",
              "        dataTable['output_type'] = 'display_data';\n",
              "        await google.colab.output.renderOutput(dataTable, element);\n",
              "        const docLink = document.createElement('div');\n",
              "        docLink.innerHTML = docLinkHtml;\n",
              "        element.appendChild(docLink);\n",
              "      }\n",
              "    </script>\n",
              "  </div>\n",
              "\n",
              "\n",
              "<div id=\"df-a207f363-a736-4319-9f28-eba0ccbed090\">\n",
              "  <button class=\"colab-df-quickchart\" onclick=\"quickchart('df-a207f363-a736-4319-9f28-eba0ccbed090')\"\n",
              "            title=\"Suggest charts\"\n",
              "            style=\"display:none;\">\n",
              "\n",
              "<svg xmlns=\"http://www.w3.org/2000/svg\" height=\"24px\"viewBox=\"0 0 24 24\"\n",
              "     width=\"24px\">\n",
              "    <g>\n",
              "        <path d=\"M19 3H5c-1.1 0-2 .9-2 2v14c0 1.1.9 2 2 2h14c1.1 0 2-.9 2-2V5c0-1.1-.9-2-2-2zM9 17H7v-7h2v7zm4 0h-2V7h2v10zm4 0h-2v-4h2v4z\"/>\n",
              "    </g>\n",
              "</svg>\n",
              "  </button>\n",
              "\n",
              "<style>\n",
              "  .colab-df-quickchart {\n",
              "      --bg-color: #E8F0FE;\n",
              "      --fill-color: #1967D2;\n",
              "      --hover-bg-color: #E2EBFA;\n",
              "      --hover-fill-color: #174EA6;\n",
              "      --disabled-fill-color: #AAA;\n",
              "      --disabled-bg-color: #DDD;\n",
              "  }\n",
              "\n",
              "  [theme=dark] .colab-df-quickchart {\n",
              "      --bg-color: #3B4455;\n",
              "      --fill-color: #D2E3FC;\n",
              "      --hover-bg-color: #434B5C;\n",
              "      --hover-fill-color: #FFFFFF;\n",
              "      --disabled-bg-color: #3B4455;\n",
              "      --disabled-fill-color: #666;\n",
              "  }\n",
              "\n",
              "  .colab-df-quickchart {\n",
              "    background-color: var(--bg-color);\n",
              "    border: none;\n",
              "    border-radius: 50%;\n",
              "    cursor: pointer;\n",
              "    display: none;\n",
              "    fill: var(--fill-color);\n",
              "    height: 32px;\n",
              "    padding: 0;\n",
              "    width: 32px;\n",
              "  }\n",
              "\n",
              "  .colab-df-quickchart:hover {\n",
              "    background-color: var(--hover-bg-color);\n",
              "    box-shadow: 0 1px 2px rgba(60, 64, 67, 0.3), 0 1px 3px 1px rgba(60, 64, 67, 0.15);\n",
              "    fill: var(--button-hover-fill-color);\n",
              "  }\n",
              "\n",
              "  .colab-df-quickchart-complete:disabled,\n",
              "  .colab-df-quickchart-complete:disabled:hover {\n",
              "    background-color: var(--disabled-bg-color);\n",
              "    fill: var(--disabled-fill-color);\n",
              "    box-shadow: none;\n",
              "  }\n",
              "\n",
              "  .colab-df-spinner {\n",
              "    border: 2px solid var(--fill-color);\n",
              "    border-color: transparent;\n",
              "    border-bottom-color: var(--fill-color);\n",
              "    animation:\n",
              "      spin 1s steps(1) infinite;\n",
              "  }\n",
              "\n",
              "  @keyframes spin {\n",
              "    0% {\n",
              "      border-color: transparent;\n",
              "      border-bottom-color: var(--fill-color);\n",
              "      border-left-color: var(--fill-color);\n",
              "    }\n",
              "    20% {\n",
              "      border-color: transparent;\n",
              "      border-left-color: var(--fill-color);\n",
              "      border-top-color: var(--fill-color);\n",
              "    }\n",
              "    30% {\n",
              "      border-color: transparent;\n",
              "      border-left-color: var(--fill-color);\n",
              "      border-top-color: var(--fill-color);\n",
              "      border-right-color: var(--fill-color);\n",
              "    }\n",
              "    40% {\n",
              "      border-color: transparent;\n",
              "      border-right-color: var(--fill-color);\n",
              "      border-top-color: var(--fill-color);\n",
              "    }\n",
              "    60% {\n",
              "      border-color: transparent;\n",
              "      border-right-color: var(--fill-color);\n",
              "    }\n",
              "    80% {\n",
              "      border-color: transparent;\n",
              "      border-right-color: var(--fill-color);\n",
              "      border-bottom-color: var(--fill-color);\n",
              "    }\n",
              "    90% {\n",
              "      border-color: transparent;\n",
              "      border-bottom-color: var(--fill-color);\n",
              "    }\n",
              "  }\n",
              "</style>\n",
              "\n",
              "  <script>\n",
              "    async function quickchart(key) {\n",
              "      const quickchartButtonEl =\n",
              "        document.querySelector('#' + key + ' button');\n",
              "      quickchartButtonEl.disabled = true;  // To prevent multiple clicks.\n",
              "      quickchartButtonEl.classList.add('colab-df-spinner');\n",
              "      try {\n",
              "        const charts = await google.colab.kernel.invokeFunction(\n",
              "            'suggestCharts', [key], {});\n",
              "      } catch (error) {\n",
              "        console.error('Error during call to suggestCharts:', error);\n",
              "      }\n",
              "      quickchartButtonEl.classList.remove('colab-df-spinner');\n",
              "      quickchartButtonEl.classList.add('colab-df-quickchart-complete');\n",
              "    }\n",
              "    (() => {\n",
              "      let quickchartButtonEl =\n",
              "        document.querySelector('#df-a207f363-a736-4319-9f28-eba0ccbed090 button');\n",
              "      quickchartButtonEl.style.display =\n",
              "        google.colab.kernel.accessAllowed ? 'block' : 'none';\n",
              "    })();\n",
              "  </script>\n",
              "</div>\n",
              "    </div>\n",
              "  </div>\n"
            ],
            "application/vnd.google.colaboratory.intrinsic+json": {
              "type": "dataframe",
              "variable_name": "df",
              "summary": "{\n  \"name\": \"df\",\n  \"rows\": 1103,\n  \"fields\": [\n    {\n      \"column\": \"Chittagonian\",\n      \"properties\": {\n        \"dtype\": \"string\",\n        \"num_unique_values\": 941,\n        \"samples\": [\n          \"\\u0995\\u09be\\u09b6\\u09bf\\u09b0 \\u0985\\u09b6\\u09c1\\u09a6\\u09cd\\u200c \\u0996\",\n          \"\\u0986\\u0993\\u09b8\\u09cd\\u200c\\u09a4\\u09be\",\n          \"\\u0986\\u0981\\u099a\\u09c1\\u2019\\u09b0\\u09a8\\u09cd\\u200c\"\n        ],\n        \"semantic_type\": \"\",\n        \"description\": \"\"\n      }\n    },\n    {\n      \"column\": \"Bengali\",\n      \"properties\": {\n        \"dtype\": \"string\",\n        \"num_unique_values\": 939,\n        \"samples\": [\n          \"\\u09a4\\u09cb\\u09b0\\u09c7 \\u09ac\\u09cb\\u0995\\u09be \\u09ac\\u09be\\u09a8\\u09be\\u0987\\u09b2\\u09cb\",\n          \"\\u0995\\u09c1\\u0995\\u09c1\\u09b0\",\n          \"\\u0985\\u09b8\\u09ae\\u09af\\u09bc\\u09c7\\u09b0\"\n        ],\n        \"semantic_type\": \"\",\n        \"description\": \"\"\n      }\n    }\n  ]\n}"
            }
          },
          "metadata": {},
          "execution_count": 92
        }
      ],
      "source": [
        "df.head()"
      ]
    },
    {
      "cell_type": "code",
      "execution_count": 94,
      "metadata": {
        "colab": {
          "base_uri": "https://localhost:8080/"
        },
        "id": "-id2urTCP00a",
        "outputId": "0f6b4384-b91f-458e-b676-3550d671e7c8"
      },
      "outputs": [
        {
          "output_type": "stream",
          "name": "stdout",
          "text": [
            "object\n",
            "object\n"
          ]
        }
      ],
      "source": [
        "print(df['Bengali'].dtypes)\n",
        "print(df['Chittagonian'].dtypes)"
      ]
    },
    {
      "cell_type": "code",
      "execution_count": 96,
      "metadata": {
        "id": "W7qvzD4bQe8Z"
      },
      "outputs": [],
      "source": [
        "def encoding(tokenizer, length, lines):\n",
        "    seq = tokenizer.texts_to_sequences(lines)\n",
        "    seq = pad_sequences(seq, maxlen=length, padding='post')\n",
        "    return seq\n",
        "\n",
        "# Train-Test Split\n",
        "from sklearn.model_selection import train_test_split\n",
        "\n",
        "train, test = train_test_split(df, test_size=0.2, random_state=12)\n",
        "\n",
        "# Training data\n",
        "trainX = encoding(ctg_tokenizer, ctg_length, train['Bengali'])\n",
        "trainY = encoding(bn_tokenizer, bn_length, train['Chittagonian'])\n",
        "\n",
        "# Test data\n",
        "testX = encoding(ctg_tokenizer, ctg_length, test['Bengali'])\n",
        "testY = encoding(bn_tokenizer, bn_length, test['Chittagonian'])"
      ]
    },
    {
      "cell_type": "markdown",
      "metadata": {
        "id": "HefV9YAYqkix"
      },
      "source": [
        "#LSTM"
      ]
    },
    {
      "cell_type": "code",
      "execution_count": 97,
      "metadata": {
        "id": "UU1hOpozUlyV"
      },
      "outputs": [],
      "source": [
        "from tensorflow.keras.callbacks import EarlyStopping\n",
        "\n",
        "def define_model(in_vocab, out_vocab, in_timesteps, out_timesteps, units):\n",
        "\n",
        "  model = Sequential()\n",
        "  model.add(Embedding(in_vocab, units, mask_zero=True))\n",
        "  model.add(Masking(mask_value=0.0))  # Add Masking layer after Embedding\n",
        "  # Consider using multiple LSTM layers for better performance\n",
        "  model.add(LSTM(units, return_sequences=True))  # First LSTM layer\n",
        "  model.add(LSTM(units))  # Second LSTM layer (optional)\n",
        "  model.add(RepeatVector(out_timesteps))\n",
        "  model.add(LSTM(units, return_sequences=True))  # Decoder LSTM\n",
        "  model.add(Dense(out_vocab, activation='softmax'))\n",
        "\n",
        "  # Compile model with RMSprop optimizer, sparse categorical crossentropy loss, and early stopping\n",
        "  model.compile(optimizer=RMSprop(learning_rate=0.01), loss='sparse_categorical_crossentropy')\n",
        "  early_stopping = EarlyStopping(monitor='val_loss', patience=3)\n",
        "\n",
        "  return model, early_stopping"
      ]
    },
    {
      "cell_type": "code",
      "execution_count": 98,
      "metadata": {
        "id": "qrDhDwfyVCmc"
      },
      "outputs": [],
      "source": [
        "units = 128\n",
        "model, early_stopping = define_model(ctg_vocab, bn_vocab, ctg_length, bn_length, units)\n",
        "\n",
        "model.compile(optimizer=RMSprop(learning_rate=0.01), loss='sparse_categorical_crossentropy')\n",
        "\n"
      ]
    },
    {
      "cell_type": "code",
      "execution_count": 99,
      "metadata": {
        "id": "Mzjr2ncAVMjU"
      },
      "outputs": [],
      "source": [
        "rms = optimizers.RMSprop(learning_rate=0.01)\n",
        "model.compile(optimizer=rms, loss='sparse_categorical_crossentropy',metrics=['accuracy'])"
      ]
    },
    {
      "cell_type": "code",
      "execution_count": 100,
      "metadata": {
        "colab": {
          "base_uri": "https://localhost:8080/"
        },
        "id": "cxit6cg88Z4S",
        "outputId": "09262d87-1ea2-4e7d-a492-777eb467f2ea"
      },
      "outputs": [
        {
          "output_type": "stream",
          "name": "stdout",
          "text": [
            "Epoch 1/10\n",
            "12/12 [==============================] - 16s 439ms/step - loss: 1.6181 - accuracy: 0.8998 - val_loss: 0.0900 - val_accuracy: 0.9909\n",
            "Epoch 2/10\n",
            "12/12 [==============================] - 2s 131ms/step - loss: 0.0940 - accuracy: 0.9896 - val_loss: 0.0791 - val_accuracy: 0.9909\n",
            "Epoch 3/10\n",
            "12/12 [==============================] - 1s 64ms/step - loss: 0.0881 - accuracy: 0.9896 - val_loss: 0.0774 - val_accuracy: 0.9909\n",
            "Epoch 4/10\n",
            "12/12 [==============================] - 1s 63ms/step - loss: 0.0862 - accuracy: 0.9896 - val_loss: 0.0767 - val_accuracy: 0.9909\n",
            "Epoch 5/10\n",
            "12/12 [==============================] - 1s 63ms/step - loss: 0.0853 - accuracy: 0.9896 - val_loss: 0.0766 - val_accuracy: 0.9909\n",
            "Epoch 6/10\n",
            "12/12 [==============================] - 1s 58ms/step - loss: 0.0853 - accuracy: 0.9896 - val_loss: 0.0762 - val_accuracy: 0.9909\n",
            "Epoch 7/10\n",
            "12/12 [==============================] - 1s 63ms/step - loss: 0.0844 - accuracy: 0.9896 - val_loss: 1.1383 - val_accuracy: 0.9909\n",
            "Epoch 8/10\n",
            "12/12 [==============================] - 1s 58ms/step - loss: 0.1875 - accuracy: 0.9896 - val_loss: 0.0762 - val_accuracy: 0.9909\n",
            "Epoch 9/10\n",
            "12/12 [==============================] - 1s 53ms/step - loss: 0.0853 - accuracy: 0.9896 - val_loss: 0.0758 - val_accuracy: 0.9909\n",
            "Epoch 10/10\n",
            "12/12 [==============================] - 1s 68ms/step - loss: 0.0846 - accuracy: 0.9896 - val_loss: 0.0758 - val_accuracy: 0.9909\n"
          ]
        }
      ],
      "source": [
        "history=model.fit(trainX,trainY.reshape(trainY.shape[0],trainY.shape[1],1),epochs=10,batch_size=64,validation_split=0.2)"
      ]
    },
    {
      "cell_type": "code",
      "execution_count": 101,
      "metadata": {
        "id": "1hUnUpmzVU8L",
        "colab": {
          "base_uri": "https://localhost:8080/"
        },
        "outputId": "75ecbefa-6197-422d-f7d5-3b1116d75005"
      },
      "outputs": [
        {
          "output_type": "stream",
          "name": "stdout",
          "text": [
            "7/7 [==============================] - 4s 20ms/step\n"
          ]
        }
      ],
      "source": [
        "import tensorflow as tf\n",
        "\n",
        "preds = model.predict(testX.reshape(testX.shape[0], testX.shape[1]))\n"
      ]
    },
    {
      "cell_type": "code",
      "execution_count": 102,
      "metadata": {
        "id": "gNB4ojrUAMRt",
        "colab": {
          "base_uri": "https://localhost:8080/",
          "height": 907
        },
        "outputId": "3c250ef6-3acc-4b46-fe9d-6864b1e2a85d"
      },
      "outputs": [
        {
          "output_type": "display_data",
          "data": {
            "text/plain": [
              "<Figure size 640x480 with 1 Axes>"
            ],
            "image/png": "[encoded data removed]"
          },
          "metadata": {}
        },
        {
          "output_type": "display_data",
          "data": {
            "text/plain": [
              "<Figure size 640x480 with 1 Axes>"
            ],
            "image/png": "[encoded data removed]"
          },
          "metadata": {}
        }
      ],
      "source": [
        "import matplotlib.pyplot as plt\n",
        "# Assuming history contains training and validation loss/accuracy\n",
        "train_loss = history.history['loss']\n",
        "val_loss = history.history['val_loss']\n",
        "train_acc = history.history['accuracy']  # Assuming model compiles with 'accuracy' metric\n",
        "val_acc = history.history['val_accuracy']\n",
        "\n",
        "\n",
        "# Plot loss curves\n",
        "plt.plot(train_loss, label='Train Loss')\n",
        "plt.plot(val_loss, label='Validation Loss')\n",
        "plt.title('Training and Validation Loss')\n",
        "plt.legend()\n",
        "plt.show()\n",
        "\n",
        "# Plot accuracy curves (if applicable)\n",
        "plt.plot(train_acc, label='Train Accuracy')\n",
        "plt.plot(val_acc, label='Validation Accuracy')\n",
        "plt.title('Training and Validation Accuracy')\n",
        "plt.legend()\n",
        "plt.show()\n"
      ]
    },
    {
      "cell_type": "code",
      "execution_count": 103,
      "metadata": {
        "id": "XVWW2SsFo0uQ",
        "colab": {
          "base_uri": "https://localhost:8080/"
        },
        "outputId": "27599d01-3ad9-4802-f869-9b349c966e37"
      },
      "outputs": [
        {
          "output_type": "stream",
          "name": "stdout",
          "text": [
            "Accuracy of LSTM:  98.06566298007965\n"
          ]
        }
      ],
      "source": [
        "print(\"Accuracy of LSTM: \",np.mean(train_acc)*100)"
      ]
    },
    {
      "cell_type": "markdown",
      "metadata": {
        "id": "DSCGaIpyqtHg"
      },
      "source": [
        "# Bi-LSTM\n"
      ]
    },
    {
      "cell_type": "code",
      "execution_count": 104,
      "metadata": {
        "id": "2wZNuQsmqtHh"
      },
      "outputs": [],
      "source": [
        "from tensorflow.keras.layers import Bidirectional\n",
        "\n",
        "def define_model(in_vocab, out_vocab, in_timesteps, out_timesteps, units):\n",
        "\n",
        "  model = Sequential()\n",
        "  model.add(Embedding(in_vocab, units, mask_zero=True))\n",
        "  model.add(Masking(mask_value=0.0))\n",
        "  model.add(Bidirectional(LSTM(units, return_sequences=True)))  # First BiLSTM layer\n",
        "  model.add(Bidirectional(LSTM(units)))  # Second biLSTM layer (optional)\n",
        "  model.add(RepeatVector(out_timesteps))\n",
        "  model.add(Bidirectional(LSTM(units, return_sequences=True)))  # Decoder BiLSTM\n",
        "  model.add(Dense(out_vocab, activation='softmax'))\n",
        "\n",
        "  # Compile model with RMSprop optimizer, sparse categorical crossentropy loss, and early stopping\n",
        "  model.compile(optimizer=RMSprop(learning_rate=0.01), loss='sparse_categorical_crossentropy')\n",
        "  early_stopping = EarlyStopping(monitor='val_loss', patience=3)\n",
        "\n",
        "  return model, early_stopping"
      ]
    },
    {
      "cell_type": "code",
      "execution_count": 105,
      "metadata": {
        "id": "dLjcB6y6qtHi"
      },
      "outputs": [],
      "source": [
        "units = 128\n",
        "\n",
        "model, early_stopping = define_model(ctg_vocab, bn_vocab, ctg_length, bn_length, units)\n",
        "\n",
        "model.compile(optimizer=RMSprop(learning_rate=0.01), loss='sparse_categorical_crossentropy')\n",
        "\n"
      ]
    },
    {
      "cell_type": "code",
      "execution_count": 106,
      "metadata": {
        "id": "VIUp5Kd_qtHj"
      },
      "outputs": [],
      "source": [
        "rms = optimizers.RMSprop(learning_rate=0.01)\n",
        "model.compile(optimizer=rms, loss='sparse_categorical_crossentropy',metrics=['accuracy'])"
      ]
    },
    {
      "cell_type": "code",
      "execution_count": 107,
      "metadata": {
        "id": "4SqllKjaqtHj",
        "colab": {
          "base_uri": "https://localhost:8080/"
        },
        "outputId": "590cee86-e913-4103-f811-12d35c0fd8a4"
      },
      "outputs": [
        {
          "output_type": "stream",
          "name": "stdout",
          "text": [
            "Epoch 1/10\n",
            "12/12 [==============================] - 27s 706ms/step - loss: 1.2489 - accuracy: 0.8998 - val_loss: 0.0953 - val_accuracy: 0.9909\n",
            "Epoch 2/10\n",
            "12/12 [==============================] - 2s 178ms/step - loss: 0.0943 - accuracy: 0.9896 - val_loss: 0.0804 - val_accuracy: 0.9909\n",
            "Epoch 3/10\n",
            "12/12 [==============================] - 1s 111ms/step - loss: 0.0873 - accuracy: 0.9896 - val_loss: 0.0831 - val_accuracy: 0.9909\n",
            "Epoch 4/10\n",
            "12/12 [==============================] - 1s 109ms/step - loss: 0.0870 - accuracy: 0.9896 - val_loss: 0.0823 - val_accuracy: 0.9909\n",
            "Epoch 5/10\n",
            "12/12 [==============================] - 1s 89ms/step - loss: 0.0866 - accuracy: 0.9896 - val_loss: 2.8196 - val_accuracy: 0.9471\n",
            "Epoch 6/10\n",
            "12/12 [==============================] - 1s 103ms/step - loss: 0.3842 - accuracy: 0.9859 - val_loss: 0.1054 - val_accuracy: 0.9909\n",
            "Epoch 7/10\n",
            "12/12 [==============================] - 1s 89ms/step - loss: 0.1052 - accuracy: 0.9896 - val_loss: 0.0836 - val_accuracy: 0.9909\n",
            "Epoch 8/10\n",
            "12/12 [==============================] - 1s 94ms/step - loss: 0.0886 - accuracy: 0.9896 - val_loss: 0.0806 - val_accuracy: 0.9909\n",
            "Epoch 9/10\n",
            "12/12 [==============================] - 1s 85ms/step - loss: 0.0857 - accuracy: 0.9896 - val_loss: 0.0803 - val_accuracy: 0.9909\n",
            "Epoch 10/10\n",
            "12/12 [==============================] - 1s 94ms/step - loss: 0.0845 - accuracy: 0.9896 - val_loss: 0.0807 - val_accuracy: 0.9909\n"
          ]
        }
      ],
      "source": [
        "history=model.fit(trainX,trainY.reshape(trainY.shape[0],trainY.shape[1],1),epochs=10,batch_size=64,validation_split=0.2)"
      ]
    },
    {
      "cell_type": "code",
      "execution_count": 108,
      "metadata": {
        "id": "S431TTxSqtHk",
        "colab": {
          "base_uri": "https://localhost:8080/"
        },
        "outputId": "8d9c7a13-a570-4fc8-aa24-7c01ed7e9acc"
      },
      "outputs": [
        {
          "output_type": "stream",
          "name": "stdout",
          "text": [
            "7/7 [==============================] - 9s 34ms/step\n"
          ]
        }
      ],
      "source": [
        "preds = model.predict(testX.reshape(testX.shape[0], testX.shape[1]))\n"
      ]
    },
    {
      "cell_type": "code",
      "execution_count": 109,
      "metadata": {
        "id": "_G3pejM8qtHl",
        "colab": {
          "base_uri": "https://localhost:8080/",
          "height": 907
        },
        "outputId": "f1f90847-7285-4c73-bad9-5178deb3f6eb"
      },
      "outputs": [
        {
          "output_type": "display_data",
          "data": {
            "text/plain": [
              "<Figure size 640x480 with 1 Axes>"
            ],
            "image/png": "[encoded data removed]"
          },
          "metadata": {}
        },
        {
          "output_type": "display_data",
          "data": {
            "text/plain": [
              "<Figure size 640x480 with 1 Axes>"
            ],
            "image/png": "[encoded data removed]"
          },
          "metadata": {}
        }
      ],
      "source": [
        "import matplotlib.pyplot as plt\n",
        "# Assuming history contains training and validation loss/accuracy\n",
        "train_loss = history.history['loss']\n",
        "val_loss = history.history['val_loss']\n",
        "train_acc = history.history['accuracy']  # Assuming model compiles with 'accuracy' metric\n",
        "val_acc = history.history['val_accuracy']\n",
        "\n",
        "\n",
        "# Plot loss curves\n",
        "plt.plot(train_loss, label='Train Loss')\n",
        "plt.plot(val_loss, label='Validation Loss')\n",
        "plt.title('Training and Validation Loss')\n",
        "plt.legend()\n",
        "plt.show()\n",
        "\n",
        "# Plot accuracy curves (if applicable)\n",
        "plt.plot(train_acc, label='Train Accuracy')\n",
        "plt.plot(val_acc, label='Validation Accuracy')\n",
        "plt.title('Training and Validation Accuracy')\n",
        "plt.legend()\n",
        "plt.show()\n"
      ]
    },
    {
      "cell_type": "code",
      "execution_count": 110,
      "metadata": {
        "id": "NtBiSrYlqtHm",
        "colab": {
          "base_uri": "https://localhost:8080/"
        },
        "outputId": "f90cf90f-831b-46aa-a14c-d858882e454d"
      },
      "outputs": [
        {
          "output_type": "stream",
          "name": "stdout",
          "text": [
            "Accuracy of BiLSTM:  98.02811622619629\n"
          ]
        }
      ],
      "source": [
        "print(\"Accuracy of BiLSTM: \",np.mean(train_acc)*100)"
      ]
    },
    {
      "cell_type": "code",
      "execution_count": null,
      "metadata": {
        "id": "5lZWCUq83WjT"
      },
      "outputs": [],
      "source": []
    }
  ],
  "metadata": {
    "accelerator": "GPU",
    "colab": {
      "gpuType": "T4",
      "provenance": []
    },
    "kernelspec": {
      "display_name": "Python 3",
      "name": "python3"
    },
    "language_info": {
      "name": "python"
    }
  },
  "nbformat": 4,
  "nbformat_minor": 0
}